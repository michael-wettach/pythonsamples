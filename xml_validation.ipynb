{
  "nbformat": 4,
  "nbformat_minor": 0,
  "metadata": {
    "colab": {
      "name": "xml_validation.ipynb",
      "provenance": [],
      "authorship_tag": "ABX9TyPuf90VwVixw+itN0HNBcXR",
      "include_colab_link": true
    },
    "kernelspec": {
      "name": "python3",
      "display_name": "Python 3"
    }
  },
  "cells": [
    {
      "cell_type": "markdown",
      "metadata": {
        "id": "view-in-github",
        "colab_type": "text"
      },
      "source": [
        "<a href=\"https://colab.research.google.com/github/michael-wettach/pythonsamples/blob/main/xml_validation.ipynb\" target=\"_parent\"><img src=\"https://colab.research.google.com/assets/colab-badge.svg\" alt=\"Open In Colab\"/></a>"
      ]
    },
    {
      "cell_type": "markdown",
      "metadata": {
        "id": "535je8GChw06"
      },
      "source": [
        "Jetzt wollen wir ein XML validieren."
      ]
    },
    {
      "cell_type": "code",
      "metadata": {
        "id": "xDpo0WbusytW"
      },
      "source": [
        "from lxml import etree\n",
        "from io import StringIO\n",
        "\n",
        "# open and read schema file\n",
        "with open('element_sample.xsd', 'r') as schema_file:\n",
        "    schema_to_check = schema_file.read()\n",
        "\n",
        "# open and read xml file\n",
        "with open('element_sample_valid.xml', 'r') as xml_file:\n",
        "    xml_to_check = xml_file.read()\n",
        "\n",
        "# parse the schema (assume well-formed schema, skip error checking)\n",
        "xmlschema_doc = etree.parse(StringIO(schema_to_check))\n",
        "xmlschema = etree.XMLSchema(xmlschema_doc)\n",
        "\n",
        "# parse the XML document (check for XML syntax before validation)\n",
        "try:\n",
        "    doc = etree.parse(StringIO(xml_to_check))\n",
        "    print('XML well formed, syntax ok.')\n",
        "\n",
        "# check for file IO error\n",
        "except IOError:\n",
        "    print('Invalid File')\n",
        "\n",
        "# check for XML syntax errors\n",
        "except etree.XMLSyntaxError as err:\n",
        "    print('XML Syntax Error, see error_syntax.log')\n",
        "    with open('error_syntax.log', 'w') as error_log_file:\n",
        "        error_log_file.write(str(err.error_log))\n",
        "    quit()\n",
        "\n",
        "except:\n",
        "    print('Unknown error, exiting.')\n",
        "    quit()\n",
        "\n",
        "# now that doc parsed successfully, validate against schema\n",
        "try:\n",
        "    xmlschema.assertValid(doc)\n",
        "    print('XML valid, schema validation ok.')\n",
        "\n",
        "except etree.DocumentInvalid as err:\n",
        "    print('Schema validation error, see error_schema.log')\n",
        "    with open('error_schema.log', 'w') as error_log_file:\n",
        "        error_log_file.write(str(err.error_log))\n",
        "    quit()\n",
        "\n",
        "except:\n",
        "    print('Unknown error, exiting.')\n",
        "    quit()\n"
      ],
      "execution_count": null,
      "outputs": []
    }
  ]
}