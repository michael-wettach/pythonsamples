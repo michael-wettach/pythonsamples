{
  "nbformat": 4,
  "nbformat_minor": 0,
  "metadata": {
    "colab": {
      "name": "Python_Vertiefung.ipynb",
      "provenance": [],
      "collapsed_sections": [],
      "authorship_tag": "ABX9TyNUWiJVtYPJEOpZoMT/ZcBM",
      "include_colab_link": true
    },
    "kernelspec": {
      "name": "python3",
      "display_name": "Python 3"
    },
    "language_info": {
      "name": "python"
    }
  },
  "cells": [
    {
      "cell_type": "markdown",
      "metadata": {
        "id": "view-in-github",
        "colab_type": "text"
      },
      "source": [
        "<a href=\"https://colab.research.google.com/github/michael-wettach/pythonsamples/blob/main/Python_Vertiefung.ipynb\" target=\"_parent\"><img src=\"https://colab.research.google.com/assets/colab-badge.svg\" alt=\"Open In Colab\"/></a>"
      ]
    },
    {
      "cell_type": "markdown",
      "metadata": {
        "id": "kC8di7y7JbKt"
      },
      "source": [
        "Python Einführungen als Jupyter Notebook - zum Öffnen muss man \"Private Repositories einschließen\" anhaken<br/>\n",
        "https://colab.research.google.com/github/Pierian-Data/Complete-Python-3-Bootcamp <br/>\n",
        "https://colab.research.google.com/github/ADSA-UIUC/python-series-advanced/blob/master/advanced-python-workshop-code.ipynb\n",
        "https://colab.research.google.com/github/eugeneh101/ <br/>\n",
        "https://colab.research.google.com/github/aviadr1/learn-advanced-python/ <br/>\n",
        "https://colab.research.google.com/gist/oroszgy/c976db0324eff71b9375213a34815055#file-advanced-python-topics-ipynb= <br/>\n",
        "<br/>\n",
        "Allgemein kann man auf Github nach .ipynb suchen und wenn man etwas Spannendes gefunden hat, kann man die URL so manipulieren, dass sie sich in Google Colab öffnet. Beispiel: <br/>\n",
        "<b>github.com/Pierian-Data/Complete-Python-3-Bootcamp</b> wird geändert in <br/>\n",
        "<b>colab.research.google.com/github/Pierian-Data/Complete-Python-3-Bootcamp</b> <br/>\n",
        "Für Seiten auf gist.github.com nimmt man /gist/ anstelle von /github/."
      ]
    },
    {
      "cell_type": "markdown",
      "metadata": {
        "id": "1z2-T60CiFQC"
      },
      "source": [
        "<h2>Datentypen</h2>"
      ]
    },
    {
      "cell_type": "code",
      "metadata": {
        "colab": {
          "base_uri": "https://localhost:8080/"
        },
        "id": "ced5b6yvHNBv",
        "outputId": "572c72a2-9652-42f8-a57e-e7f0bdf46db6"
      },
      "source": [
        "# Skalare Basis-Datentypen, siehe https://docs.python.org/3/library/stdtypes.html \n",
        "my_int = 123           # Integer, immutable\n",
        "my_float = 1.23        # Fließkommazahl, immutable\n",
        "                       # Complex werden wir nicht brauchen\n",
        "my_bool = True         # Boolean, immutable\n",
        "\n",
        "# Folgen von Werten\n",
        "my_str1  = '123'        # String, immutable\n",
        "my_str2  = r'1\"' + '\\\\' # String mit Sonderzeichen als Rohdaten\n",
        "my_bytes = b'\\xfe\\xfc'  # Byte Sequence, siehe https://www.w3resource.com/python/python-bytes.php\n",
        "my_list  = [1, '2', 3]  # Liste, iterierbar, Einzelwerte änderbar (mutable)\n",
        "my_tuple = (1, '2', 3)  # Tupel, iterierbar, Einzelwerte nicht änderbar (immutable)\n",
        "my_range = range(1,99)  # Range, iterierbar, Einzelwerte nicht änderbar (immutable)\n",
        "\n",
        "# Verzeichnisse von Werten\n",
        "my_set   = {1, '2', 3}  # Set, iterierbar, mutable, unique, hoch optimiert\n",
        "my_dict  = {1: 'one'}   # Dictionary, iterierbar, mutable, unique\n",
        "my_dict['2'] = 'two'    # Hinzufügen eines Elements \n",
        "print(my_dict[1])"
      ],
      "execution_count": null,
      "outputs": [
        {
          "output_type": "stream",
          "text": [
            "one\n"
          ],
          "name": "stdout"
        }
      ]
    },
    {
      "cell_type": "markdown",
      "metadata": {
        "id": "x5ASXTuQcrcS"
      },
      "source": [
        "<h2>Änderbarkeit: Mutability</h2>\n",
        "Mutable (veränderbar) heißt: es gibt für diesen Objekttyp Methoden, die den Wert verändern. <br/>\n",
        "Wir müssen unterscheiden zwischen Variablennamen bzw. Identifiers, die auf ein Objekt (z. B. einen Integer) zeigen und dem Objekt selbst. Der Variablen kann ich natürlich ein anderes Objekt zuweisen. Dadurch wird das ursprüngliche Objekt aber nicht geändert."
      ]
    },
    {
      "cell_type": "code",
      "metadata": {
        "colab": {
          "base_uri": "https://localhost:8080/"
        },
        "id": "FuDr6kPHb3DI",
        "outputId": "7b5f5ad7-78c4-4170-fc40-47781612b8d0"
      },
      "source": [
        "# Beispiel\n",
        "x = 10\n",
        "y = x\n",
        "# Jetzt haben wir ein Objekt 10 vom Typ Integer und zwei Variablen, die auf dasselbe Objekt zeigen.\n",
        "print(id(10), id(x), id(y))\n",
        "# Alle haben bis hierher dieselbe Identität."
      ],
      "execution_count": null,
      "outputs": [
        {
          "output_type": "stream",
          "text": [
            "94581881715488 94581881715488 94581881715488\n"
          ],
          "name": "stdout"
        }
      ]
    },
    {
      "cell_type": "code",
      "metadata": {
        "colab": {
          "base_uri": "https://localhost:8080/"
        },
        "id": "c55kDEOafDFJ",
        "outputId": "566e13ed-342e-489f-d46a-d620036b8bec"
      },
      "source": [
        "x = x + 1\n",
        "print(id(10), id(x), id(y))\n",
        "# Der Identifier x hat eine neue Identität, er zeigt jetzt auf ein anderes Integer-Objekt."
      ],
      "execution_count": null,
      "outputs": [
        {
          "output_type": "stream",
          "text": [
            "94581881715488 94581881715520 94581881715488\n"
          ],
          "name": "stdout"
        }
      ]
    },
    {
      "cell_type": "markdown",
      "metadata": {
        "id": "iC4Nh7gcfTXo"
      },
      "source": [
        "Bei veränderbaren Objekten, z. B. Listen, wird durch Änderung des Inhalts die Identität nicht geändert. <br/>\n",
        "Siehe https://medium.com/@meghamohan/mutable-and-immutable-side-of-python-c2145cf72747"
      ]
    },
    {
      "cell_type": "code",
      "metadata": {
        "colab": {
          "base_uri": "https://localhost:8080/"
        },
        "id": "kJ0EddGSgQFT",
        "outputId": "f32bd82d-abbd-4cad-9d31-8bd48b7159f5"
      },
      "source": [
        "m = [1, 2, 3]\n",
        "n = m\n",
        "# Jetzt haben wir zwei Identifier n und m, die auf dieselbe Liste zeigen.\n",
        "# Da die Liste veränderbar ist, bekommt jede neue Liste [1,2,3] eine neue Identität.\n",
        "print(id([1,2,3]), id(m), id(n))"
      ],
      "execution_count": null,
      "outputs": [
        {
          "output_type": "stream",
          "text": [
            "139818091936016 139818091686240 139818091686240\n"
          ],
          "name": "stdout"
        }
      ]
    },
    {
      "cell_type": "code",
      "metadata": {
        "colab": {
          "base_uri": "https://localhost:8080/"
        },
        "id": "ej-YcAn3hBzD",
        "outputId": "0e0a3a8e-7a94-4ae7-87af-0544ebb71fd1"
      },
      "source": [
        "m.pop()    # Entferne das letzte Element der Liste\n",
        "print(m)   # Was bleibt danach noch übrig?\n",
        "print(id(m), id(n))\n",
        "# Das Rauswerfen eines Listenelements ändert nicht die Identität der Liste."
      ],
      "execution_count": null,
      "outputs": [
        {
          "output_type": "stream",
          "text": [
            "[1, 2]\n",
            "139818091686240 139818091686240\n"
          ],
          "name": "stdout"
        }
      ]
    },
    {
      "cell_type": "markdown",
      "metadata": {
        "id": "qC8WIGKbf3iA"
      },
      "source": [
        "<h2>Gültigkeitsbereich: Scope von Variablen</h2>\n",
        "Eine Variable ist gültig innerhalb des Bereichs, in dem sie definiert wurde. In manchen Programmiersprachen gilt auch ein Codeblock (z. B. eine Schleife) als ein solcher Bereich, in Python aber nicht, sondern nur Function, Class und Module.\n"
      ]
    },
    {
      "cell_type": "code",
      "metadata": {
        "colab": {
          "base_uri": "https://localhost:8080/"
        },
        "id": "8rbJvyBBsBHw",
        "outputId": "8cc6d448-67d1-446f-832d-fb9904098cb1"
      },
      "source": [
        "# Wir sind hier innerhalb eines Moduls (.py Programmdatei)\n",
        "my_list = [1, 2, 3]\n",
        "j = 0\n",
        "for i in my_list:\n",
        "    j = j + i\n",
        "# Sowohl i als auch j sind nun modulweit bekannt\n",
        "print(i, j)"
      ],
      "execution_count": null,
      "outputs": [
        {
          "output_type": "stream",
          "text": [
            "3 6\n"
          ],
          "name": "stdout"
        }
      ]
    },
    {
      "cell_type": "markdown",
      "metadata": {
        "id": "h8awVQwbvp5M"
      },
      "source": [
        "Wenn eine Variable mehrfach definiert wird, gilt die LEGB Reihenfolge (Local -> Enclosing -> Global -> Built-in). Das heißt, lokal definierte Variablen haben Vorrang vor global definierten Variablen gleichen Namens. Enclosing kommt zum Tragen, wenn eine Funktion innerhalb einer Funktion oder einer Klasse definiert wird. Die umgebende Funktion oder Klasse heißt dann <i>enclosing function</i> oder <i>enclosing class</i>. Die selbst definierten Variablen haben auch Vorrang vor in Python eingebauten Variablen (meist erkennbar an den doppelten Unterstrichen, \"dunder\"-Variablen, wie z. B. _ _ name _ _). Man sollte also solche Namen nicht verwenden, wenn man das nicht wirklich beabsichtigt. Es gibt übrigens auch eingebaute Funktionen; eine gute Übersicht findet man hier: \n",
        "https://rszalski.github.io/magicmethods/"
      ]
    },
    {
      "cell_type": "code",
      "metadata": {
        "colab": {
          "base_uri": "https://localhost:8080/"
        },
        "id": "ZY8svImQuusn",
        "outputId": "1d9556b1-bd34-4f16-8c55-084d4fefca77"
      },
      "source": [
        "def test1():\n",
        "    i = 5    # Damit definieren wir eine lokale Variable i\n",
        "             # Wenn wir keine lokale Variable j definieren, wird die aus dem äußeren Modul verwendet\n",
        "    k = 8    # Damit definieren wir eine lokale Variable k\n",
        "    print('Im Test ist i=' + str(i) + ' und j=' + str(j) + ' und k=' + str(k))\n",
        "\n",
        "k = 1        # Wenn ich das nicht mache, wäre k nachher undefiniert!\n",
        "# Jetzt führen wir die Funktion test() aus und ändern dort Variablen\n",
        "test1()\n",
        "print('Außerhalb ist i=' + str(i) + ' und j=' + str(j) + ' und k=' + str(k))\n"
      ],
      "execution_count": null,
      "outputs": [
        {
          "output_type": "stream",
          "text": [
            "Im Test ist i=5 und j=6 und k=8\n",
            "Außerhalb ist i=3 und j=6 und k=1\n"
          ],
          "name": "stdout"
        }
      ]
    },
    {
      "cell_type": "markdown",
      "metadata": {
        "id": "D31r-dc71MvT"
      },
      "source": [
        "Übergabeparameter zählen ebenfalls zum lokalen Scope."
      ]
    },
    {
      "cell_type": "code",
      "metadata": {
        "colab": {
          "base_uri": "https://localhost:8080/"
        },
        "id": "XHv1SaJp0e4T",
        "outputId": "dbbe2b47-68ff-4f01-f2fb-0fa13e9df365"
      },
      "source": [
        "def test2(i, j):\n",
        "    i = 5\n",
        "    k = 8\n",
        "    print('Im Test ist i=' + str(i) + ' und j=' + str(j) + ' und k=' + str(k))\n",
        "\n",
        "k = 1\n",
        "# Jetzt führen wir die Funktion test() aus und ändern dort Variablen\n",
        "test2(i, 0)\n",
        "print('Außerhalb ist i=' + str(i) + ' und j=' + str(j) + ' und k=' + str(k))\n"
      ],
      "execution_count": null,
      "outputs": [
        {
          "output_type": "stream",
          "text": [
            "Im Test ist i=5 und j=0 und k=8\n",
            "Außerhalb ist i=3 und j=6 und k=1\n"
          ],
          "name": "stdout"
        }
      ]
    },
    {
      "cell_type": "markdown",
      "metadata": {
        "id": "K93bUvOzAy51"
      },
      "source": [
        "<h2>Funktionen zum Iterieren</h2>\n",
        "Mit Iterieren ist gemeint, dass Elemente eines iterierbaren Datentyps (z. B. Liste, Tupel, Range) nacheinander durch denselben Code bearbeitet werden. Es kann die in anderen Sprachen gebräuchliche Schleifenprogrammierung ersetzen. Python bietet dazu eine ganze Reihe von Möglichkeiten an. "
      ]
    },
    {
      "cell_type": "markdown",
      "metadata": {
        "id": "3TIPzCz_Xo2V"
      },
      "source": [
        "for Schleife über ein iterierbares Objekt"
      ]
    },
    {
      "cell_type": "code",
      "metadata": {
        "colab": {
          "base_uri": "https://localhost:8080/"
        },
        "id": "lwS3ki_5XNM-",
        "outputId": "62839b9f-bcb9-4814-b1d9-14bcbff91195"
      },
      "source": [
        "# Schleife über die Zahlen 1 bis 4 \n",
        "# Mit Erreichen der 5 wird die Schleife nicht mehr durchlaufen! \n",
        "for i in range(1,5):\n",
        "  print(i)\n"
      ],
      "execution_count": null,
      "outputs": [
        {
          "output_type": "stream",
          "text": [
            "1\n",
            "2\n",
            "3\n",
            "4\n"
          ],
          "name": "stdout"
        }
      ]
    },
    {
      "cell_type": "markdown",
      "metadata": {
        "id": "5I0JwbcyXVca"
      },
      "source": [
        "Funktion map() zum Iterieren funktioniert auf allen iterierbaren Objekten, also auch Listen und Tuples"
      ]
    },
    {
      "cell_type": "code",
      "metadata": {
        "colab": {
          "base_uri": "https://localhost:8080/"
        },
        "id": "qnAJTopABA3s",
        "outputId": "2622b289-ff8a-4466-af57-1a5b09127bf2"
      },
      "source": [
        "# Für das nächste Beispiel definieren wir zunächst mal eine Funktion\n",
        "def firstLetter(S):\n",
        "  return S[0]\n",
        "\n",
        "# Und probieren die Funktion mal aus\n",
        "print('Demonstration firstLetter(\"Red\") = ' + firstLetter(\"Red\"))\n",
        "\n",
        "# Aufruf der eben definierten Funktion für jedes Element einer Liste\n",
        "m = map(firstLetter, ['Red', 'Green', 'Blue'])\n",
        "\n",
        "# Das Ergebnis m ist ein Iterator (wie eine Funktion, die Einzelwerte nacheinander ausgibt).\n",
        "# Die Werte müssen mit einer Schleife quasi beim Iterator \"abgeholt\" werden.\n",
        "# Die Funktion list() tut genau das und verwandelt die Einzelwerte in eine Liste.\n",
        "print(\"Firstletter auf die Liste ergibt \", end = '')  # das end = '' unterdrückt Newline\n",
        "print(list(m))\n",
        "\n",
        "# Wenn m durchiteriert ist, bekommt man anschließend eine leere Liste\n",
        "print(\"Zweiter Iterationsversuch ergibt \", end = '')\n",
        "print(list(m))\n",
        "\n",
        "# Das hängt damit zusammen, dass man auch einzeln mit next(m) iterieren kann.\n",
        "# Nach dem letzten Aufruf soll der Iterator nicht von vorne beginnen.\n",
        "m = map(firstLetter, ['Red', 'Green', 'Blue'])\n",
        "print(next(m))\n",
        "print(next(m))\n",
        "print(next(m))\n",
        "# Noch ein print(next(m)) würde eine Exception auslösen\n",
        "\n",
        "# Wenn man die Liste nach der Iteration noch braucht, muss man sie halt zwischenspeichern.\n",
        "l = list(map(firstLetter, ['Red', 'Green', 'Blue']))"
      ],
      "execution_count": null,
      "outputs": [
        {
          "output_type": "stream",
          "text": [
            "Demonstration firstLetter(\"Red\") = R\n",
            "Firstletter auf die Liste ergibt ['R', 'G', 'B']\n",
            "Zweiter Iterationsversuch ergibt []\n",
            "R\n",
            "G\n",
            "B\n"
          ],
          "name": "stdout"
        }
      ]
    },
    {
      "cell_type": "code",
      "metadata": {
        "colab": {
          "base_uri": "https://localhost:8080/"
        },
        "id": "U6rt380NW-1v",
        "outputId": "b4b15059-3cee-471c-a227-d57a8300077e"
      },
      "source": [
        "# Alternativ statt eine extra Funktion zu definieren, kann man eine Lambda Funktion verwenden.\n",
        "# Das ist so etwas wie eine in-place adhoc Funktionsdefinition.\n",
        "n = map(lambda S: S[0], ['Red', 'Green', 'Blue'])\n",
        "print(\"Lambda auf die Liste ergibt \", end = '')\n",
        "print(list(n))\n",
        "\n",
        "# Mit der Funktion sorted() kann man eine Liste sortiert bearbeiten.\n",
        "print(\"Lambda sortiert auf die Liste ergibt \", end = '')\n",
        "print(sorted(l))"
      ],
      "execution_count": null,
      "outputs": [
        {
          "output_type": "stream",
          "text": [
            "Lambda auf die Liste ergibt ['R', 'G', 'B']\n",
            "Lambda sortiert auf die Liste ergibt ['B', 'G', 'R']\n"
          ],
          "name": "stdout"
        }
      ]
    },
    {
      "cell_type": "markdown",
      "metadata": {
        "id": "_Fd9wgUDX1ZJ"
      },
      "source": [
        "Ein für Strings nützlicher Iterator ist die <string>.join() Funktion."
      ]
    },
    {
      "cell_type": "code",
      "metadata": {
        "colab": {
          "base_uri": "https://localhost:8080/"
        },
        "id": "7H-LMvgnQEdV",
        "outputId": "7fb4d182-e45f-488a-ff9f-9340da5f94f4"
      },
      "source": [
        "my_str1 = 'Red;Green;Blue'\n",
        "print(my_str1)\n",
        "my_list = my_str1.split(';')\n",
        "print(my_list)\n",
        "my_str2 = ','.join(my_list)\n",
        "print(my_str2)"
      ],
      "execution_count": null,
      "outputs": [
        {
          "output_type": "stream",
          "text": [
            "Red;Green;Blue\n",
            "['Red', 'Green', 'Blue']\n",
            "Red,Green,Blue\n"
          ],
          "name": "stdout"
        }
      ]
    },
    {
      "cell_type": "markdown",
      "metadata": {
        "id": "fvH_dwpbYSht"
      },
      "source": [
        "Zum Schluss schauen wir noch die zip() Funktion an. Sie verknüpft mehrere Iteratoren in der Weise, dass jeweils das n-te Element jedes einzelnen Iterators mit dem n-ten Element der anderen Iteratoren zu einem Tupel verbunden wird."
      ]
    },
    {
      "cell_type": "code",
      "metadata": {
        "colab": {
          "base_uri": "https://localhost:8080/"
        },
        "id": "B0XWXDByW4WJ",
        "outputId": "0344f021-6b8f-4c11-e9ca-bbbcb543de17"
      },
      "source": [
        "my_numbers = range(1,5)\n",
        "my_letters = map(lambda x:chr(x + 64), range(1,5))\n",
        "iter = zip(my_numbers, my_letters)\n",
        "print(list(iter))"
      ],
      "execution_count": 4,
      "outputs": [
        {
          "output_type": "stream",
          "text": [
            "[(1, 'A'), (2, 'B'), (3, 'C'), (4, 'D')]\n"
          ],
          "name": "stdout"
        }
      ]
    }
  ]
}