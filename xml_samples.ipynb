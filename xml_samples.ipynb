{
  "nbformat": 4,
  "nbformat_minor": 0,
  "metadata": {
    "colab": {
      "name": "xml_samples.ipynb",
      "provenance": [],
      "include_colab_link": true
    },
    "kernelspec": {
      "name": "python3",
      "display_name": "Python 3"
    }
  },
  "cells": [
    {
      "cell_type": "markdown",
      "metadata": {
        "id": "view-in-github",
        "colab_type": "text"
      },
      "source": [
        "<a href=\"https://colab.research.google.com/github/michael-wettach/pythonsamples/blob/main/xml_samples.ipynb\" target=\"_parent\"><img src=\"https://colab.research.google.com/assets/colab-badge.svg\" alt=\"Open In Colab\"/></a>"
      ]
    },
    {
      "cell_type": "markdown",
      "metadata": {
        "id": "4QRCjA1rOt1Z"
      },
      "source": [
        "Wir wollen eine XML Datei schreiben, die so aussieht:</br>\n",
        "&lt;root&gt;</br>\n",
        " &lt;doc&gt;</br>\n",
        "     &lt;field1 name=\"mein_feld1\"&gt;irgendein Inhalt&lt;/field1&gt;</br>\n",
        "     &lt;field2 name=\"mein_feld2\"&gt;ein anderer Inhalt&lt;/field2&gt;</br>\n",
        " &lt;/doc&gt;</br>\n",
        "&lt;/root&gt;</br>\n",
        "\n",
        "Es gibt eine Reihe von XML Bibliotheken in Python. Die am meisten verwendete ist ElementTree, die hat auch eine performante C-Implementierung cELementTree. In Python ab Version 3.3 wird die automatisch gezogen, wenn man ElementTree benutzt, in früheren Python Versionen muss man sie explizit ansprechen. Die Doku dazu findet man hier: https://docs.python.org/3/library/xml.etree.elementtree.html"
      ]
    },
    {
      "cell_type": "code",
      "metadata": {
        "colab": {
          "base_uri": "https://localhost:8080/"
        },
        "id": "krP7tqmQLzzz",
        "outputId": "f2cf3b2a-967e-482e-b826-fca38e7cfa07"
      },
      "source": [
        "import xml.etree.cElementTree as ET\n",
        "\n",
        "# Definiere den obersten Knoten als XML ELement\n",
        "root = ET.Element(\"root\")\n",
        "\n",
        "# Definiere den nächsten Knoten als Unterelement\n",
        "doc = ET.SubElement(root, \"doc\")\n",
        "\n",
        "# Und da hängen wir noch die zwei Felder drunter\n",
        "ET.SubElement(doc, \"field1\", name=\"my_field1\").text = \"irgendein Inhalt\"\n",
        "ET.SubElement(doc, \"field2\", name=\"my_field2\").text = \"ein anderer Inhalt\"\n",
        "\n",
        "# Jetzt haben wir eine Struktur und machen einen XML Baum daraus\n",
        "tree = ET.ElementTree(root)\n",
        "\n",
        "# xml_declaration erzeugt einen Header\n",
        "# ElementTree hat leider keine PrettyPrint Funktion.\n",
        "tree.write(\"filename.xml\", xml_declaration=True,encoding='utf-8', method=\"xml\")\n",
        "\n",
        "# Öffnen der gerade geschriebenen Datei\n",
        "file = open('filename.xml')\n",
        "for line in file.readlines():\n",
        "  print(line)\n"
      ],
      "execution_count": null,
      "outputs": [
        {
          "output_type": "stream",
          "text": [
            "<?xml version='1.0' encoding='utf-8'?>\n",
            "\n",
            "<root><doc><field1 name=\"my_field1\">irgendein Inhalt</field1><field2 name=\"my_field2\">ein anderer Inhalt</field2></doc></root>\n"
          ],
          "name": "stdout"
        }
      ]
    },
    {
      "cell_type": "markdown",
      "metadata": {
        "id": "BUCwmVDjc-vC"
      },
      "source": [
        "Ein Namespace bietet die Möglichkeit, XML Tags aus verschiedenen Applikationen zu mischen ohne dass diese verwechselt werden. Im obigen Beispiel ist noch kein Namespace deklariert. Das geht aber natürlich auch..."
      ]
    },
    {
      "cell_type": "code",
      "metadata": {
        "colab": {
          "base_uri": "https://localhost:8080/"
        },
        "id": "y2Lpkw67eRPR",
        "outputId": "45e9de45-a008-403f-9fa1-94e026d5c1ee"
      },
      "source": [
        "import xml.etree.cElementTree as ET\n",
        "\n",
        "# Hier definieren wir einen Namespace\n",
        "ET.register_namespace('com','http://www.company.com') \n",
        "my_ns = r'{http://www.company.com}'\n",
        "\n",
        "# Definiere den obersten Knoten als XML ELement\n",
        "root = ET.Element(my_ns + \"root\")\n",
        "\n",
        "# Definiere den nächsten Knoten als Unterelement\n",
        "doc = ET.SubElement(root, my_ns + \"doc\")\n",
        "\n",
        "# Und da hängen wir noch die zwei Felder drunter\n",
        "ET.SubElement(doc, my_ns + \"field1\", name=\"my_field1\").text = \"irgendein Inhalt\"\n",
        "ET.SubElement(doc, my_ns + \"field2\", name=\"my_field2\").text = \"ein anderer Inhalt\"\n",
        "\n",
        "# Jetzt haben wir eine Struktur und machen einen XML Baum daraus\n",
        "tree = ET.ElementTree(root)\n",
        "\n",
        "# xml_declaration erzeugt einen Header\n",
        "# ElementTree hat leider keine PrettyPrint Funktion.\n",
        "tree.write(\"filename.xml\", xml_declaration=True,encoding='utf-8', method=\"xml\")\n",
        "\n",
        "# Öffnen der gerade geschriebenen Datei\n",
        "file = open('filename.xml')\n",
        "for line in file.readlines():\n",
        "  print(line)\n"
      ],
      "execution_count": null,
      "outputs": [
        {
          "output_type": "stream",
          "text": [
            "<?xml version='1.0' encoding='utf-8'?>\n",
            "\n",
            "<com:root xmlns:com=\"http://www.company.com\"><com:doc><com:field1 name=\"my_field1\">irgendein Inhalt</com:field1><com:field2 name=\"my_field2\">ein anderer Inhalt</com:field2></com:doc></com:root>\n"
          ],
          "name": "stdout"
        }
      ]
    },
    {
      "cell_type": "markdown",
      "metadata": {
        "id": "6ohBHzrijlAC"
      },
      "source": [
        "Eine andere häufig verwendete Bibliothek ist LXML. Ein Tutorial findet man hier: https://lxml.de/tutorial.html  "
      ]
    },
    {
      "cell_type": "code",
      "metadata": {
        "colab": {
          "base_uri": "https://localhost:8080/"
        },
        "id": "aJH-BFUcj2fB",
        "outputId": "7f7b9c6a-3c3d-416a-8931-237b167aa7c2"
      },
      "source": [
        "import lxml.etree\n",
        "import lxml.builder    \n",
        "\n",
        "# Zuerst erzeugen wir die XML Tags (Elementtypen)\n",
        "E = lxml.builder.ElementMaker()\n",
        "ROOT = E.root\n",
        "DOC = E.doc\n",
        "FIELD1 = E.field1\n",
        "FIELD2 = E.field2\n",
        "\n",
        "# Und dann die Dokumentstruktur\n",
        "the_doc = ROOT(\n",
        "        DOC(\n",
        "            FIELD1('irgendein Inhalt', name='my_field1'),\n",
        "            FIELD2('ein anderer Inhalt', name='my_field2'),\n",
        "            )   \n",
        "        )   \n",
        "\n",
        "# Hier gibt es auch eine PrettyPrint Option\n",
        "output = lxml.etree.tostring(the_doc, xml_declaration=True, encoding='utf8', method='xml', pretty_print=True)\n",
        "\n",
        "# Zum Drucken verwende ich hier den * Operator, der eine Liste in ein Tupel auspackt \n",
        "# und die Elemente einzeln an die umgebende Funktion liefert. \n",
        "print(*output.splitlines(), sep=\"\\n\")"
      ],
      "execution_count": null,
      "outputs": [
        {
          "output_type": "stream",
          "text": [
            "b\"<?xml version='1.0' encoding='utf8'?>\"\n",
            "b'<root>'\n",
            "b'  <doc>'\n",
            "b'    <field1 name=\"my_field1\">irgendein Inhalt</field1>'\n",
            "b'    <field2 name=\"my_field2\">ein anderer Inhalt</field2>'\n",
            "b'  </doc>'\n",
            "b'</root>'\n"
          ],
          "name": "stdout"
        }
      ]
    },
    {
      "cell_type": "code",
      "metadata": {
        "colab": {
          "base_uri": "https://localhost:8080/"
        },
        "id": "BmgweUJ4oxjF",
        "outputId": "70fc629d-2cf6-4edb-b396-425dd9d0621f"
      },
      "source": [
        "# In LXML kann man auch nachträglich Elemente ergänzen\n",
        "# Zum obersten Knoten root\n",
        "the_doc.append(FIELD2('noch ein Inhalt', name='my_field3'))\n",
        "\n",
        "# Oder zu einem Knoten, den wir erst noch suchen\n",
        "my_doc = the_doc.find(\"doc\")\n",
        "my_doc.append(FIELD2('noch ein Inhalt', name='my_field4'))\n",
        "\n",
        "output = lxml.etree.tostring(the_doc, xml_declaration=True, encoding='utf8', method='xml', pretty_print=True)\n",
        "print(*output.splitlines(), sep=\"\\n\")"
      ],
      "execution_count": null,
      "outputs": [
        {
          "output_type": "stream",
          "text": [
            "b\"<?xml version='1.0' encoding='utf8'?>\"\n",
            "b'<root>'\n",
            "b'  <doc>'\n",
            "b'    <field1 name=\"my_field1\">irgendein Inhalt</field1>'\n",
            "b'    <field2 name=\"my_field2\">ein anderer Inhalt</field2>'\n",
            "b'    <field2 name=\"my_field4\">noch ein Inhalt</field2>'\n",
            "b'  </doc>'\n",
            "b'  <field2 name=\"my_field3\">noch ein Inhalt</field2>'\n",
            "b'</root>'\n"
          ],
          "name": "stdout"
        }
      ]
    }
  ]
}