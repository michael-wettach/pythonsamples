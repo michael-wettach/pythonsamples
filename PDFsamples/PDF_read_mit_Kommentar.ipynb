{
  "nbformat": 4,
  "nbformat_minor": 0,
  "metadata": {
    "colab": {
      "name": "PDF-read.ipynb",
      "provenance": [],
      "collapsed_sections": []
    },
    "kernelspec": {
      "name": "python3",
      "display_name": "Python 3"
    }
  },
  "cells": [
    {
      "cell_type": "markdown",
      "metadata": {
        "id": "qOTXvowpniwx"
      },
      "source": [
        "Es ist möglich, fehlende Python-Pakete in Google Colab nachzuinstallieren. </br>\r\n",
        "Das macht man in Python üblicherweise über den Paketmanager pip.</br> \r\n",
        "Man kann mit Präfix \"!\" Shell-Kommandos ausführen und so Pakete installieren."
      ]
    },
    {
      "cell_type": "code",
      "metadata": {
        "id": "lDb2NwiX16V6",
        "colab": {
          "base_uri": "https://localhost:8080/"
        },
        "outputId": "ea02d0a3-8afc-4de6-98c7-979d7eca869f"
      },
      "source": [
        "!pip install tabula-py"
      ],
      "execution_count": 5,
      "outputs": [
        {
          "output_type": "stream",
          "text": [
            "Collecting tabula-py\n",
            "\u001b[?25l  Downloading https://files.pythonhosted.org/packages/cf/29/d6cb0d77ef46d84d35cffa09cf42c73b373aea664d28604eab6818f8a47c/tabula_py-2.2.0-py3-none-any.whl (11.7MB)\n",
            "\u001b[K     |████████████████████████████████| 11.7MB 8.0MB/s \n",
            "\u001b[?25hCollecting distro\n",
            "  Downloading https://files.pythonhosted.org/packages/25/b7/b3c4270a11414cb22c6352ebc7a83aaa3712043be29daa05018fd5a5c956/distro-1.5.0-py2.py3-none-any.whl\n",
            "Requirement already satisfied: numpy in /usr/local/lib/python3.6/dist-packages (from tabula-py) (1.18.5)\n",
            "Requirement already satisfied: pandas>=0.25.3 in /usr/local/lib/python3.6/dist-packages (from tabula-py) (1.1.5)\n",
            "Requirement already satisfied: python-dateutil>=2.7.3 in /usr/local/lib/python3.6/dist-packages (from pandas>=0.25.3->tabula-py) (2.8.1)\n",
            "Requirement already satisfied: pytz>=2017.2 in /usr/local/lib/python3.6/dist-packages (from pandas>=0.25.3->tabula-py) (2018.9)\n",
            "Requirement already satisfied: six>=1.5 in /usr/local/lib/python3.6/dist-packages (from python-dateutil>=2.7.3->pandas>=0.25.3->tabula-py) (1.15.0)\n",
            "Installing collected packages: distro, tabula-py\n",
            "Successfully installed distro-1.5.0 tabula-py-2.2.0\n"
          ],
          "name": "stdout"
        }
      ]
    },
    {
      "cell_type": "markdown",
      "metadata": {
        "id": "liDw-LBHoab0"
      },
      "source": [
        "Aus der Dokumentation (https://tabula-py.readthedocs.io/en/latest/): </br> tabula (ein Programm zum Extrahieren von Tabellen aus PDFs) ist ein Python-Wrapper für eine Java-Bibliothek. Das heißt, wir benutzen Python Syntax, aber die eigentliche Arbeit wird von Java Programmen gemacht. Das findet man öfter. In diesem Fall ist es gut zu prüfen, ob die benötigte Java-Version installiert ist."
      ]
    },
    {
      "cell_type": "code",
      "metadata": {
        "id": "lZGs290H2ogN",
        "colab": {
          "base_uri": "https://localhost:8080/"
        },
        "outputId": "e5d49bfc-0e74-4894-cd80-83fb583611b6"
      },
      "source": [
        "!java -version"
      ],
      "execution_count": 6,
      "outputs": [
        {
          "output_type": "stream",
          "text": [
            "openjdk version \"11.0.9.1\" 2020-11-04\n",
            "OpenJDK Runtime Environment (build 11.0.9.1+1-Ubuntu-0ubuntu1.18.04)\n",
            "OpenJDK 64-Bit Server VM (build 11.0.9.1+1-Ubuntu-0ubuntu1.18.04, mixed mode, sharing)\n"
          ],
          "name": "stdout"
        }
      ]
    },
    {
      "cell_type": "markdown",
      "metadata": {
        "id": "Ixiv2f9gpKFR"
      },
      "source": [
        "Nachdem das Python-Modul installiert wurde, können wir es in unserem Code importieren. </br> Erst danach können wir seine Objekte und Funktionen verwenden."
      ]
    },
    {
      "cell_type": "code",
      "metadata": {
        "id": "4ysrPjlR2tPE",
        "colab": {
          "base_uri": "https://localhost:8080/"
        },
        "outputId": "757b114d-f51d-44f7-8bbb-35e224859019"
      },
      "source": [
        "import tabula\n",
        "\n",
        "tabula.environment_info()"
      ],
      "execution_count": 7,
      "outputs": [
        {
          "output_type": "stream",
          "text": [
            "Python version:\n",
            "    3.6.9 (default, Oct  8 2020, 12:12:24) \n",
            "[GCC 8.4.0]\n",
            "Java version:\n",
            "    openjdk version \"11.0.9.1\" 2020-11-04\n",
            "OpenJDK Runtime Environment (build 11.0.9.1+1-Ubuntu-0ubuntu1.18.04)\n",
            "OpenJDK 64-Bit Server VM (build 11.0.9.1+1-Ubuntu-0ubuntu1.18.04, mixed mode, sharing)\n",
            "tabula-py version: 2.2.0\n",
            "platform: Linux-4.19.112+-x86_64-with-Ubuntu-18.04-bionic\n",
            "uname:\n",
            "    uname_result(system='Linux', node='e896f44e68b7', release='4.19.112+', version='#1 SMP Thu Jul 23 08:00:38 PDT 2020', machine='x86_64', processor='x86_64')\n",
            "linux_distribution: ('Ubuntu', '18.04', 'bionic')\n",
            "mac_ver: ('', ('', '', ''), '')\n",
            "    \n"
          ],
          "name": "stdout"
        }
      ]
    },
    {
      "cell_type": "markdown",
      "metadata": {
        "id": "tn5klMFzqyJc"
      },
      "source": [
        "Kurze Einführung zu Python Dictionaries: ein Dictionary ist eine Liste von Key/Value Paaren. </br> Man ruft den Value ab, indem man den Key als Index zum Dictionary benutzt."
      ]
    },
    {
      "cell_type": "code",
      "metadata": {
        "id": "UzDZJUUyrEwE",
        "colab": {
          "base_uri": "https://localhost:8080/"
        },
        "outputId": "f2574c92-adb1-4a81-d3ad-d28d156d3837"
      },
      "source": [
        "myPreferences = { \"Obst\": \"Beeren\",\r\n",
        "                  \"Getränk\": \"Direktsaft\", \r\n",
        "                  \"Band\": \"Oscar Peterson Trio\"}\r\n",
        "print(myPreferences[\"Getränk\"])"
      ],
      "execution_count": 10,
      "outputs": [
        {
          "output_type": "stream",
          "text": [
            "Direktsaft\n"
          ],
          "name": "stdout"
        }
      ]
    },
    {
      "cell_type": "markdown",
      "metadata": {
        "id": "7RLCSLZdnfs2"
      },
      "source": [
        "Die Bibliothek tabula verwendet das Python Modul pandas zur Datenmanipulation. Pandas ist in Google Colab standardmäßig installiert. Siehe z. B. hier: https://pandas.pydata.org/docs/getting_started/intro_tutorials/01_table_oriented.html). Das Ergebnis der read_pdf Funktion sind pandas Dataframes. Die funktionieren wie ein Dictionary, nur dass die Values keine Einzelwerte sind, sondern Listen. </br>Die Spaltenköpfe der Matrix sind dabei die Keys. "
      ]
    },
    {
      "cell_type": "code",
      "metadata": {
        "id": "ixm-onJ4sUxZ",
        "colab": {
          "base_uri": "https://localhost:8080/",
          "height": 142
        },
        "outputId": "f78ab1d5-1ef5-4759-d1c2-024299829578"
      },
      "source": [
        "# Beispiel von der oben angegebenen Webseite\r\n",
        "import pandas as pd\r\n",
        "df = pd.DataFrame({\r\n",
        "        \"Name\": [\"Braund, Mr. Owen Harris\",\r\n",
        "                 \"Allen, Mr. William Henry\",\r\n",
        "                 \"Bonnell, Miss. Elizabeth\"],\r\n",
        "        \"Age\": [22, 35, 58],\r\n",
        "        \"Sex\": [\"male\", \"male\", \"female\"]}\r\n",
        ")\r\n",
        "df"
      ],
      "execution_count": 11,
      "outputs": [
        {
          "output_type": "execute_result",
          "data": {
            "text/html": [
              "<div>\n",
              "<style scoped>\n",
              "    .dataframe tbody tr th:only-of-type {\n",
              "        vertical-align: middle;\n",
              "    }\n",
              "\n",
              "    .dataframe tbody tr th {\n",
              "        vertical-align: top;\n",
              "    }\n",
              "\n",
              "    .dataframe thead th {\n",
              "        text-align: right;\n",
              "    }\n",
              "</style>\n",
              "<table border=\"1\" class=\"dataframe\">\n",
              "  <thead>\n",
              "    <tr style=\"text-align: right;\">\n",
              "      <th></th>\n",
              "      <th>Name</th>\n",
              "      <th>Age</th>\n",
              "      <th>Sex</th>\n",
              "    </tr>\n",
              "  </thead>\n",
              "  <tbody>\n",
              "    <tr>\n",
              "      <th>0</th>\n",
              "      <td>Braund, Mr. Owen Harris</td>\n",
              "      <td>22</td>\n",
              "      <td>male</td>\n",
              "    </tr>\n",
              "    <tr>\n",
              "      <th>1</th>\n",
              "      <td>Allen, Mr. William Henry</td>\n",
              "      <td>35</td>\n",
              "      <td>male</td>\n",
              "    </tr>\n",
              "    <tr>\n",
              "      <th>2</th>\n",
              "      <td>Bonnell, Miss. Elizabeth</td>\n",
              "      <td>58</td>\n",
              "      <td>female</td>\n",
              "    </tr>\n",
              "  </tbody>\n",
              "</table>\n",
              "</div>"
            ],
            "text/plain": [
              "                       Name  Age     Sex\n",
              "0   Braund, Mr. Owen Harris   22    male\n",
              "1  Allen, Mr. William Henry   35    male\n",
              "2  Bonnell, Miss. Elizabeth   58  female"
            ]
          },
          "metadata": {
            "tags": []
          },
          "execution_count": 11
        }
      ]
    },
    {
      "cell_type": "code",
      "metadata": {
        "id": "kIQWBOzitiJ4",
        "colab": {
          "base_uri": "https://localhost:8080/"
        },
        "outputId": "498d67c6-058e-4263-9c4e-4eb82f7920ac"
      },
      "source": [
        "df[\"Age\"]"
      ],
      "execution_count": 12,
      "outputs": [
        {
          "output_type": "execute_result",
          "data": {
            "text/plain": [
              "0    22\n",
              "1    35\n",
              "2    58\n",
              "Name: Age, dtype: int64"
            ]
          },
          "metadata": {
            "tags": []
          },
          "execution_count": 12
        }
      ]
    },
    {
      "cell_type": "markdown",
      "metadata": {
        "id": "NxgQ9hXpt5wX"
      },
      "source": [
        "Jetzt lesen wir mal eine Tabelle aus einem PDF im Internet ein.</br>"
      ]
    },
    {
      "cell_type": "code",
      "metadata": {
        "id": "e16jnwCv3pYf",
        "colab": {
          "base_uri": "https://localhost:8080/"
        },
        "outputId": "f13500d2-dff0-40bb-b50c-fd379d0f39b7"
      },
      "source": [
        "pdf_path = \"https://www.rheingau-taunus.de/fileadmin/forms/corona-virus/coronavirus_inzidenz_12-14.pdf\"\n",
        "\n",
        "dataframe_list = tabula.read_pdf(pdf_path, stream=True, pages=1)\n",
        "\n",
        "# read_pdf liest als Default mehrere Tabellen, wenn auf der Seite vorhanden.\n",
        "# Das Ergebnis ist dann eine Liste von Dataframes, also von Tabellen.\n",
        "# Man erkennt die Liste an den [] Klammern außen.\n",
        "dataframe_list"
      ],
      "execution_count": 14,
      "outputs": [
        {
          "output_type": "execute_result",
          "data": {
            "text/plain": [
              "[      Stadt | Gemeinde Neufälle der letzten 7 Tage\n",
              " 0            Aarbergen                          24\n",
              " 1       Bad Schwalbach                          17\n",
              " 2             Eltville                          39\n",
              " 3           Geisenheim                          21\n",
              " 4            Heidenrod                           7\n",
              " 5           Hohenstein                           5\n",
              " 6           Hünstetten                           6\n",
              " 7              Idstein                          36\n",
              " 8             Kiedrich                          17\n",
              " 9                Lorch                           1\n",
              " 10       Niedernhausen                          11\n",
              " 11     Oestrich-Winkel                          62\n",
              " 12  Rüdesheim am Rhein                          19\n",
              " 13        Schlangenbad                           0\n",
              " 14         Taunusstein                          85\n",
              " 15             Waldems                           5\n",
              " 16              Walluf                          31\n",
              " 17        Kreis gesamt                         386\n",
              " 18      Kreis Inzidenz                       206,2]"
            ]
          },
          "metadata": {
            "tags": []
          },
          "execution_count": 14
        }
      ]
    },
    {
      "cell_type": "code",
      "metadata": {
        "id": "7yTJ45w_ukgK",
        "colab": {
          "base_uri": "https://localhost:8080/",
          "height": 638
        },
        "outputId": "b62f9789-b77c-4712-c733-58fdf7b2a352"
      },
      "source": [
        "# Wir wissen natürlich, dass die Liste nur einen Eintrag hat.\r\n",
        "t1 = dataframe_list[0]\r\n",
        "t1"
      ],
      "execution_count": 15,
      "outputs": [
        {
          "output_type": "execute_result",
          "data": {
            "text/html": [
              "<div>\n",
              "<style scoped>\n",
              "    .dataframe tbody tr th:only-of-type {\n",
              "        vertical-align: middle;\n",
              "    }\n",
              "\n",
              "    .dataframe tbody tr th {\n",
              "        vertical-align: top;\n",
              "    }\n",
              "\n",
              "    .dataframe thead th {\n",
              "        text-align: right;\n",
              "    }\n",
              "</style>\n",
              "<table border=\"1\" class=\"dataframe\">\n",
              "  <thead>\n",
              "    <tr style=\"text-align: right;\">\n",
              "      <th></th>\n",
              "      <th>Stadt | Gemeinde</th>\n",
              "      <th>Neufälle der letzten 7 Tage</th>\n",
              "    </tr>\n",
              "  </thead>\n",
              "  <tbody>\n",
              "    <tr>\n",
              "      <th>0</th>\n",
              "      <td>Aarbergen</td>\n",
              "      <td>24</td>\n",
              "    </tr>\n",
              "    <tr>\n",
              "      <th>1</th>\n",
              "      <td>Bad Schwalbach</td>\n",
              "      <td>17</td>\n",
              "    </tr>\n",
              "    <tr>\n",
              "      <th>2</th>\n",
              "      <td>Eltville</td>\n",
              "      <td>39</td>\n",
              "    </tr>\n",
              "    <tr>\n",
              "      <th>3</th>\n",
              "      <td>Geisenheim</td>\n",
              "      <td>21</td>\n",
              "    </tr>\n",
              "    <tr>\n",
              "      <th>4</th>\n",
              "      <td>Heidenrod</td>\n",
              "      <td>7</td>\n",
              "    </tr>\n",
              "    <tr>\n",
              "      <th>5</th>\n",
              "      <td>Hohenstein</td>\n",
              "      <td>5</td>\n",
              "    </tr>\n",
              "    <tr>\n",
              "      <th>6</th>\n",
              "      <td>Hünstetten</td>\n",
              "      <td>6</td>\n",
              "    </tr>\n",
              "    <tr>\n",
              "      <th>7</th>\n",
              "      <td>Idstein</td>\n",
              "      <td>36</td>\n",
              "    </tr>\n",
              "    <tr>\n",
              "      <th>8</th>\n",
              "      <td>Kiedrich</td>\n",
              "      <td>17</td>\n",
              "    </tr>\n",
              "    <tr>\n",
              "      <th>9</th>\n",
              "      <td>Lorch</td>\n",
              "      <td>1</td>\n",
              "    </tr>\n",
              "    <tr>\n",
              "      <th>10</th>\n",
              "      <td>Niedernhausen</td>\n",
              "      <td>11</td>\n",
              "    </tr>\n",
              "    <tr>\n",
              "      <th>11</th>\n",
              "      <td>Oestrich-Winkel</td>\n",
              "      <td>62</td>\n",
              "    </tr>\n",
              "    <tr>\n",
              "      <th>12</th>\n",
              "      <td>Rüdesheim am Rhein</td>\n",
              "      <td>19</td>\n",
              "    </tr>\n",
              "    <tr>\n",
              "      <th>13</th>\n",
              "      <td>Schlangenbad</td>\n",
              "      <td>0</td>\n",
              "    </tr>\n",
              "    <tr>\n",
              "      <th>14</th>\n",
              "      <td>Taunusstein</td>\n",
              "      <td>85</td>\n",
              "    </tr>\n",
              "    <tr>\n",
              "      <th>15</th>\n",
              "      <td>Waldems</td>\n",
              "      <td>5</td>\n",
              "    </tr>\n",
              "    <tr>\n",
              "      <th>16</th>\n",
              "      <td>Walluf</td>\n",
              "      <td>31</td>\n",
              "    </tr>\n",
              "    <tr>\n",
              "      <th>17</th>\n",
              "      <td>Kreis gesamt</td>\n",
              "      <td>386</td>\n",
              "    </tr>\n",
              "    <tr>\n",
              "      <th>18</th>\n",
              "      <td>Kreis Inzidenz</td>\n",
              "      <td>206,2</td>\n",
              "    </tr>\n",
              "  </tbody>\n",
              "</table>\n",
              "</div>"
            ],
            "text/plain": [
              "      Stadt | Gemeinde Neufälle der letzten 7 Tage\n",
              "0            Aarbergen                          24\n",
              "1       Bad Schwalbach                          17\n",
              "2             Eltville                          39\n",
              "3           Geisenheim                          21\n",
              "4            Heidenrod                           7\n",
              "5           Hohenstein                           5\n",
              "6           Hünstetten                           6\n",
              "7              Idstein                          36\n",
              "8             Kiedrich                          17\n",
              "9                Lorch                           1\n",
              "10       Niedernhausen                          11\n",
              "11     Oestrich-Winkel                          62\n",
              "12  Rüdesheim am Rhein                          19\n",
              "13        Schlangenbad                           0\n",
              "14         Taunusstein                          85\n",
              "15             Waldems                           5\n",
              "16              Walluf                          31\n",
              "17        Kreis gesamt                         386\n",
              "18      Kreis Inzidenz                       206,2"
            ]
          },
          "metadata": {
            "tags": []
          },
          "execution_count": 15
        }
      ]
    },
    {
      "cell_type": "markdown",
      "metadata": {
        "id": "Sw5_stF5m2KS"
      },
      "source": [
        "Zunächst stelle ich noch vor, wie man in Python aus Arrays (Python: Listen) selektiert."
      ]
    },
    {
      "cell_type": "code",
      "metadata": {
        "colab": {
          "base_uri": "https://localhost:8080/"
        },
        "id": "8YvG1-AJnDfR",
        "outputId": "6f1e62fa-47cb-4ebd-8c2a-9e71a3be85e1"
      },
      "source": [
        "my_list = [1, 2, 4, 8, 16, 32, 64, 128, 256, 512, 1024]\n",
        "print(my_list[:])       # die leeren Einträge links und rechts vom Doppelpunkt bedeuten \"Anfang\" bzw. \"Ende\" \n",
        "print(my_list[:8])      # Anfang bis *vor* den Eintrag mit dem Index 8 (Indexe fangen bei 0 an)\n",
        "print(my_list[8:])      # Eintrag mit Index 8 bis zum Ende"
      ],
      "execution_count": 17,
      "outputs": [
        {
          "output_type": "stream",
          "text": [
            "[1, 2, 4, 8, 16, 32, 64, 128, 256, 512, 1024]\n",
            "[1, 2, 4, 8, 16, 32, 64, 128]\n",
            "[256, 512, 1024]\n"
          ],
          "name": "stdout"
        }
      ]
    },
    {
      "cell_type": "markdown",
      "metadata": {
        "id": "6ipLf866v3IP"
      },
      "source": [
        "Pandas hat Funktionen zum Selektieren und Joinen, ähnlich wie wir sie in SQL auch benutzen."
      ]
    },
    {
      "cell_type": "code",
      "metadata": {
        "id": "hNQV_2fbIi_F",
        "colab": {
          "base_uri": "https://localhost:8080/",
          "height": 111
        },
        "outputId": "7836576d-044a-4aae-a19c-255395406fba"
      },
      "source": [
        "t1[t1['Stadt | Gemeinde'].isin(['Kreis gesamt', 'Kreis Inzidenz'])]"
      ],
      "execution_count": 18,
      "outputs": [
        {
          "output_type": "execute_result",
          "data": {
            "text/html": [
              "<div>\n",
              "<style scoped>\n",
              "    .dataframe tbody tr th:only-of-type {\n",
              "        vertical-align: middle;\n",
              "    }\n",
              "\n",
              "    .dataframe tbody tr th {\n",
              "        vertical-align: top;\n",
              "    }\n",
              "\n",
              "    .dataframe thead th {\n",
              "        text-align: right;\n",
              "    }\n",
              "</style>\n",
              "<table border=\"1\" class=\"dataframe\">\n",
              "  <thead>\n",
              "    <tr style=\"text-align: right;\">\n",
              "      <th></th>\n",
              "      <th>Stadt | Gemeinde</th>\n",
              "      <th>Neufälle der letzten 7 Tage</th>\n",
              "    </tr>\n",
              "  </thead>\n",
              "  <tbody>\n",
              "    <tr>\n",
              "      <th>17</th>\n",
              "      <td>Kreis gesamt</td>\n",
              "      <td>386</td>\n",
              "    </tr>\n",
              "    <tr>\n",
              "      <th>18</th>\n",
              "      <td>Kreis Inzidenz</td>\n",
              "      <td>206,2</td>\n",
              "    </tr>\n",
              "  </tbody>\n",
              "</table>\n",
              "</div>"
            ],
            "text/plain": [
              "   Stadt | Gemeinde Neufälle der letzten 7 Tage\n",
              "17     Kreis gesamt                         386\n",
              "18   Kreis Inzidenz                       206,2"
            ]
          },
          "metadata": {
            "tags": []
          },
          "execution_count": 18
        }
      ]
    },
    {
      "cell_type": "code",
      "metadata": {
        "id": "UMAC2PBwwCjB",
        "colab": {
          "base_uri": "https://localhost:8080/",
          "height": 80
        },
        "outputId": "20712b58-b5a3-406c-ccd1-c9cde3f3382a"
      },
      "source": [
        "t1[t1['Stadt | Gemeinde']=='Kreis gesamt']"
      ],
      "execution_count": 19,
      "outputs": [
        {
          "output_type": "execute_result",
          "data": {
            "text/html": [
              "<div>\n",
              "<style scoped>\n",
              "    .dataframe tbody tr th:only-of-type {\n",
              "        vertical-align: middle;\n",
              "    }\n",
              "\n",
              "    .dataframe tbody tr th {\n",
              "        vertical-align: top;\n",
              "    }\n",
              "\n",
              "    .dataframe thead th {\n",
              "        text-align: right;\n",
              "    }\n",
              "</style>\n",
              "<table border=\"1\" class=\"dataframe\">\n",
              "  <thead>\n",
              "    <tr style=\"text-align: right;\">\n",
              "      <th></th>\n",
              "      <th>Stadt | Gemeinde</th>\n",
              "      <th>Neufälle der letzten 7 Tage</th>\n",
              "    </tr>\n",
              "  </thead>\n",
              "  <tbody>\n",
              "    <tr>\n",
              "      <th>17</th>\n",
              "      <td>Kreis gesamt</td>\n",
              "      <td>386</td>\n",
              "    </tr>\n",
              "  </tbody>\n",
              "</table>\n",
              "</div>"
            ],
            "text/plain": [
              "   Stadt | Gemeinde Neufälle der letzten 7 Tage\n",
              "17     Kreis gesamt                         386"
            ]
          },
          "metadata": {
            "tags": []
          },
          "execution_count": 19
        }
      ]
    },
    {
      "cell_type": "markdown",
      "metadata": {
        "id": "wYXS9s5iwx-q"
      },
      "source": [
        "Mit der funktion .iloc()[Zeile] können wir statt über einen Key auch numerisch selektieren."
      ]
    },
    {
      "cell_type": "code",
      "metadata": {
        "id": "OYVxPbgRQ_K_",
        "colab": {
          "base_uri": "https://localhost:8080/",
          "height": 35
        },
        "outputId": "5c6aeef8-db13-410b-f853-8e2de186867c"
      },
      "source": [
        "t1[t1['Stadt | Gemeinde']=='Kreis gesamt'].iloc()[0]['Neufälle der letzten 7 Tage']"
      ],
      "execution_count": 20,
      "outputs": [
        {
          "output_type": "execute_result",
          "data": {
            "application/vnd.google.colaboratory.intrinsic+json": {
              "type": "string"
            },
            "text/plain": [
              "'386'"
            ]
          },
          "metadata": {
            "tags": []
          },
          "execution_count": 20
        }
      ]
    },
    {
      "cell_type": "markdown",
      "metadata": {
        "id": "nB3W15s9wjSd"
      },
      "source": [
        "Zum Schluss verpacke ich das noch in eine Python-Funktion.</br>\n",
        "Das erste iloc([:,CompCol]) ist eine Matrix-Indexierung.</br>\n",
        "-->Nimm alle Zeilen (\":\" steht für alle), für die gilt: Spalte CompCol == Rowval</br>\n",
        "Das zweite iloc[0, ResultCol] ist wieder eine Matrix-Indexierung auf das Ergebnis. </br>\n",
        "-->Nimm die erste Zeile [0] und die Spalte ResultCol.</br> \n",
        "So bekomme ich einen eindeutigen Wert zurück."
      ]
    },
    {
      "cell_type": "code",
      "metadata": {
        "id": "RkqXah5WRnyY",
        "colab": {
          "base_uri": "https://localhost:8080/"
        },
        "outputId": "4713ec33-8a07-4774-d59c-90ac8cb3273b"
      },
      "source": [
        "def getValue(DF, CompCol, RowVal, ResultCol):\n",
        "  return DF[DF.iloc[:,CompCol]==RowVal].iloc[0, ResultCol]\n",
        "  \n",
        "print(getValue(t1, 0, 'Kreis gesamt', 1))"
      ],
      "execution_count": 21,
      "outputs": [
        {
          "output_type": "stream",
          "text": [
            "386\n"
          ],
          "name": "stdout"
        }
      ]
    },
    {
      "cell_type": "markdown",
      "metadata": {
        "id": "Kbv0M1kVui8R"
      },
      "source": [
        "Pandas kann übrigens auch ohne zusätzliche Module mit CSV Dateien arbeiten. Diese können aus dem Internet kommen oder aus der Dateiablage in Colab (vorher hochladen). Es gibt zur Einarbeitung zahlreiche weitere Jupyter Notebooks auf GitHub, zum Beispiel das hier:</br>\n",
        "https://github.com/dshahid380/Data-analysis-with-pandas/blob/master/pandas_part1.ipynb </br>\n",
        "Da sind auch zugehörige CSV Dateien im Ordner Datasets abgelegt."
      ]
    }
  ]
}
