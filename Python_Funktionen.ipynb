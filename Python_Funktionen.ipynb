{
  "nbformat": 4,
  "nbformat_minor": 0,
  "metadata": {
    "colab": {
      "name": "Python_Funktionen.ipynb",
      "provenance": [],
      "authorship_tag": "ABX9TyNkQKGkFTbNKo+pv3Gyc3qh",
      "include_colab_link": true
    },
    "kernelspec": {
      "name": "python3",
      "display_name": "Python 3"
    },
    "language_info": {
      "name": "python"
    }
  },
  "cells": [
    {
      "cell_type": "markdown",
      "metadata": {
        "id": "view-in-github",
        "colab_type": "text"
      },
      "source": [
        "<a href=\"https://colab.research.google.com/github/michael-wettach/pythonsamples/blob/main/Python_Funktionen.ipynb\" target=\"_parent\"><img src=\"https://colab.research.google.com/assets/colab-badge.svg\" alt=\"Open In Colab\"/></a>"
      ]
    },
    {
      "cell_type": "markdown",
      "metadata": {
        "id": "qX9057zENbkY"
      },
      "source": [
        "<h2>Funktionen sind vollwertige Objekte</h2>\n",
        "\n",
        "Ein vollwertiges Objekt (first class object) besitzt mindestens die folgenden Eigenschaften bzw. Fähigkeiten:\n",
        "<li>Kann zur Laufzeit erzeugt werden\n",
        "<li>Kann einer Variablen oder Datenstruktur zugewiesen werden\n",
        "<li>Kann einer Funktion als Parameter übergeben werden\n",
        "<li>Kann als Ergebnis einer Funktion zurückgegeben werden\n",
        "\n",
        "Zitat und Beispiel entnommen aus dem Buch \"Fluent Python\"."
      ]
    },
    {
      "cell_type": "code",
      "metadata": {
        "colab": {
          "base_uri": "https://localhost:8080/"
        },
        "id": "99SvjiT5NWRB",
        "outputId": "f28276f7-f3b5-4d6e-ea54-df73516080c0"
      },
      "source": [
        "# Beispiel: die mathematische Funktion Fakultät\n",
        "def fakultaet(n):\n",
        "    '''Gibt den Wert von n! (n Fakultät = 1 * 2 * ... * n) zurück.'''\n",
        "    return 1 if n < 2 else n * fakultaet(n-1)\n",
        "\n",
        "print( fakultaet(10) )\n",
        "\n",
        "# Eine Funktion ist ein Objekt mit Eigenschaften\n",
        "print( fakultaet.__doc__ )\n",
        "\n",
        "# Man kann die Funktion einer Variablen zuweisen\n",
        "my_var = fakultaet\n",
        "print(my_var)\n",
        "\n",
        "# Man kann die Funktion als Parameter übergeben, z. B. der Funktion map()\n",
        "print( list( map( my_var, range(5) ) ) )"
      ],
      "execution_count": 1,
      "outputs": [
        {
          "output_type": "stream",
          "text": [
            "3628800\n",
            "Gibt den Wert von n! (n Fakultät = 1 * 2 * ... * n) zurück.\n",
            "<function fakultaet at 0x7feace979050>\n",
            "[1, 1, 2, 6, 24]\n"
          ],
          "name": "stdout"
        }
      ]
    },
    {
      "cell_type": "code",
      "metadata": {
        "colab": {
          "base_uri": "https://localhost:8080/"
        },
        "id": "OFlsjXbUQ5S8",
        "outputId": "c6beb9c6-4889-4946-ac65-c829562b30ee"
      },
      "source": [
        "# Die Eigenschaften bzw. Methoden eines Python-Objekts\n",
        "# kann man mit der Funktion dir(<Objektname>) auflisten:\n",
        "for i, j in enumerate(dir(fakultaet), 1):   \n",
        "    if(i % 4 == 0):\n",
        "        print(j.ljust(24))\n",
        "    else:\n",
        "        print(j.ljust(24), end = '') "
      ],
      "execution_count": null,
      "outputs": [
        {
          "output_type": "stream",
          "text": [
            "__annotations__         __call__                __class__               __closure__             \n",
            "__code__                __defaults__            __delattr__             __dict__                \n",
            "__dir__                 __doc__                 __eq__                  __format__              \n",
            "__ge__                  __get__                 __getattribute__        __globals__             \n",
            "__gt__                  __hash__                __init__                __init_subclass__       \n",
            "__kwdefaults__          __le__                  __lt__                  __module__              \n",
            "__name__                __ne__                  __new__                 __qualname__            \n",
            "__reduce__              __reduce_ex__           __repr__                __setattr__             \n",
            "__sizeof__              __str__                 __subclasshook__        "
          ],
          "name": "stdout"
        }
      ]
    },
    {
      "cell_type": "markdown",
      "metadata": {
        "id": "WwyAEJ7mNZ7X"
      },
      "source": [
        "<h2>Parameter von Funktionen<h2/>\n",
        "\n",
        "Es gibt mehrere Arten der Zuordnung von Parametern im Funktionsaufruf:<br/>\n",
        "* Positional, d. h. durch die Reihenfolge bestimmt\n",
        "* Tuple, d. h. eine Liste, die Werte aufsammelt, mit asterisk (*param) in der Signatur\n",
        "* Bestimmtes Keyword, d. h. in Signatur und beim Aufruf wird Name = Wert übergeben\n",
        "* Unbestimmte Keywords, d. h. in Signatur wird ein Dictionary (**dict) benannt"
      ]
    },
    {
      "cell_type": "code",
      "metadata": {
        "colab": {
          "base_uri": "https://localhost:8080/"
        },
        "id": "YZCMoMRtXlfP",
        "outputId": "683587ba-8462-4e6b-fe7c-12fb1000edac"
      },
      "source": [
        "# Beispiel: eine Funktion zum Ausgeben von HTML Tags aus dem Buch \"Fluent Python\"\n",
        "# Der erste Parameter \"name\" ist positional\n",
        "# Der zweite Parameter \"*content\" sammelt Übergabewerte in eine Liste\n",
        "# Der dritte kann nur durch explizite Zuweisung cls = 'Wert' gefüllt werden\n",
        "#  (class = 'Wert' geht nicht, weil class ein reserviertes Wort in Python ist)\n",
        "# Der vierte übernimmt alle weiteren Name = 'Wert' Angaben in ein Dictionary.\n",
        "\n",
        "def tag(name, *content, cls=None, **attrs):\n",
        "    '''Generate one or more HTML tags'''\n",
        "    if cls is not None:\n",
        "        attrs['class'] = cls\n",
        "    if attrs:\n",
        "        attr_str = ''.join(' %s=\"%s\"' % (attr, value) for attr, value in sorted(attrs.items()))\n",
        "    else:\n",
        "        attr_str = ''\n",
        "    if content:\n",
        "        return '\\n'.join('<%s%s>%s</%s>' % (name, attr_str, c, name) for c in content)\n",
        "    else: \n",
        "        return '<%s%s/>' % (name, attr_str)\n",
        "\n",
        "# Beispiel-Aufrufe\n",
        "print( tag('br') )\n",
        "print( tag('p', 'Hi') )\n",
        "print( tag('p', 'hello', 'world') )\n",
        "print( tag('p', 'hello', id=33) )\n",
        "print( tag('p', 'hello', cls='sidebar') )"
      ],
      "execution_count": null,
      "outputs": [
        {
          "output_type": "stream",
          "text": [
            "<br/>\n",
            "<p>Hi</p>\n",
            "<p>hello</p>\n",
            "<p>world</p>\n",
            "<p id=\"33\">hello</p>\n",
            "<p class=\"sidebar\">hello</p>\n"
          ],
          "name": "stdout"
        }
      ]
    },
    {
      "cell_type": "markdown",
      "metadata": {
        "id": "MGrTsIThmQWy"
      },
      "source": [
        "<h2>Annotationen in der Signatur</h2>\n",
        "\n",
        "Viele Programmiersprachen sehen vor, dass in der Kopfzeile der Deklaration (Signatur) einer Funktion auch Datentypen deklariert werden. In Python ist das nicht vorgeschrieben, man kann so etwas Ähnliches aber durch Annotationen erreichen. Ein Parameter wird gefolgt von einem Doppelpunkt und einem Datentyp, wie im folgenden Beipiel:"
      ]
    },
    {
      "cell_type": "code",
      "metadata": {
        "id": "g9FeKspPm8OY"
      },
      "source": [
        "def clip(text:str, max_len:'int > 0'=80):\n",
        "    if len(text) > max_len:\n",
        "        return text[:max_len]\n",
        "    else:\n",
        "        return text"
      ],
      "execution_count": null,
      "outputs": []
    },
    {
      "cell_type": "markdown",
      "metadata": {
        "id": "OEzwwFXencGk"
      },
      "source": [
        "Allerdings muss man wissen, dass Python diese Annotationen *nicht* verwendet, etwa um Übergabeparameter zu validieren. Das Einzige was geschieht ist, dass die Annotationen im &#95;&#95;annotations&#95;&#95; Attribut der Funktion gespeichert werden. Manche IDEs wie z. B. PyCharm nutzen die Annotationen dafür, Warnings auszugeben und ermutigen den Entwickler, solche Annotationen in die Signaturen von Funktionen aufzunehmen."
      ]
    },
    {
      "cell_type": "markdown",
      "metadata": {
        "id": "Abgckjo4pc6p"
      },
      "source": [
        "<h2>Decorators</h2>\n",
        "\n",
        "Ein Decorator in Python ist so etwas wie ein Wrapper, eine äußere Umhüllung einer oder mehrerer Funktionen oder Klassen. Ein Decorator kann das Verhalten der dekorierten Funktionen oder Klassen nach außen verändern."
      ]
    },
    {
      "cell_type": "code",
      "metadata": {
        "id": "6u7cRh-DrAHq"
      },
      "source": [
        "# Die folgende Decorator-Syntax:\n",
        "@verwandle\n",
        "def target():\n",
        "    print('Hier läuft gerade die Funktion target()')\n",
        "\n",
        "# Erzielt dasselbe Ergebnis wie diese Syntax:\n",
        "def target():\n",
        "    print('Hier läuft gerade die Funktion target()')\n",
        "\n",
        "verwandle(target)"
      ],
      "execution_count": null,
      "outputs": []
    },
    {
      "cell_type": "markdown",
      "metadata": {
        "id": "aGsnXdN3rmW5"
      },
      "source": [
        "Ein Decorator sorgt dafür, dass bei jedem Aufruf der dekorierten Funktion (hier: target) zuerst die Decorator-Funktion (hier: verwandle) aufgerufen und ihr die dekorierte Funktion (hier: target) als Parameter übergeben wird. "
      ]
    },
    {
      "cell_type": "code",
      "metadata": {
        "colab": {
          "base_uri": "https://localhost:8080/"
        },
        "id": "VAOGnCiksV7S",
        "outputId": "a946c347-04f5-4498-896a-eb6620758c04"
      },
      "source": [
        "# Um das zu beweisen, müssen wir die Funktion verwandle() implementieren\n",
        "def verwandle(func):\n",
        "    def my_func():\n",
        "        print('Ätsch, hier läuft gerade die Funktion my_func()')\n",
        "    return my_func\n",
        "\n",
        "@verwandle\n",
        "def target():\n",
        "    print('Hier läuft gerade die Funktion target()')\n",
        "\n",
        "target()   "
      ],
      "execution_count": 3,
      "outputs": [
        {
          "output_type": "stream",
          "text": [
            "Ätsch, hier läuft gerade die Funktion my_func()\n"
          ],
          "name": "stdout"
        }
      ]
    },
    {
      "cell_type": "markdown",
      "metadata": {
        "id": "sALkuX0UtQtN"
      },
      "source": [
        "Der Decorator gibt also in diesem Fall eine andere Funktion zurück als die, die ihm ursprünglich übergeben wurde und die wird dann ausgeführt. Das muss nicht so sein; alternativ kann der Decorator auch einfach einige Befehle zusätzlich ausführen und dann die ursprünglich übergebene Funktion zurückgeben, die dann ausgeführt wird."
      ]
    },
    {
      "cell_type": "code",
      "metadata": {
        "colab": {
          "base_uri": "https://localhost:8080/"
        },
        "id": "N8NjVcF7tneO",
        "outputId": "fcaa8e8b-9fec-47f2-ed6d-4acdb262186e"
      },
      "source": [
        "def verwandle(func):\n",
        "    print('Achtung, hier läuft gerade die Funktion verwandle()')\n",
        "    return func\n",
        "\n",
        "@verwandle\n",
        "def target():\n",
        "    print('Hier läuft gerade die Funktion target()')\n",
        "\n",
        "target()   "
      ],
      "execution_count": 4,
      "outputs": [
        {
          "output_type": "stream",
          "text": [
            "Achtung, hier läuft gerade die Funktion verwandle()\n",
            "Hier läuft gerade die Funktion target()\n"
          ],
          "name": "stdout"
        }
      ]
    },
    {
      "cell_type": "markdown",
      "metadata": {
        "id": "BbwPJ4KsoIE0"
      },
      "source": [
        "Oder der Decorator könnte in seiner selbst definierten Funktion die ursprünglich übergebene Funktion aufrufen und zusätzlich vorher oder nachher noch Befehle ausführen."
      ]
    },
    {
      "cell_type": "code",
      "metadata": {
        "colab": {
          "base_uri": "https://localhost:8080/"
        },
        "id": "8YaizASruKUu",
        "outputId": "666c142a-da85-44e2-ad18-d3b3407959fc"
      },
      "source": [
        "def verwandle(func):\n",
        "    def my_func():\n",
        "        func()\n",
        "        print('Übrigens, hier läuft gerade die Funktion my_func()')\n",
        "    return my_func\n",
        "\n",
        "@verwandle\n",
        "def target():\n",
        "    print('Hier läuft gerade die Funktion target()')\n",
        "\n",
        "target()   "
      ],
      "execution_count": 6,
      "outputs": [
        {
          "output_type": "stream",
          "text": [
            "Hier läuft gerade die Funktion target()\n",
            "Übrigens, hier läuft gerade die Funktion my_func()\n"
          ],
          "name": "stdout"
        }
      ]
    },
    {
      "cell_type": "markdown",
      "metadata": {
        "id": "bHokjgzsu0ks"
      },
      "source": [
        "Die definierte Decorator-Funktion kann natürlich zur Veränderung von mehr als einer Funktion genutzt werden. Es gibt auch einige in Python standardmäßig definierte Decorators. Die bekanntesten sind @staticmethod, @classmethod, @property, @wraps, @timeit.<br/>\n",
        "<li>@classmethod: \n",
        "Der classmethod Decorator erlaubt es einer Methode, bei der Erzeugung von Instanzen der Klasse selbst mitzuwirken. Der erste Übergabeparameter ist daher kein konkretes Objekt, sondern die Klasse.\n",
        "<li> @staticmethod: \n",
        "Der staticmethod Decorator definiert eine Methode, die keinen Zugriff auf die Klasse oder die Instanz der Klasse hat, sie muss also ohne die internen Attribute des Objekts auskommen.\n",
        "<li>@property: \n",
        "Der @property Decorator erlaubt es, auf eine Methode lesend wie auf ein Attribut zuzugreifen. "
      ]
    },
    {
      "cell_type": "code",
      "metadata": {
        "colab": {
          "base_uri": "https://localhost:8080/"
        },
        "id": "bm08NyNF0_L4",
        "outputId": "715881cc-e344-42f8-ea44-808b9653befa"
      },
      "source": [
        "# Beispiel für den @classmethod Decorator\n",
        "class Student(object):\n",
        "\n",
        "    def __init__(self, first_name, last_name):\n",
        "        self.first_name = first_name\n",
        "        self.last_name = last_name\n",
        "\n",
        "    @classmethod\n",
        "    def from_string(cls, name_str):\n",
        "        first_name, last_name = map(str, name_str.split(' '))\n",
        "        student = cls(first_name, last_name)\n",
        "        return student\n",
        "\n",
        "# Statt dieser Instantiierung\n",
        "neil = Student('Neil', 'Armstrong')\n",
        "\n",
        "# Kann ich nun diese verwenden:\n",
        "scott = Student.from_string('Scott Robinson')\n",
        "print(scott.last_name)\n",
        "\n",
        "# Das ließe sich mit weiteren Methoden ausbauen, z. B. from_json()"
      ],
      "execution_count": 2,
      "outputs": [
        {
          "output_type": "stream",
          "text": [
            "Robinson\n"
          ],
          "name": "stdout"
        }
      ]
    },
    {
      "cell_type": "code",
      "metadata": {
        "colab": {
          "base_uri": "https://localhost:8080/"
        },
        "id": "O-SbgqCq2Ikj",
        "outputId": "a4d0981b-9451-4070-abdd-b7b21fd227ae"
      },
      "source": [
        "# Beispiel für den @staticmethod Decorator\n",
        "class Student(object):\n",
        "\n",
        "    def __init__(self, first_name, last_name):\n",
        "        self.first_name = first_name\n",
        "        self.last_name = last_name\n",
        "\n",
        "    @staticmethod\n",
        "    def is_full_name(name_str):\n",
        "        names = name_str.split(' ')\n",
        "        return len(names) > 1\n",
        "\n",
        "# Man benötigt gar kein instantiiertes Objekt für den Aufruf der Methode\n",
        "print(Student.is_full_name('Scott Robinson'))   # True\n",
        "print(Student.is_full_name('Scott'))            # False"
      ],
      "execution_count": 4,
      "outputs": [
        {
          "output_type": "stream",
          "text": [
            "True\n",
            "False\n"
          ],
          "name": "stdout"
        }
      ]
    },
    {
      "cell_type": "code",
      "metadata": {
        "colab": {
          "base_uri": "https://localhost:8080/"
        },
        "id": "rL1aaSDYyrxm",
        "outputId": "93b712d0-e3e1-408c-e12c-f8822f73deeb"
      },
      "source": [
        "# Beispiel für den @property Decorator\n",
        "class Student:\n",
        "\n",
        "    def __init__(self, name):\n",
        "        self.__name = name\n",
        "\n",
        "    @property\n",
        "    def name(self):\n",
        "        return self.__name\n",
        "\n",
        "s = Student('Steve')\n",
        "# Die Klasse Student hat eigentlich kein Attribut name, sondern nur \n",
        "# eine Funktion name() und ein nach außen nicht sichtbares Attribut __name.\n",
        "# Mit dem @property Decorator kann ich die Funktion name lesen wie ein Attribut:\n",
        "print(s.name)"
      ],
      "execution_count": 9,
      "outputs": [
        {
          "output_type": "stream",
          "text": [
            "Steve\n"
          ],
          "name": "stdout"
        }
      ]
    },
    {
      "cell_type": "markdown",
      "metadata": {
        "id": "BVsA4PB0z9t9"
      },
      "source": [
        "Das ganze Thema Decorators wird wesentlich ausführlicher erklärt im Kapitel 7 des Buchs \"Fluent Python\"."
      ]
    }
  ]
}