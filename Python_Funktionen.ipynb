{
  "nbformat": 4,
  "nbformat_minor": 0,
  "metadata": {
    "colab": {
      "name": "Python_Funktionen.ipynb",
      "provenance": [],
      "authorship_tag": "ABX9TyM0JOJ26wsuaZnNoPBvxCZt",
      "include_colab_link": true
    },
    "kernelspec": {
      "name": "python3",
      "display_name": "Python 3"
    },
    "language_info": {
      "name": "python"
    }
  },
  "cells": [
    {
      "cell_type": "markdown",
      "metadata": {
        "id": "view-in-github",
        "colab_type": "text"
      },
      "source": [
        "<a href=\"https://colab.research.google.com/github/michael-wettach/pythonsamples/blob/main/Python_Funktionen.ipynb\" target=\"_parent\"><img src=\"https://colab.research.google.com/assets/colab-badge.svg\" alt=\"Open In Colab\"/></a>"
      ]
    },
    {
      "cell_type": "markdown",
      "metadata": {
        "id": "qX9057zENbkY"
      },
      "source": [
        "<h2>Funktionen sind vollwertige Objekte</h2>\n",
        "\n",
        "Ein vollwertiges Objekt (first class object) besitzt mindestens die folgenden Eigenschaften bzw. Fähigkeiten:\n",
        "<li>Kann zur Laufzeit erzeugt werden\n",
        "<li>Kann einer Variablen oder Datenstruktur zugewiesen werden\n",
        "<li>Kann einer Funktion als Parameter übergeben werden\n",
        "<li>Kann als Ergebnis einer Funktion zurückgegeben werden\n",
        "\n",
        "Zitat und Beispiel entnommen aus dem Buch \"Fluent Python\"."
      ]
    },
    {
      "cell_type": "code",
      "metadata": {
        "colab": {
          "base_uri": "https://localhost:8080/"
        },
        "id": "99SvjiT5NWRB",
        "outputId": "bca37736-ca1b-4aee-e296-e6911a39c61a"
      },
      "source": [
        "# Beispiel: die mathematische Funktion Fakultät\n",
        "def fakultaet(n):\n",
        "    '''Gibt den Wert von n! (n Fakultät) zurück.'''\n",
        "    return 1 if n < 2 else n * fakultaet(n-1)\n",
        "\n",
        "print( fakultaet(10) )\n",
        "\n",
        "# Eine Funktion ist ein Objekt mit Eigenschaften\n",
        "print( fakultaet.__doc__ )\n",
        "\n",
        "# Man kann die Funktion einer Variablen zuweisen\n",
        "my_var = fakultaet\n",
        "print(my_var)\n",
        "\n",
        "# Man kann die Funktion als Parameter übergeben, z. B. der Funktion map()\n",
        "print( list( map( my_var, range(5) ) ) )"
      ],
      "execution_count": 4,
      "outputs": [
        {
          "output_type": "stream",
          "text": [
            "3628800\n",
            "Gibt den Wert von n! (n Fakultät) zurück.\n",
            "<function fakultaet at 0x7fa935f7c7a0>\n",
            "[1, 1, 2, 6, 24]\n"
          ],
          "name": "stdout"
        }
      ]
    },
    {
      "cell_type": "code",
      "metadata": {
        "colab": {
          "base_uri": "https://localhost:8080/"
        },
        "id": "OFlsjXbUQ5S8",
        "outputId": "c6beb9c6-4889-4946-ac65-c829562b30ee"
      },
      "source": [
        "# Die Eigenschaften bzw. Methoden eines Python-Objekts\n",
        "# kann man mit der Funktion dir(<Objektname>) auflisten:\n",
        "for i, j in enumerate(dir(fakultaet), 1):   \n",
        "    if(i % 4 == 0):\n",
        "        print(j.ljust(24))\n",
        "    else:\n",
        "        print(j.ljust(24), end = '') "
      ],
      "execution_count": 21,
      "outputs": [
        {
          "output_type": "stream",
          "text": [
            "__annotations__         __call__                __class__               __closure__             \n",
            "__code__                __defaults__            __delattr__             __dict__                \n",
            "__dir__                 __doc__                 __eq__                  __format__              \n",
            "__ge__                  __get__                 __getattribute__        __globals__             \n",
            "__gt__                  __hash__                __init__                __init_subclass__       \n",
            "__kwdefaults__          __le__                  __lt__                  __module__              \n",
            "__name__                __ne__                  __new__                 __qualname__            \n",
            "__reduce__              __reduce_ex__           __repr__                __setattr__             \n",
            "__sizeof__              __str__                 __subclasshook__        "
          ],
          "name": "stdout"
        }
      ]
    },
    {
      "cell_type": "markdown",
      "metadata": {
        "id": "WwyAEJ7mNZ7X"
      },
      "source": [
        "<h2>Parameter von Funktionen<h2/>\n",
        "\n",
        "Es gibt mehrere Arten der Zuordnung von Parametern im Funktionsaufruf:<br/>\n",
        "* Positional, d. h. durch die Reihenfolge bestimmt\n",
        "* Tuple, d. h. eine Liste von Werten mit asterisk (*param) in der Signatur\n",
        "* Bestimmtes Keyword, d. h. in Signatur und beim Aufruf wird Name = Wert übergeben\n",
        "* Unbestimmte Keywords, d. h. in Signatur wird ein Dictionary (**dict) benannt"
      ]
    },
    {
      "cell_type": "code",
      "metadata": {
        "colab": {
          "base_uri": "https://localhost:8080/"
        },
        "id": "YZCMoMRtXlfP",
        "outputId": "683587ba-8462-4e6b-fe7c-12fb1000edac"
      },
      "source": [
        "# Beispiel: eine Funktion zum Ausgeben von HTML Tags aus dem Buch \"Fluent Python\"\n",
        "# Der erste Parameter \"name\" ist positional\n",
        "# Der zweite Parameter \"content\" ist eine Liste von Werten\n",
        "# Der dritte kann nur durch explizite Zuweisung cls='Klasse' gefüllt werden\n",
        "#  (wird benötigt, weil class ein reserviertes Wort in Python ist)\n",
        "# Der vierte übernimmt alle weiteren Name = Wert Angaben in ein Dictionary.\n",
        "\n",
        "def tag(name, *content, cls=None, **attrs):\n",
        "    '''Generate one or more HTML tags'''\n",
        "    if cls is not None:\n",
        "        attrs['class'] = cls\n",
        "    if attrs:\n",
        "        attr_str = ''.join(' %s=\"%s\"' % (attr, value) for attr, value in sorted(attrs.items()))\n",
        "    else:\n",
        "        attr_str = ''\n",
        "    if content:\n",
        "        return '\\n'.join('<%s%s>%s</%s>' % (name, attr_str, c, name) for c in content)\n",
        "    else: \n",
        "        return '<%s%s/>' % (name, attr_str)\n",
        "\n",
        "# Beispiel-Aufrufe\n",
        "print( tag('br') )\n",
        "print( tag('p', 'Hi') )\n",
        "print( tag('p', 'hello', 'world') )\n",
        "print( tag('p', 'hello', id=33) )\n",
        "print( tag('p', 'hello', cls='sidebar') )"
      ],
      "execution_count": 28,
      "outputs": [
        {
          "output_type": "stream",
          "text": [
            "<br/>\n",
            "<p>Hi</p>\n",
            "<p>hello</p>\n",
            "<p>world</p>\n",
            "<p id=\"33\">hello</p>\n",
            "<p class=\"sidebar\">hello</p>\n"
          ],
          "name": "stdout"
        }
      ]
    }
  ]
}