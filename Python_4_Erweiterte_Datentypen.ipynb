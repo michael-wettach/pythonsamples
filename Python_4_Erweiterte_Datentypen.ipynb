{
  "nbformat": 4,
  "nbformat_minor": 0,
  "metadata": {
    "colab": {
      "name": "Python_4_Erweiterte_Datentypen.ipynb",
      "provenance": [],
      "authorship_tag": "ABX9TyMZGPbIen5BPO7RRwhGJGa2",
      "include_colab_link": true
    },
    "kernelspec": {
      "name": "python3",
      "display_name": "Python 3"
    },
    "language_info": {
      "name": "python"
    }
  },
  "cells": [
    {
      "cell_type": "markdown",
      "metadata": {
        "id": "view-in-github",
        "colab_type": "text"
      },
      "source": [
        "<a href=\"https://colab.research.google.com/github/michael-wettach/pythonsamples/blob/main/Python_4_Erweiterte_Datentypen.ipynb\" target=\"_parent\"><img src=\"https://colab.research.google.com/assets/colab-badge.svg\" alt=\"Open In Colab\"/></a>"
      ]
    },
    {
      "cell_type": "markdown",
      "metadata": {
        "id": "m9sbsLx7TJj8"
      },
      "source": [
        "<h1>Nützliche Python Module</h1>\n",
        "\n",
        "Ich will noch einige Module vorstellen, die die Basisfunktionalität von Python erweitern. Da gibt es natürlich über 300.000 Projekte in https://pypi.org/ (viele davon sind kleine Privatprojekte und schaffen es nicht in die offizielle Python Dokumentation docs.python.org). Da in der letzten Sitzung noch einmal das Dictionary nachgefragt wurde, beginne ich mit dem Thema Datentypen. \n",
        "\n",
        "<h2>Erweiterte Datentypen im Modul collections</h2>\n",
        "\n",
        "Das Dictionary selbst und die eingebauten iterierbaren Typen wurden bereits in Teil 1 meiner Kurseinheiten vorgestellt. Das Modul collections erweitert diese um einige Typen für spezielle Anwendungsgebiete, die man oft theoretisch auch als Dictionary abbilden könnte, die innerhalb des Moduls collections aber effizienter implementiert sind. Einige Einführungen findet man hier:\n",
        "* https://docs.python.org/3/library/collections.html \n",
        "* https://www.digitalocean.com/community/tutorials/how-to-use-the-collections-module-in-python-3-de \n",
        "* https://www.geeksforgeeks.org/python-collections-module/"
      ]
    },
    {
      "cell_type": "code",
      "metadata": {
        "colab": {
          "base_uri": "https://localhost:8080/"
        },
        "id": "4v2fr58fUlXL",
        "outputId": "d0bbfc2e-f26c-4a14-92db-3ae6f4bd108d"
      },
      "source": [
        "# Zunächst nochmal die Wiederholung: ein Dictionary speichert Werte für benannte Inhalte.\n",
        "# Jeder Inhalts-Name kommt nur einmal in dem Dictionary vor, diese heißen daher auch Keys.\n",
        "my_dict = {'Name': 'Nemo', 'Gattung': 'Clownfisch', 'Standort': 'Aquarium 1'}\n",
        "print(my_dict)\n",
        "print(my_dict.keys())      # Liefert eine Liste aller Namen, zu denen etwas im Dictionary steht\n",
        "print(my_dict.items())     # Liefert alle Namen und deren Wert als eine Liste von Tupeln\n",
        "print(my_dict['Name'])     # Liefert den Wert zu einem einzelnen eingetragenen Namen"
      ],
      "execution_count": 5,
      "outputs": [
        {
          "output_type": "stream",
          "text": [
            "{'Name': 'Nemo', 'Gattung': 'Clownfisch', 'Standort': 'Aquarium 1'}\n",
            "dict_keys(['Name', 'Gattung', 'Standort'])\n",
            "dict_items([('Name', 'Nemo'), ('Gattung', 'Clownfisch'), ('Standort', 'Aquarium 1')])\n",
            "Nemo\n"
          ],
          "name": "stdout"
        }
      ]
    },
    {
      "cell_type": "markdown",
      "metadata": {
        "id": "CkhA_urWa7X-"
      },
      "source": [
        "Man kann sich den Inhalt des Dictionaries auch vorstellen als einen Datensatz in einer Datenbank.\n",
        "<table width=\"50%\">\n",
        "<tr><td>Name</td><td>Gattung</td><td>Standort</td></tr>\n",
        "<tr><td>Nemo</td><td>Clownfisch</td><td>Aquarium 1</td></tr>\n",
        "</table>\n",
        "\n",
        "\n",
        "Um das Ganze zu einer richtigen Tabelle wie in einer Datenbank auszubauen, müsste man eine Liste von solchen Dictionaries anlegen. Blöd ist dann allerdings, dass jedes einzelne Dictionary wieder die Keys Name, Gattung und Standort definieren muss. Für so etwas gibt es im Modul Pandas den Dataframe, im Modul Collections das Named Tuple."
      ]
    },
    {
      "cell_type": "code",
      "metadata": {
        "colab": {
          "base_uri": "https://localhost:8080/"
        },
        "id": "QRjrJHFAYcFq",
        "outputId": "6e20062d-4bd1-480b-b00d-8dd5a6b9d404"
      },
      "source": [
        "# Jetzt machen wir das mal mit einem Named Tuple\n",
        "from collections import namedtuple\n",
        "\n",
        "# Der folgende Aufruf erzeugt eine Klasse mit dem Namen \"Fisch\" \n",
        "Fisch = namedtuple('Fisch', ['Name', 'Gattung', 'Standort'])\n",
        "\n",
        "# Der folgende Aufruf instantiiert die Klasse mit Werten\n",
        "Nemo = Fisch('Nemo', 'Clownfisch', 'Aquarium 1')\n",
        "\n",
        "print(Nemo)"
      ],
      "execution_count": 6,
      "outputs": [
        {
          "output_type": "stream",
          "text": [
            "Fisch(Name='Nemo', Gattung='Clownfisch', Standort='Aquarium 1')\n"
          ],
          "name": "stdout"
        }
      ]
    }
  ]
}