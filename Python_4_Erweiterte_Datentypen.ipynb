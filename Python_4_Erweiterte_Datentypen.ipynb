{
  "nbformat": 4,
  "nbformat_minor": 0,
  "metadata": {
    "colab": {
      "name": "Python_4_Erweiterte_Datentypen.ipynb",
      "provenance": [],
      "authorship_tag": "ABX9TyOKPD9PYz5HwplFFezwnm/F",
      "include_colab_link": true
    },
    "kernelspec": {
      "name": "python3",
      "display_name": "Python 3"
    },
    "language_info": {
      "name": "python"
    }
  },
  "cells": [
    {
      "cell_type": "markdown",
      "metadata": {
        "id": "view-in-github",
        "colab_type": "text"
      },
      "source": [
        "<a href=\"https://colab.research.google.com/github/michael-wettach/pythonsamples/blob/main/Python_4_Erweiterte_Datentypen.ipynb\" target=\"_parent\"><img src=\"https://colab.research.google.com/assets/colab-badge.svg\" alt=\"Open In Colab\"/></a>"
      ]
    },
    {
      "cell_type": "markdown",
      "metadata": {
        "id": "m9sbsLx7TJj8"
      },
      "source": [
        "<h1>Erweiterte Datentypen im Modul collections</h1>\n",
        "\n",
        "Ich will noch einige Module vorstellen, die die Basisfunktionalität von Python erweitern. Da gibt es natürlich über 300.000 Projekte in https://pypi.org/ (viele davon sind kleine Privatprojekte und schaffen es nicht in die offizielle Python Dokumentation docs.python.org). Da in der letzten Sitzung noch einmal das Dictionary nachgefragt wurde, beginne ich mit dem Thema Datentypen. \n",
        "\n",
        "Das Dictionary selbst und die eingebauten iterierbaren Typen wurden bereits in Teil 1 meiner Kurseinheiten vorgestellt. Das Modul collections erweitert diese um einige Typen für spezielle Anwendungsgebiete, die man oft theoretisch auch als Dictionary abbilden könnte, die innerhalb des Moduls collections aber effizienter implementiert sind. Einige Einführungen findet man hier:\n",
        "* https://docs.python.org/3/library/collections.html \n",
        "* https://www.digitalocean.com/community/tutorials/how-to-use-the-collections-module-in-python-3-de \n",
        "* https://www.geeksforgeeks.org/python-collections-module/\n"
      ]
    },
    {
      "cell_type": "code",
      "metadata": {
        "colab": {
          "base_uri": "https://localhost:8080/"
        },
        "id": "4v2fr58fUlXL",
        "outputId": "d0bbfc2e-f26c-4a14-92db-3ae6f4bd108d"
      },
      "source": [
        "# Zunächst nochmal die Wiederholung: ein Dictionary speichert Werte für benannte Inhalte.\n",
        "# Jeder Inhalts-Name kommt nur einmal in dem Dictionary vor, diese heißen daher auch Keys.\n",
        "my_dict = {'Name': 'Nemo', 'Gattung': 'Clownfisch', 'Standort': 'Aquarium 1'}\n",
        "print(my_dict)\n",
        "print(my_dict.keys())      # Liefert eine Liste aller Namen, zu denen etwas im Dictionary steht\n",
        "print(my_dict.items())     # Liefert alle Namen und deren Wert als eine Liste von Tupeln\n",
        "print(my_dict['Name'])     # Liefert den Wert zu einem einzelnen eingetragenen Namen"
      ],
      "execution_count": 5,
      "outputs": [
        {
          "output_type": "stream",
          "text": [
            "{'Name': 'Nemo', 'Gattung': 'Clownfisch', 'Standort': 'Aquarium 1'}\n",
            "dict_keys(['Name', 'Gattung', 'Standort'])\n",
            "dict_items([('Name', 'Nemo'), ('Gattung', 'Clownfisch'), ('Standort', 'Aquarium 1')])\n",
            "Nemo\n"
          ],
          "name": "stdout"
        }
      ]
    },
    {
      "cell_type": "markdown",
      "metadata": {
        "id": "CkhA_urWa7X-"
      },
      "source": [
        "Man kann sich den Inhalt des Dictionaries auch vorstellen als einen Datensatz in einer Datenbank.\n",
        "<table width=\"50%\">\n",
        "<tr><td>Name</td><td>Gattung</td><td>Standort</td></tr>\n",
        "<tr><td>Nemo</td><td>Clownfisch</td><td>Aquarium 1</td></tr>\n",
        "</table>\n",
        "\n",
        "\n",
        "Um das Ganze zu einer richtigen Tabelle wie in einer Datenbank auszubauen, müsste man eine Liste von solchen Dictionaries anlegen. Blöd ist dann allerdings, dass jedes einzelne Dictionary wieder die Keys Name, Gattung und Standort definieren muss. \n",
        "\n",
        "\n",
        "<h2>Named Tuple</h2>\n",
        "\n",
        "Für so etwas gibt es im Modul Pandas den Dataframe, im Modul Collections das Named Tuple. Ein Artikel auf realpython.com gibt an, dass ein Named Tuple ungefähr 1/3 des Speicherplatzes eines analogen Dictionaries benötigt."
      ]
    },
    {
      "cell_type": "code",
      "metadata": {
        "colab": {
          "base_uri": "https://localhost:8080/"
        },
        "id": "QRjrJHFAYcFq",
        "outputId": "25555d1d-283c-455f-ba7c-2f9b12c6c9d9"
      },
      "source": [
        "# Jetzt machen wir das mal mit einem Named Tuple\n",
        "from collections import namedtuple\n",
        "\n",
        "# Der folgende Aufruf erzeugt eine Klasse mit dem Namen \"Fisch\" \n",
        "Fisch = namedtuple('Fisch', ['Name', 'Gattung', 'Standort'])\n",
        "\n",
        "# Alternativ kann statt einer Liste auch ein String mit Leerzeichen übergeben werden.\n",
        "Reptil = namedtuple('Reptil', 'Name Gattung Standort')\n",
        "\n",
        "# Der folgende Aufruf instantiiert die Klasse mit Werten\n",
        "Nemo = Fisch('Nemo', 'Clownfisch', 'Aquarium 1')\n",
        "Kaa = Reptil('Kaa', 'Schlange', 'Indien')\n",
        "\n",
        "# Alternativ kann die Klasse auch aus einem Dictionary instantiiert werden.\n",
        "# Zur Auflösung des Dictionaries in Einzelwerte nutzen wir den ** Operator.\n",
        "my_dict = {'Name': 'Dorie', 'Gattung': 'Paletten-Doktorfisch', 'Standort': 'Südsee'}\n",
        "Dorie = Fisch(**my_dict)\n",
        "\n",
        "print(Nemo)\n",
        "print(Kaa)\n",
        "print(Dorie)"
      ],
      "execution_count": 36,
      "outputs": [
        {
          "output_type": "stream",
          "text": [
            "Fisch(Name='Nemo', Gattung='Clownfisch', Standort='Aquarium 1')\n",
            "Reptil(Name='Kaa', Gattung='Schlange', Standort='Indien')\n",
            "Fisch(Name='Dorie', Gattung='Paletten-Doktorfisch', Standort='Südsee')\n"
          ],
          "name": "stdout"
        }
      ]
    },
    {
      "cell_type": "code",
      "metadata": {
        "colab": {
          "base_uri": "https://localhost:8080/"
        },
        "id": "kijw4QcTdru9",
        "outputId": "09556fa5-fbc9-4830-c08f-3f2a929cca42"
      },
      "source": [
        "# Zugriff auf einzelne Werte\n",
        "print(Nemo.Name, \"/\", Nemo.Gattung, \"/\", Nemo.Standort)"
      ],
      "execution_count": 13,
      "outputs": [
        {
          "output_type": "stream",
          "text": [
            "Nemo / Clownfisch / Aquarium 1\n"
          ],
          "name": "stdout"
        }
      ]
    },
    {
      "cell_type": "code",
      "metadata": {
        "id": "ZVpqi6HJg66p"
      },
      "source": [
        "# Der Datentyp eignet sich gut zur Verarbeitung von tabellarischen Daten\n",
        "# Beispiel aus https://realpython.com/python-namedtuple/#reading-tabular-data-from-files-and-databases \n",
        "all_the_text = \"\"\"name,job,email\n",
        "\"Linda\",\"Technical Lead\",\"linda@example.com\"\n",
        "\"Joe\",\"Senior Web Developer\",\"joe@example.com\"\n",
        "\"Lara\",\"Project Manager\",\"lara@example.com\"\n",
        "\"David\",\"Data Analyst\",\"david@example.com\"\n",
        "\"Jane\",\"Senior Python Developer\",\"jane@example.com\"\n",
        "\"\"\"\n",
        "with open(\"Employees.csv\", mode='w') as my_csv:\n",
        "  my_csv.write(all_the_text)"
      ],
      "execution_count": 16,
      "outputs": []
    },
    {
      "cell_type": "code",
      "metadata": {
        "colab": {
          "base_uri": "https://localhost:8080/"
        },
        "id": "89YP7HwUicjQ",
        "outputId": "ebf5f3de-03f0-4c0c-fe1a-4d9b8a8eb66a"
      },
      "source": [
        "# Jetzt lesen wir die CSV Datei mal ein\n",
        "import csv\n",
        "\n",
        "with open(\"Employees.csv\", \"r\") as csv_file:\n",
        "    reader = csv.reader(csv_file)\n",
        "\n",
        "    # Die erste Zeile enthält die Spaltenüberschriften zur Definition der Klasse\n",
        "    Employee = namedtuple(\"Employee\", next(reader), rename=True)\n",
        "    \n",
        "    # Die restlichen Zeilen können wir in einer For-Schleife abarbeiten\n",
        "    for row in reader:\n",
        "        employee = Employee(*row)\n",
        "        print(employee.name, \"works as\", employee.job, \"at\", employee.email)"
      ],
      "execution_count": 21,
      "outputs": [
        {
          "output_type": "stream",
          "text": [
            "Linda works as Technical Lead at linda@example.com\n",
            "Joe works as Senior Web Developer at joe@example.com\n",
            "Lara works as Project Manager at lara@example.com\n",
            "David works as Data Analyst at david@example.com\n",
            "Jane works as Senior Python Developer at jane@example.com\n"
          ],
          "name": "stdout"
        }
      ]
    },
    {
      "cell_type": "markdown",
      "metadata": {
        "id": "x7yzn9HM2tE_"
      },
      "source": [
        "Ein Named Tuple hat im Vergleich zu einem Dictionary abweichende Eigenschaften:\n",
        "* Ein Named Tuple ist immutable. <br/>\n",
        "  (Es gibt zwar eine Funktion _update() um Werte anzupassen, damit wird aber eine Kopie mit neuer Identität erzeugt.)\n",
        "* Ein Named Tuple ist geordnet und die einzelnen Elemente können per Index angesprochen werden.\n",
        "* Die Instanzen von namedtuple haben zusätzliche Attribute und Methoden."
      ]
    },
    {
      "cell_type": "code",
      "metadata": {
        "colab": {
          "base_uri": "https://localhost:8080/"
        },
        "id": "qyWMA4hIH7kZ",
        "outputId": "3599404b-f4c2-43e1-9c2f-359a542c0d80"
      },
      "source": [
        "# Verschiedene Möglichkeiten, Werte von Named Tuples zu lesen\n",
        "print(Nemo[1]) \n",
        "print(Nemo.Gattung)\n",
        "print(getattr(Nemo, 'Gattung'))"
      ],
      "execution_count": 32,
      "outputs": [
        {
          "output_type": "stream",
          "text": [
            "Clownfisch\n",
            "Clownfisch\n",
            "Clownfisch\n"
          ],
          "name": "stdout"
        }
      ]
    },
    {
      "cell_type": "code",
      "metadata": {
        "colab": {
          "base_uri": "https://localhost:8080/"
        },
        "id": "16sdfXvS9E82",
        "outputId": "17ea35c3-04d7-48d6-8e0f-bee666857c0e"
      },
      "source": [
        "# Die Attribute und Methoden sind trotz des führenden Unterstrichs im Namen öffentlich\n",
        "print(Nemo._fields)        # Attribut, enthält die vorhandenen Feldnamen als Tupel\n",
        "print(Nemo._asdict())      # Erzeugt ein OrderedDict, siehe weiter unten\n",
        "Cora = Fisch._make(Nemo)   # Erzeugt eine Kopie mit gleichen Eigenschaften\n",
        "Cora._replace(Name='Cora') # Ändert den Wert eines benannten Attributs\n",
        "print(Cora)                # Warum ist der Name hier nicht geändert?\n",
        "print(Cora._replace(Name='Cora'))"
      ],
      "execution_count": 34,
      "outputs": [
        {
          "output_type": "stream",
          "text": [
            "('Name', 'Gattung', 'Standort')\n",
            "OrderedDict([('Name', 'Nemo'), ('Gattung', 'Clownfisch'), ('Standort', 'Aquarium 1')])\n",
            "Fisch(Name='Nemo', Gattung='Clownfisch', Standort='Aquarium 1')\n",
            "Fisch(Name='Cora', Gattung='Clownfisch', Standort='Aquarium 1')\n"
          ],
          "name": "stdout"
        }
      ]
    },
    {
      "cell_type": "markdown",
      "metadata": {
        "id": "5d6u78kQkTHL"
      },
      "source": [
        "<h2>Ordered Dictionary</h2>\n",
        "\n",
        "Ein OrderedDict ist nichts weiter als ein Dictionary, das die Reihenfolge der Einträge so beibehält, wie sie eingefügt wurden. Änderungen von Werten ändern die Reihenfolge nicht, das Löschen und neue Einfügen eines Keys allerdings schon (der erscheint dann am Ende). Dieses Verhalten ist seit Python 3.7 Standard auch für normale Dictionaries, so dass dieser Datentyp nicht mehr wirklich einen Mehrwert bringt. Im Ausdruck mit print() sieht er etwas anders aus, da es sich um eine Klasse handelt; im Code wird er aber genauso verwendet."
      ]
    },
    {
      "cell_type": "code",
      "metadata": {
        "colab": {
          "base_uri": "https://localhost:8080/"
        },
        "id": "UvWHTsieH5qg",
        "outputId": "f81f5ce5-07b5-41b0-bfb5-1b524af0c194"
      },
      "source": [
        "my_asc = {}\n",
        "my_asc['A'] = 65\n",
        "my_asc['B'] = 66\n",
        "my_asc['E'] = 69\n",
        "my_asc['C'] = 67\n",
        "my_asc['D'] = 68\n",
        "print(my_asc)\n",
        "print(my_asc['A'])"
      ],
      "execution_count": 39,
      "outputs": [
        {
          "output_type": "stream",
          "text": [
            "{'A': 65, 'B': 66, 'E': 69, 'C': 67, 'D': 68}\n",
            "65\n"
          ],
          "name": "stdout"
        }
      ]
    },
    {
      "cell_type": "code",
      "metadata": {
        "colab": {
          "base_uri": "https://localhost:8080/"
        },
        "id": "d8keupQ9lTqY",
        "outputId": "c3ce4728-19c6-411e-dd58-72b33121df72"
      },
      "source": [
        "from collections import OrderedDict\n",
        "my_asc = OrderedDict()\n",
        "my_asc['A'] = 65\n",
        "my_asc['B'] = 66\n",
        "my_asc['E'] = 69\n",
        "my_asc['C'] = 67\n",
        "my_asc['D'] = 68\n",
        "print(my_asc)\n",
        "print(my_asc['A'])"
      ],
      "execution_count": 41,
      "outputs": [
        {
          "output_type": "stream",
          "text": [
            "OrderedDict([('A', 65), ('B', 66), ('E', 69), ('C', 67), ('D', 68)])\n",
            "65\n"
          ],
          "name": "stdout"
        }
      ]
    },
    {
      "cell_type": "markdown",
      "metadata": {
        "id": "L-2OwFpArLsG"
      },
      "source": [
        "<h2>Default Dictionary</h2>\n",
        "\n",
        "Dieser Typ erspart die Prüfung, ob ein Key in einem Dictionary vorhanden ist, bevor man ihn ausliest (nicht vorhandener Key gibt normalerweise einen key error). Hier wird bei Anfrage eines nicht existenten Keys einfach ein neuer mit einem Defaultwert angelegt. Dazu muss man bei der Erzeugung des Dictiaries eine Funktion angeben, die den Defaultwert liefert."
      ]
    },
    {
      "cell_type": "code",
      "metadata": {
        "colab": {
          "base_uri": "https://localhost:8080/"
        },
        "id": "Yt0qPhzErQKW",
        "outputId": "a2d766bd-01f1-45e6-db19-59b415f2e4cc"
      },
      "source": [
        "# Beispiel aus https://book.pythontips.com/en/latest/collections.html \n",
        "from collections import defaultdict\n",
        "\n",
        "# Wir erzeugen die Basisdaten für das neue Dictionary zunächst als Liste\n",
        "colours = [\n",
        "    ('Yasoob', 'Yellow'),\n",
        "    ('Ali', 'Blue'),\n",
        "    ('Arham', 'Green'),\n",
        "    ('Ali', 'Black'),\n",
        "    ('Yasoob', 'Red'),\n",
        "    ('Ahmed', 'Silver'),\n",
        "]\n",
        "\n",
        "# Jetzt definieren wir unser Default Dictionary \n",
        "favourite_colours = defaultdict(list)  # list liefert eine leere Liste\n",
        "\n",
        "for name, colour in colours:\n",
        "    # Achtung: append() setzt eigentlich eine existierende Liste voraus!\n",
        "    favourite_colours[name].append(colour)\n",
        "\n",
        "print(favourite_colours)"
      ],
      "execution_count": 42,
      "outputs": [
        {
          "output_type": "stream",
          "text": [
            "defaultdict(<class 'list'>, {'Yasoob': ['Yellow', 'Red'], 'Ali': ['Blue', 'Black'], 'Arham': ['Green'], 'Ahmed': ['Silver']})\n"
          ],
          "name": "stdout"
        }
      ]
    },
    {
      "cell_type": "markdown",
      "metadata": {
        "id": "8KT_-3kErQrI"
      },
      "source": [
        "<h2>deque</h2>\n",
        "\n",
        "Dieser Typ bietet eigentlich keine neue Funktionalität, die man nicht auch mit einer Liste implementieren könnte, aber er ist optimiert für schnelle push() und pop() Operationen und zwar sowohl am Anfang als auch am Ende der Liste. "
      ]
    },
    {
      "cell_type": "code",
      "metadata": {
        "colab": {
          "base_uri": "https://localhost:8080/"
        },
        "id": "yN_2gmQIu1xc",
        "outputId": "cabcfd2a-1af0-4788-9afd-4e9bafc11393"
      },
      "source": [
        "# Beispiel aus https://book.pythontips.com/en/latest/collections.html \n",
        "from collections import deque\n",
        "d = deque()\n",
        "d.append('1')  # Normale Listenoperation, fügt hinten an\n",
        "d.append('2')\n",
        "d.append('3')\n",
        "\n",
        "print(len(d))\n",
        "# Output: 3\n",
        "\n",
        "print(d[0])\n",
        "# Output: '1'\n",
        "\n",
        "print(d[-1])\n",
        "# Output: '3'\n",
        "\n",
        "# Die Funktion pop() kann bei Listen mit Parameter aufgerufen werden,\n",
        "# z. B. my_list.pop(0) wirft das erste Element raus.\n",
        "# Diese Funktion ist aber nicht optimiert. \n",
        "# Bei deque gibt es dafür neue Funktionen appendleft() und popleft().\n",
        "\n",
        "d = deque(range(5))\n",
        "print(len(d))\n",
        "# Output: 5\n",
        "\n",
        "print(d.popleft())\n",
        "# Output: 0\n",
        "\n",
        "print(d.pop())\n",
        "# Output: 4\n",
        "\n",
        "print(d)\n",
        "# Output: deque([1, 2, 3])"
      ],
      "execution_count": 43,
      "outputs": [
        {
          "output_type": "stream",
          "text": [
            "3\n",
            "1\n",
            "3\n",
            "5\n",
            "0\n",
            "4\n",
            "deque([1, 2, 3])\n"
          ],
          "name": "stdout"
        }
      ]
    }
  ]
}