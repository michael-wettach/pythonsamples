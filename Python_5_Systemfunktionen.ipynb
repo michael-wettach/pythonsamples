{
  "nbformat": 4,
  "nbformat_minor": 0,
  "metadata": {
    "colab": {
      "name": "Python_5_Systemfunktionen.ipynb",
      "provenance": [],
      "authorship_tag": "ABX9TyNWtFCsmDo1fHHBk/0gyIkj",
      "include_colab_link": true
    },
    "kernelspec": {
      "name": "python3",
      "display_name": "Python 3"
    },
    "language_info": {
      "name": "python"
    }
  },
  "cells": [
    {
      "cell_type": "markdown",
      "metadata": {
        "id": "view-in-github",
        "colab_type": "text"
      },
      "source": [
        "<a href=\"https://colab.research.google.com/github/michael-wettach/pythonsamples/blob/main/Python_5_Systemfunktionen.ipynb\" target=\"_parent\"><img src=\"https://colab.research.google.com/assets/colab-badge.svg\" alt=\"Open In Colab\"/></a>"
      ]
    },
    {
      "cell_type": "markdown",
      "metadata": {
        "id": "Ardm4Wvfxt0b"
      },
      "source": [
        "<h1>Module zur Interaktion mit dem Betriebssystem</h1>\n",
        "\n",
        "Frühere Versionen von Python nutzten dafür in erster Linie die Module sys und os. Aktuelle Versionen setzen eher auf das Modul subprocess; alle 3 haben in gewissen Bereichen ihre Berechtigung und sollen hier vorgestellt werden.\n",
        "\n",
        "<h2>Modul sys</h2>\n",
        "\n",
        "Das Modul sys stellt Informationen über die Laufzeitumgebung des aktuellen Python-Programms zur Verfügung. "
      ]
    },
    {
      "cell_type": "code",
      "metadata": {
        "colab": {
          "base_uri": "https://localhost:8080/"
        },
        "id": "3NOb2Fh-xfTQ",
        "outputId": "afaa6209-22e8-42d1-e035-8e9c5e33f7b2"
      },
      "source": [
        "import sys\n",
        "# Informationen über die Laufzeitumgebung\n",
        "print(sys.version)              # Gibt die aktuelle Python-Version aus\n",
        "print(sys.version_info)         # Versionsinfos als Objekt mit Attributen\n",
        "print(sys.platform)             # Betriebssystem, auf dem Python läuft\n",
        "print(sys.executable)           # Pfad zu Python\n",
        "print(sys.path)                 # Aktueller Inhalt der path-Variable\n",
        "print(sys.getrecursionlimit())  # Maximale Rekursionstiefe\n",
        "sys.setrecursionlimit(500)      # Kann man auch verändern\n",
        "print(sys.getrecursionlimit())  # Sollte jetzt 500 sein"
      ],
      "execution_count": 4,
      "outputs": [
        {
          "output_type": "stream",
          "text": [
            "3.7.10 (default, May  3 2021, 02:48:31) \n",
            "[GCC 7.5.0]\n",
            "sys.version_info(major=3, minor=7, micro=10, releaselevel='final', serial=0)\n",
            "linux\n",
            "/usr/bin/python3\n",
            "['', '/content', '/env/python', '/usr/lib/python37.zip', '/usr/lib/python3.7', '/usr/lib/python3.7/lib-dynload', '/usr/local/lib/python3.7/dist-packages', '/usr/lib/python3/dist-packages', '/usr/local/lib/python3.7/dist-packages/IPython/extensions', '/root/.ipython']\n",
            "500\n",
            "500\n"
          ],
          "name": "stdout"
        }
      ]
    },
    {
      "cell_type": "code",
      "metadata": {
        "colab": {
          "base_uri": "https://localhost:8080/"
        },
        "id": "GE2zn4VczpKH",
        "outputId": "1f8e9ed2-910b-4a04-91d0-7a93bc711218"
      },
      "source": [
        "# Das Modul sys enthält 3 Filehandles sys.stdin, sys.stdout, sys.stderr\n",
        "# Diese gibt es auch auf Betriebssystem-Ebene in Unix und Windows. \n",
        "# Die kann man zur Eingabe und Ausgabe nutzen oder auch umleiten.\n",
        "\n",
        "print(\"Textausgabe auf stdout\", file=sys.stdout)\n",
        "sys.stdout.write(\"So kann man auch Text ausgeben...\\n\")\n",
        "\n",
        "# Jetzt leiten wir das Filehandle stdout in eine Datei um\n",
        "save_stdout = sys.stdout     # für spätere Wiederherstellung\n",
        "\n",
        "with open(\"test.txt\",\"w\") as fh:\n",
        "    sys.stdout = fh\n",
        "    print(\"Diese Ausgabe wandert in test.txt\")\n",
        "\n",
        "# Hier wird die Umleitung zurück genommen\n",
        "sys.stdout = save_stdout\n",
        "print(\"Alles wieder normal\")"
      ],
      "execution_count": 9,
      "outputs": [
        {
          "output_type": "stream",
          "text": [
            "Textausgabe auf stdout\n",
            "So kann man auch Text ausgeben...\n",
            "Alles wieder normal\n"
          ],
          "name": "stdout"
        }
      ]
    },
    {
      "cell_type": "markdown",
      "metadata": {
        "id": "0Ls0iwFixsxh"
      },
      "source": [
        "<h2>Modul os</h2>\n",
        "\n",
        "Das Modul os stellt Funktionen für die Interaktion zwischen Python und dem Betriebssystem zur Verfügung. Generell sollte das Modul unabhängig vom Betriebssystem funktionieren, es gibt aber Funktionen die nur auf Linux oder nur auf Windows bereitgestellt werden oder sich geringfügig unterschiedlich verhalten."
      ]
    },
    {
      "cell_type": "code",
      "metadata": {
        "colab": {
          "base_uri": "https://localhost:8080/"
        },
        "id": "2Fk4xtUi1Jzz",
        "outputId": "a045a6a9-8c8b-4044-f1e3-a18fb0e8f1fc"
      },
      "source": [
        "import sys, os\n",
        "if sys.platform == \"linux\":\n",
        "    dir = os.popen(\"ls -l\").readlines()  # liest die Ausgabezeilen in eine Liste\n",
        "print(*dir)\n"
      ],
      "execution_count": 12,
      "outputs": [
        {
          "output_type": "stream",
          "text": [
            "total 8\n",
            " drwxr-xr-x 1 root root 4096 Jun  1 13:40 sample_data\n",
            " -rw-r--r-- 1 root root   34 Jun 12 15:23 test.txt\n",
            "\n"
          ],
          "name": "stdout"
        }
      ]
    }
  ]
}