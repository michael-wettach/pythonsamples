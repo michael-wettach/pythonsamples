{
  "nbformat": 4,
  "nbformat_minor": 0,
  "metadata": {
    "colab": {
      "name": "Python_5_Systemfunktionen.ipynb",
      "provenance": [],
      "authorship_tag": "ABX9TyMqFbCmPYgV4qXEJq8JwMP0",
      "include_colab_link": true
    },
    "kernelspec": {
      "name": "python3",
      "display_name": "Python 3"
    },
    "language_info": {
      "name": "python"
    }
  },
  "cells": [
    {
      "cell_type": "markdown",
      "metadata": {
        "id": "view-in-github",
        "colab_type": "text"
      },
      "source": [
        "<a href=\"https://colab.research.google.com/github/michael-wettach/pythonsamples/blob/main/Python_5_Systemfunktionen.ipynb\" target=\"_parent\"><img src=\"https://colab.research.google.com/assets/colab-badge.svg\" alt=\"Open In Colab\"/></a>"
      ]
    },
    {
      "cell_type": "markdown",
      "metadata": {
        "id": "Ardm4Wvfxt0b"
      },
      "source": [
        "<h1>Module zur Interaktion mit dem Betriebssystem</h1>\n",
        "\n",
        "Frühere Versionen von Python nutzten dafür in erster Linie die Module sys und os. Aktuelle Versionen setzen eher auf das Modul subprocess; alle 3 haben in gewissen Bereichen ihre Berechtigung und sollen hier vorgestellt werden.\n",
        "\n",
        "<h2>Modul sys</h2>\n",
        "\n",
        "Das Modul sys stellt Informationen über die Laufzeitumgebung des aktuellen Python-Programms zur Verfügung. "
      ]
    },
    {
      "cell_type": "code",
      "metadata": {
        "colab": {
          "base_uri": "https://localhost:8080/"
        },
        "id": "3NOb2Fh-xfTQ",
        "outputId": "3639ec88-d5eb-4de0-b371-d0dbecf20ab4"
      },
      "source": [
        "import sys\n",
        "# Informationen über die Laufzeitumgebung\n",
        "print(sys.version)              # Gibt die aktuelle Python-Version aus\n",
        "print(sys.version_info)         # Versionsinfos als Objekt mit Attributen\n",
        "print(sys.platform)             # Betriebssystem, auf dem Python läuft\n",
        "print(sys.executable)           # Pfad zu Python\n",
        "print(sys.path)                 # Aktueller Inhalt der path-Variable\n",
        "print(sys.getrecursionlimit())  # Maximale Rekursionstiefe\n",
        "sys.setrecursionlimit(500)      # Kann man auch verändern\n",
        "print(sys.getrecursionlimit())  # Sollte jetzt 500 sein"
      ],
      "execution_count": null,
      "outputs": [
        {
          "output_type": "stream",
          "text": [
            "3.7.10 (default, May  3 2021, 02:48:31) \n",
            "[GCC 7.5.0]\n",
            "sys.version_info(major=3, minor=7, micro=10, releaselevel='final', serial=0)\n",
            "linux\n",
            "/usr/bin/python3\n",
            "['', '/content', '/env/python', '/usr/lib/python37.zip', '/usr/lib/python3.7', '/usr/lib/python3.7/lib-dynload', '/usr/local/lib/python3.7/dist-packages', '/usr/lib/python3/dist-packages', '/usr/local/lib/python3.7/dist-packages/IPython/extensions', '/root/.ipython']\n",
            "1000\n",
            "500\n"
          ],
          "name": "stdout"
        }
      ]
    },
    {
      "cell_type": "code",
      "metadata": {
        "colab": {
          "base_uri": "https://localhost:8080/"
        },
        "id": "GE2zn4VczpKH",
        "outputId": "1f8e9ed2-910b-4a04-91d0-7a93bc711218"
      },
      "source": [
        "# Das Modul sys enthält 3 Filehandles sys.stdin, sys.stdout, sys.stderr\n",
        "# Diese gibt es auch auf Betriebssystem-Ebene in Unix und Windows. \n",
        "# Die kann man zur Eingabe und Ausgabe nutzen oder auch umleiten.\n",
        "\n",
        "print(\"Textausgabe auf stdout\", file=sys.stdout)\n",
        "sys.stdout.write(\"So kann man auch Text ausgeben...\\n\")\n",
        "\n",
        "# Jetzt leiten wir das Filehandle stdout in eine Datei um\n",
        "save_stdout = sys.stdout     # für spätere Wiederherstellung\n",
        "\n",
        "with open(\"test.txt\",\"w\") as fh:\n",
        "    sys.stdout = fh\n",
        "    print(\"Diese Ausgabe wandert in test.txt\")\n",
        "\n",
        "# Hier wird die Umleitung zurück genommen\n",
        "sys.stdout = save_stdout\n",
        "print(\"Alles wieder normal\")"
      ],
      "execution_count": null,
      "outputs": [
        {
          "output_type": "stream",
          "text": [
            "Textausgabe auf stdout\n",
            "So kann man auch Text ausgeben...\n",
            "Alles wieder normal\n"
          ],
          "name": "stdout"
        }
      ]
    },
    {
      "cell_type": "markdown",
      "metadata": {
        "id": "0Ls0iwFixsxh"
      },
      "source": [
        "<h2>Modul os</h2>\n",
        "\n",
        "Das Modul os stellt Funktionen für die Interaktion zwischen Python und dem Betriebssystem zur Verfügung. Generell sollte das Modul unabhängig vom Betriebssystem funktionieren, es gibt aber im Modul os Funktionen, die nur auf Linux oder nur auf Windows bereitgestellt werden oder sich geringfügig unterschiedlich verhalten. Das gilt natürlich erst recht für die Betriebssystem-Befehle, die über os-Funktionen aufgerufen werden. Wenn ein Python-Modul auf mehreren Plattformen laufen soll, muss man die Plattform abfragen."
      ]
    },
    {
      "cell_type": "code",
      "metadata": {
        "colab": {
          "base_uri": "https://localhost:8080/"
        },
        "id": "_QwMjsQSE_Xf",
        "outputId": "298c4c9e-4b78-442e-ccde-3e2834d74ed6"
      },
      "source": [
        "# Betriebssystem-Aufruf ohne Python\n",
        "!ls -l"
      ],
      "execution_count": null,
      "outputs": [
        {
          "output_type": "stream",
          "text": [
            "total 8\n",
            "drwxr-xr-x 1 root root 4096 Jun  1 13:40 sample_data\n",
            "-rw-r--r-- 1 root root   34 Jun 12 15:23 test.txt\n"
          ],
          "name": "stdout"
        }
      ]
    },
    {
      "cell_type": "code",
      "metadata": {
        "colab": {
          "base_uri": "https://localhost:8080/"
        },
        "id": "2Fk4xtUi1Jzz",
        "outputId": "e919f393-2b2d-4840-f25c-9b3359b22a10"
      },
      "source": [
        "import sys\n",
        "import os\n",
        "if sys.platform == \"linux\":\n",
        "    output = os.popen(\"ls -l\")  # führt einen Befehl aus und öffnet ein Handle auf die Ausgabe\n",
        "    dir = output.readlines()    # readlines() liest aus dem Handle in eine Liste\n",
        "print(*dir)"
      ],
      "execution_count": null,
      "outputs": [
        {
          "output_type": "stream",
          "text": [
            "total 8\n",
            " drwxr-xr-x 1 root root 4096 Jun  1 13:40 sample_data\n",
            " -rw-r--r-- 1 root root   34 Jun 12 15:23 test.txt\n",
            "\n"
          ],
          "name": "stdout"
        }
      ]
    },
    {
      "cell_type": "markdown",
      "metadata": {
        "id": "nDYrDXnL-TSt"
      },
      "source": [
        "Python bietet auch die Möglichkeit, einen selbständigen Unterprozess zu starten, der nicht zum Hauptprozess zurückkehrt.<br/> Dafür gibt es die Exec* Funktionen, die ich hier aber nicht weiter erläutere (siehe dazu https://www.python-kurs.eu/forking.php)."
      ]
    },
    {
      "cell_type": "markdown",
      "metadata": {
        "id": "VL20WSBOAhgX"
      },
      "source": [
        "<h2>Modul subprocess</h2>\n",
        "\n",
        "In neueren Python-Versionen wird für Betriebssystem-Aufrufe das Modul subprocess empfohlen. Siehe dazu\n",
        "* https://docs.python.org/3/library/subprocess.html\n",
        "* https://www.digitalocean.com/community/tutorials/how-to-use-subprocess-to-run-external-programs-in-python-3-de "
      ]
    },
    {
      "cell_type": "code",
      "metadata": {
        "colab": {
          "base_uri": "https://localhost:8080/"
        },
        "id": "oJ9gAKut7HdE",
        "outputId": "dcdb6443-5005-43e8-b2cb-c0aa442aee8a"
      },
      "source": [
        "import subprocess\n",
        "# Die Funktion check_output erspart das Auslesen des Filehandles \n",
        "if sys.platform == \"linux\":\n",
        "    output = subprocess.check_output([\"ls\", \"-l\"])\n",
        "# Die Ausgabe ist per default aber im Format byte Array, daher decode()\n",
        "print(output.decode(\"utf-8\"))    "
      ],
      "execution_count": null,
      "outputs": [
        {
          "output_type": "stream",
          "text": [
            "total 8\n",
            "drwxr-xr-x 1 root root 4096 Jun  1 13:40 sample_data\n",
            "-rw-r--r-- 1 root root   34 Jun 12 15:23 test.txt\n",
            "\n"
          ],
          "name": "stdout"
        }
      ]
    },
    {
      "cell_type": "code",
      "metadata": {
        "colab": {
          "base_uri": "https://localhost:8080/"
        },
        "id": "7v8-yTL8NtuZ",
        "outputId": "01a2ca78-ddc8-4fea-bfe4-f4d104929fcc"
      },
      "source": [
        "# Über Parameter können wir stdin, stdout und encoding setzen\n",
        "with open(\"test.txt\", \"r\") as fh:\n",
        "    output = subprocess.check_output([\"grep\", \"Ausgabe\"], stdin=fh, encoding=\"utf-8\")\n",
        "print(output)"
      ],
      "execution_count": null,
      "outputs": [
        {
          "output_type": "stream",
          "text": [
            "Diese Ausgabe wandert in test.txt\n",
            "\n"
          ],
          "name": "stdout"
        }
      ]
    },
    {
      "cell_type": "code",
      "metadata": {
        "colab": {
          "base_uri": "https://localhost:8080/"
        },
        "id": "NGPM5SVnEFL4",
        "outputId": "f79035b0-f2ef-4301-9ccc-a520ca0752dc"
      },
      "source": [
        "# Auf Betriebssystem-Ebene möchten wir evtl. auch Pipes nutzen\n",
        "!dmesg | grep \"VFS\""
      ],
      "execution_count": null,
      "outputs": [
        {
          "output_type": "stream",
          "text": [
            "[    0.866703] VFS: Disk quotas dquot_6.6.0\n",
            "[    0.867533] VFS: Dquot-cache hash table entries: 512 (order 0, 4096 bytes)\n",
            "[    1.601612] VFS: Mounted root (ext2 filesystem) readonly on device 253:0.\n"
          ],
          "name": "stdout"
        }
      ]
    },
    {
      "cell_type": "code",
      "metadata": {
        "colab": {
          "base_uri": "https://localhost:8080/"
        },
        "id": "oLdqHzVTExWC",
        "outputId": "1440cb91-272b-49f8-d46d-a4573d449199"
      },
      "source": [
        "# Das geht natürlich auch im Python Modul subprocess\n",
        "# Für das Lesen/Schreiben aus/in pipes wird die Funktion Popen.communicate() empfohlen.\n",
        "\n",
        "# Für den Unterprozess p1 leiten wir die Standardausgabe in eine Pipe.\n",
        "p1 = subprocess.Popen([\"dmesg\"], stdout=subprocess.PIPE)    \n",
        "\n",
        "# Daraus bedient sich dann der Unterprozess p2 über seine stdin Eingabe. \n",
        "# Auch die p2 Ausgabe muss in die Pipe zum anschließenden Auslesen mit communicate().\n",
        "p2 = subprocess.Popen([\"grep\", \"VFS\"], stdin=p1.stdout, stdout=subprocess.PIPE, encoding=\"utf-8\")   \n",
        "\n",
        "p1.stdout.close()                     # wichtig, damit p1 SIGPIPE bekommt, falls p2 früher endet.\n",
        "\n",
        "# Hinweis: Statt .stdin.write, .stdout.read or .stderr.read soll communicate() benutzt werden,\n",
        "# um deadlocks zu vermeiden falls andere OS pipe buffers den Kind-Prozess blockieren.\n",
        "output, retcode = p2.communicate()    # input=bytearray kann als Parameter auch übergeben werden.\n",
        "print(output)                         # Mit encoding=\"utf-8\" können wir direkt ausgeben.\n",
        "print(\"Returncode: \", retcode)        # retcode < 0 wäre ein Fehler.\n",
        "p2.stdout.close()"
      ],
      "execution_count": null,
      "outputs": [
        {
          "output_type": "stream",
          "text": [
            "[    0.866703] VFS: Disk quotas dquot_6.6.0\n",
            "[    0.867533] VFS: Dquot-cache hash table entries: 512 (order 0, 4096 bytes)\n",
            "[    1.601612] VFS: Mounted root (ext2 filesystem) readonly on device 253:0.\n",
            "\n",
            "Returncode:  None\n"
          ],
          "name": "stdout"
        }
      ]
    },
    {
      "cell_type": "code",
      "metadata": {
        "colab": {
          "base_uri": "https://localhost:8080/"
        },
        "id": "c5z8jzkGCFKM",
        "outputId": "f71a5160-a326-48cf-facb-0347ba5618a0"
      },
      "source": [
        "# Beispiel für eine Funktion zum Aufruf eines eigenen Shell Skripts\n",
        "# und Auswertung von dessen Rückgabe\n",
        "import re\n",
        "from subprocess import Popen,PIPE,STDOUT\n",
        "\n",
        "def shell_call(cmd):\n",
        "    # takes a shell command and calls it via Popen()\n",
        "    # result is a tuple (return code, output string)\n",
        "    args = [p for p in re.split(\"( |\\\\\\\".*?\\\\\\\"|'.*?')\", cmd) if p.strip()]\n",
        "    out = Popen(args, stderr=STDOUT, stdout=PIPE, encoding='utf-8')\n",
        "    result, err = out.communicate()      # liest Textausgabe und Fehlercode\n",
        "    exit_code = out.wait()               # liest den Shell Exit Code\n",
        "    return (exit_code, result)\n",
        "\n",
        "# Wir erzeugen uns zum Testen ein Shell Skript\n",
        "shell_script = \"\"\"#!/bin/bash\n",
        "if [ $# -eq 0 ]; then echo \"No parameters given\"; exit 0; fi\n",
        "if [ $# -eq 1 ]; then echo \"One parameter given\"; exit 1; fi\n",
        "echo \"More than one parameter given\"\n",
        "exit -1\n",
        "\"\"\"\n",
        "\n",
        "# Und schreiben das in eine Datei\n",
        "prog = 'my_test.sh'\n",
        "with open(prog, 'w') as fh:\n",
        "  print(shell_script, file=fh)\n",
        "\n",
        "# Dann geben wir dem mal die Ausführungsrechte\n",
        "rc, text = shell_call('chmod +x /content/' + prog)\n",
        "print(rc, text)"
      ],
      "execution_count": null,
      "outputs": [
        {
          "output_type": "stream",
          "text": [
            "0 \n"
          ],
          "name": "stdout"
        }
      ]
    },
    {
      "cell_type": "code",
      "metadata": {
        "colab": {
          "base_uri": "https://localhost:8080/"
        },
        "id": "ctHES2jnGex2",
        "outputId": "6f9d017f-806b-43c0-ddd3-912713b095bc"
      },
      "source": [
        "# Und jetzt rufen wir das neue Skript auf\n",
        "rc, text = shell_call('/content/' + prog)\n",
        "print(rc, text)\n",
        "rc, text = shell_call('/content/' + prog + ' 1')\n",
        "print(rc, text)\n",
        "rc, text = shell_call('/content/' + prog + ' 1 2')\n",
        "print(rc, text)"
      ],
      "execution_count": null,
      "outputs": [
        {
          "output_type": "stream",
          "text": [
            "0 No parameters given\n",
            "\n",
            "1 One parameter given\n",
            "\n",
            "255 More than one parameter given\n",
            "\n"
          ],
          "name": "stdout"
        }
      ]
    },
    {
      "cell_type": "markdown",
      "metadata": {
        "id": "kwLFGcl6p9aZ"
      },
      "source": [
        "Das folgende Beispiel zeigt, wie man die Funktionen in einer Testklasse verwenden kann."
      ]
    },
    {
      "cell_type": "code",
      "metadata": {
        "id": "ZXTggHmFp-FV",
        "outputId": "28e2beef-ac78-438b-9e9e-51bde5e69f27",
        "colab": {
          "base_uri": "https://localhost:8080/"
        }
      },
      "source": [
        "#!/usr/bin/python3\n",
        "# -*- coding: utf-8 -*-\n",
        "import re\n",
        "import unittest\n",
        "from subprocess import Popen,PIPE,STDOUT\n",
        "\n",
        "def shell_call(cmd):\n",
        "    # takes a shell command and calls it via Popen()\n",
        "    # result is a tuple (return code, output string list)\n",
        "    args = [p for p in re.split(\"( |\\\\\\\".*?\\\\\\\"|'.*?')\", cmd) if p.strip()]\n",
        "    out = Popen(args, stderr=STDOUT, stdout=PIPE, encoding='utf-8')\n",
        "    result, err = out.communicate()\n",
        "    exit_code = out.wait()\n",
        "    return (exit_code, result)\n",
        "\n",
        "class MyTests(unittest.TestCase):\n",
        "    def test_my_test(self, prog='my_test.sh'):\n",
        "        rc, text = shell_call('./' + prog)\n",
        "        self.assertEqual(rc, 0)                              # return code == 0\n",
        "        self.assertRegex(text, '(?m).*No.*')                 # result text contains 'No'\n",
        "\n",
        "        rc, text = shell_call('./' + prog + ' 1')\n",
        "        self.assertGreaterEqual(rc, 0)                       # return code >= 0\n",
        "        self.assertLessEqual(rc, 127)                        # return code <= 127\n",
        "        self.assertRegex(text, '(?m).*One.*')                # result text contains 'One'\n",
        "\n",
        "        rc, text = shell_call('./' + prog + ' 1 2')\n",
        "        self.assertGreaterEqual(rc, 128)                     # return code >= 128\n",
        "        self.assertRegex(text, '(?m).*More.*')               # result text contains 'More'\n",
        "\n",
        "# Die Funktion sucht nach Subklassen von TestCase und führt diese aus.\n",
        "if __name__ == '__main__':\n",
        "    unittest.main(argv=['first arg is ignored'], exit=False)\n"
      ],
      "execution_count": 24,
      "outputs": [
        {
          "output_type": "stream",
          "text": [
            ".\n",
            "----------------------------------------------------------------------\n",
            "Ran 1 test in 0.028s\n",
            "\n",
            "OK\n"
          ],
          "name": "stderr"
        }
      ]
    },
    {
      "cell_type": "markdown",
      "metadata": {
        "id": "SefJq7xQ0JeY"
      },
      "source": [
        "<h2>Module os.path und pathlib</h2>\n",
        "\n",
        "Die obigen Module wurden für den Zweck des Testens vorgestellt, so dass ein bereits vorhandenes Programm (egal in welcher Sprache es implementiert ist) aus Python heraus über die Shell aufgerufen und dessen Ergebnis überprüft werden kann. Was ist nun das \"Ergebnis\" eines aufrufbaren Programms? Vielleicht ein geänderter Tabelleninhalt, eine erzeugte Datei im Filesystem, etc. Im Zusammenhang mit den in Einheit Python_2 vorgestellten Testklassen sollte das Ergebnis in einfacher Weise abfragbar sein, also True/False, A=B etc. \n",
        "\n",
        "Die Module os.path und pathlib erlauben es, z. B. die Existenz von Dateien in einfacher Weise zu prüfen, z. B. mit der assertTrue() Funktion."
      ]
    },
    {
      "cell_type": "code",
      "metadata": {
        "id": "yGPrDDfL1Mai",
        "colab": {
          "base_uri": "https://localhost:8080/"
        },
        "outputId": "37992c99-4345-453b-d057-735ad2d2d13f"
      },
      "source": [
        "import os.path\n",
        "\n",
        "file_path = 'my_test.sh'\n",
        "print(os.path.exists(file_path))\n",
        "print(os.path.isfile(file_path))\n",
        "\n",
        "file_path = 'sample_data'\n",
        "print(os.path.exists(file_path))\n",
        "print(os.path.isfile(file_path))\n",
        "\n",
        "file_path = 'Bloedsinn.txt'\n",
        "print(os.path.exists(file_path))\n",
        "print(os.path.isfile(file_path))"
      ],
      "execution_count": null,
      "outputs": [
        {
          "output_type": "stream",
          "text": [
            "True\n",
            "True\n",
            "True\n",
            "False\n",
            "False\n",
            "False\n"
          ],
          "name": "stdout"
        }
      ]
    },
    {
      "cell_type": "code",
      "metadata": {
        "id": "ElMp7pSr2nqh",
        "colab": {
          "base_uri": "https://localhost:8080/"
        },
        "outputId": "41982302-404b-446c-d3e1-66635590382b"
      },
      "source": [
        "from pathlib import Path\n",
        "\n",
        "my_file = Path('my_test.sh')\n",
        "print(my_file.exists())\n",
        "print(my_file.is_file())\n",
        "\n",
        "my_file = Path('sample_data')\n",
        "print(my_file.exists())\n",
        "print(my_file.is_file())\n",
        "\n",
        "my_file = Path('Bloedsinn.txt')\n",
        "print(my_file.exists())\n",
        "print(my_file.is_file())"
      ],
      "execution_count": null,
      "outputs": [
        {
          "output_type": "stream",
          "text": [
            "True\n",
            "True\n",
            "True\n",
            "False\n",
            "False\n",
            "False\n"
          ],
          "name": "stdout"
        }
      ]
    },
    {
      "cell_type": "code",
      "metadata": {
        "id": "WHpMl30m4KUO",
        "colab": {
          "base_uri": "https://localhost:8080/"
        },
        "outputId": "4189462f-8ca0-4266-af0f-22b49395786f"
      },
      "source": [
        "# Die Module können natürlich noch viel mehr\n",
        "\n",
        "# Einige os.path Beispiele\n",
        "# Siehe https://docs.python.org/3/library/os.path.html\n",
        "import os.path\n",
        "my_file = './sample_data/readme.md'\n",
        "my_abs_path = os.path.abspath(my_file)\n",
        "print(my_abs_path)\n",
        "print(os.path.basename(my_abs_path))\n",
        "print(os.path.dirname(my_abs_path))\n",
        "\n",
        "print()\n",
        "\n",
        "# Einige pathlib Beispiele\n",
        "# Siehe https://docs.python.org/3/library/pathlib.html \n",
        "from pathlib import Path\n",
        "my_file = Path('./sample_data/readme.md')\n",
        "my_abs_path = my_file.resolve()\n",
        "print(my_abs_path)\n",
        "print(my_abs_path.name)\n",
        "print(my_abs_path.parent)\n",
        "print(my_abs_path.as_uri())"
      ],
      "execution_count": null,
      "outputs": [
        {
          "output_type": "stream",
          "text": [
            "/content/sample_data/readme.md\n",
            "readme.md\n",
            "/content/sample_data\n",
            "\n",
            "/content/sample_data/readme.md\n",
            "readme.md\n",
            "/content/sample_data\n",
            "file:///content/sample_data/readme.md\n"
          ],
          "name": "stdout"
        }
      ]
    }
  ]
}