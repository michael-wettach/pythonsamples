{
  "nbformat": 4,
  "nbformat_minor": 0,
  "metadata": {
    "colab": {
      "name": "Python_5_Systemfunktionen.ipynb",
      "provenance": [],
      "authorship_tag": "ABX9TyNGC+5QH/badvEkzObuL6qy",
      "include_colab_link": true
    },
    "kernelspec": {
      "name": "python3",
      "display_name": "Python 3"
    },
    "language_info": {
      "name": "python"
    }
  },
  "cells": [
    {
      "cell_type": "markdown",
      "metadata": {
        "id": "view-in-github",
        "colab_type": "text"
      },
      "source": [
        "<a href=\"https://colab.research.google.com/github/michael-wettach/pythonsamples/blob/main/Python_5_Systemfunktionen.ipynb\" target=\"_parent\"><img src=\"https://colab.research.google.com/assets/colab-badge.svg\" alt=\"Open In Colab\"/></a>"
      ]
    },
    {
      "cell_type": "markdown",
      "metadata": {
        "id": "Ardm4Wvfxt0b"
      },
      "source": [
        "<h1>Module zur Interaktion mit dem Betriebssystem</h1>\n",
        "\n",
        "Frühere Versionen von Python nutzten dafür in erster Linie die Module sys und os. Aktuelle Versionen setzen eher auf das Modul subprocess; alle 3 haben in gewissen Bereichen ihre Berechtigung und sollen hier vorgestellt werden.\n",
        "\n",
        "<h2>Modul sys</h2>\n",
        "\n",
        "Das Modul sys stellt Informationen über die Laufzeitumgebung des aktuellen Python-Programms zur Verfügung. "
      ]
    },
    {
      "cell_type": "code",
      "metadata": {
        "colab": {
          "base_uri": "https://localhost:8080/"
        },
        "id": "3NOb2Fh-xfTQ",
        "outputId": "afaa6209-22e8-42d1-e035-8e9c5e33f7b2"
      },
      "source": [
        "import sys\n",
        "# Informationen über die Laufzeitumgebung\n",
        "print(sys.version)              # Gibt die aktuelle Python-Version aus\n",
        "print(sys.version_info)         # Versionsinfos als Objekt mit Attributen\n",
        "print(sys.platform)             # Betriebssystem, auf dem Python läuft\n",
        "print(sys.executable)           # Pfad zu Python\n",
        "print(sys.path)                 # Aktueller Inhalt der path-Variable\n",
        "print(sys.getrecursionlimit())  # Maximale Rekursionstiefe\n",
        "sys.setrecursionlimit(500)      # Kann man auch verändern\n",
        "print(sys.getrecursionlimit())  # Sollte jetzt 500 sein"
      ],
      "execution_count": 4,
      "outputs": [
        {
          "output_type": "stream",
          "text": [
            "3.7.10 (default, May  3 2021, 02:48:31) \n",
            "[GCC 7.5.0]\n",
            "sys.version_info(major=3, minor=7, micro=10, releaselevel='final', serial=0)\n",
            "linux\n",
            "/usr/bin/python3\n",
            "['', '/content', '/env/python', '/usr/lib/python37.zip', '/usr/lib/python3.7', '/usr/lib/python3.7/lib-dynload', '/usr/local/lib/python3.7/dist-packages', '/usr/lib/python3/dist-packages', '/usr/local/lib/python3.7/dist-packages/IPython/extensions', '/root/.ipython']\n",
            "500\n",
            "500\n"
          ],
          "name": "stdout"
        }
      ]
    },
    {
      "cell_type": "code",
      "metadata": {
        "colab": {
          "base_uri": "https://localhost:8080/"
        },
        "id": "GE2zn4VczpKH",
        "outputId": "1f8e9ed2-910b-4a04-91d0-7a93bc711218"
      },
      "source": [
        "# Das Modul sys enthält 3 Filehandles sys.stdin, sys.stdout, sys.stderr\n",
        "# Diese gibt es auch auf Betriebssystem-Ebene in Unix und Windows. \n",
        "# Die kann man zur Eingabe und Ausgabe nutzen oder auch umleiten.\n",
        "\n",
        "print(\"Textausgabe auf stdout\", file=sys.stdout)\n",
        "sys.stdout.write(\"So kann man auch Text ausgeben...\\n\")\n",
        "\n",
        "# Jetzt leiten wir das Filehandle stdout in eine Datei um\n",
        "save_stdout = sys.stdout     # für spätere Wiederherstellung\n",
        "\n",
        "with open(\"test.txt\",\"w\") as fh:\n",
        "    sys.stdout = fh\n",
        "    print(\"Diese Ausgabe wandert in test.txt\")\n",
        "\n",
        "# Hier wird die Umleitung zurück genommen\n",
        "sys.stdout = save_stdout\n",
        "print(\"Alles wieder normal\")"
      ],
      "execution_count": 9,
      "outputs": [
        {
          "output_type": "stream",
          "text": [
            "Textausgabe auf stdout\n",
            "So kann man auch Text ausgeben...\n",
            "Alles wieder normal\n"
          ],
          "name": "stdout"
        }
      ]
    },
    {
      "cell_type": "markdown",
      "metadata": {
        "id": "0Ls0iwFixsxh"
      },
      "source": [
        "<h2>Modul os</h2>\n",
        "\n",
        "Das Modul os stellt Funktionen für die Interaktion zwischen Python und dem Betriebssystem zur Verfügung. Generell sollte das Modul unabhängig vom Betriebssystem funktionieren, es gibt aber im Modul os Funktionen, die nur auf Linux oder nur auf Windows bereitgestellt werden oder sich geringfügig unterschiedlich verhalten. Das gilt natürlich erst recht für die Betriebssystem-Befehle, die über os-Funktionen aufgerufen werden. Wenn ein Python-Modul auf mehreren Plattformen laufen soll, muss man die Plattform abfragen."
      ]
    },
    {
      "cell_type": "code",
      "metadata": {
        "colab": {
          "base_uri": "https://localhost:8080/"
        },
        "id": "_QwMjsQSE_Xf",
        "outputId": "298c4c9e-4b78-442e-ccde-3e2834d74ed6"
      },
      "source": [
        "# Betriebssystem-Aufruf ohne Python\n",
        "!ls -l"
      ],
      "execution_count": 30,
      "outputs": [
        {
          "output_type": "stream",
          "text": [
            "total 8\n",
            "drwxr-xr-x 1 root root 4096 Jun  1 13:40 sample_data\n",
            "-rw-r--r-- 1 root root   34 Jun 12 15:23 test.txt\n"
          ],
          "name": "stdout"
        }
      ]
    },
    {
      "cell_type": "code",
      "metadata": {
        "colab": {
          "base_uri": "https://localhost:8080/"
        },
        "id": "2Fk4xtUi1Jzz",
        "outputId": "e919f393-2b2d-4840-f25c-9b3359b22a10"
      },
      "source": [
        "import sys\n",
        "import os\n",
        "if sys.platform == \"linux\":\n",
        "    output = os.popen(\"ls -l\")  # führt einen Befehl aus und öffnet ein Handle auf die Ausgabe\n",
        "    dir = output.readlines()    # readlines() liest aus dem Handle in eine Liste\n",
        "print(*dir)"
      ],
      "execution_count": 13,
      "outputs": [
        {
          "output_type": "stream",
          "text": [
            "total 8\n",
            " drwxr-xr-x 1 root root 4096 Jun  1 13:40 sample_data\n",
            " -rw-r--r-- 1 root root   34 Jun 12 15:23 test.txt\n",
            "\n"
          ],
          "name": "stdout"
        }
      ]
    },
    {
      "cell_type": "markdown",
      "metadata": {
        "id": "nDYrDXnL-TSt"
      },
      "source": [
        "Python bietet auch die Möglichkeit, einen selbständigen Unterprozess zu starten, der nicht zum Hauptprozess zurückkehrt.<br/> Dafür gibt es die Exec* Funktionen, die ich hier aber nicht weiter erläutere (siehe dazu https://www.python-kurs.eu/forking.php)."
      ]
    },
    {
      "cell_type": "markdown",
      "metadata": {
        "id": "VL20WSBOAhgX"
      },
      "source": [
        "<h2>Modul subprocess</h2>\n",
        "\n",
        "In neueren Python-Versionen wird für Betriebssystem-Aufrufe das Modul subprocess empfohlen. Siehe dazu\n",
        "* https://docs.python.org/3/library/subprocess.html\n",
        "* https://www.digitalocean.com/community/tutorials/how-to-use-subprocess-to-run-external-programs-in-python-3-de "
      ]
    },
    {
      "cell_type": "code",
      "metadata": {
        "colab": {
          "base_uri": "https://localhost:8080/"
        },
        "id": "oJ9gAKut7HdE",
        "outputId": "dcdb6443-5005-43e8-b2cb-c0aa442aee8a"
      },
      "source": [
        "import subprocess\n",
        "# Die Funktion check_output erspart das Auslesen des Filehandles \n",
        "if sys.platform == \"linux\":\n",
        "    output = subprocess.check_output([\"ls\", \"-l\"])\n",
        "# Die Ausgabe ist aber im Format byte Array, daher decode()\n",
        "print(output.decode(\"utf-8\"))    "
      ],
      "execution_count": 24,
      "outputs": [
        {
          "output_type": "stream",
          "text": [
            "total 8\n",
            "drwxr-xr-x 1 root root 4096 Jun  1 13:40 sample_data\n",
            "-rw-r--r-- 1 root root   34 Jun 12 15:23 test.txt\n",
            "\n"
          ],
          "name": "stdout"
        }
      ]
    },
    {
      "cell_type": "code",
      "metadata": {
        "colab": {
          "base_uri": "https://localhost:8080/"
        },
        "id": "NGPM5SVnEFL4",
        "outputId": "f79035b0-f2ef-4301-9ccc-a520ca0752dc"
      },
      "source": [
        "# Auf Betriebssystem-Ebene möchten wir evtl. auch pipes nutzen\n",
        "!dmesg | grep \"VFS\""
      ],
      "execution_count": 28,
      "outputs": [
        {
          "output_type": "stream",
          "text": [
            "[    0.866703] VFS: Disk quotas dquot_6.6.0\n",
            "[    0.867533] VFS: Dquot-cache hash table entries: 512 (order 0, 4096 bytes)\n",
            "[    1.601612] VFS: Mounted root (ext2 filesystem) readonly on device 253:0.\n"
          ],
          "name": "stdout"
        }
      ]
    },
    {
      "cell_type": "code",
      "metadata": {
        "colab": {
          "base_uri": "https://localhost:8080/"
        },
        "id": "oLdqHzVTExWC",
        "outputId": "b3ef7eb1-2649-474f-803a-859ef6bba6de"
      },
      "source": [
        "# Das geht natürlich auch im Python Modul subprocess\n",
        "p1 = subprocess.Popen([\"dmesg\"], stdout=subprocess.PIPE)                          # p1 leitet die Ausgabe in die pipe\n",
        "p2 = subprocess.Popen([\"grep\", \"VFS\"], stdin=p1.stdout, stdout=subprocess.PIPE)   # holt die Ausgabe aus p1 \n",
        "p1.stdout.close()                                       # wichtig, damit p1 SIGPIPE bekommt, falls p2 früher endet.\n",
        "\n",
        "# Hinweis: Statt .stdin.write, .stdout.read or .stderr.read soll communicate() benutzt werden\n",
        "# um deadlocks zu vermeiden falls andere OS pipe buffers den Kind-Prozess füllen bzw. blockieren.\n",
        "output, retcode = p2.communicate()\n",
        "print(output.decode(\"utf-8\"))                                                     # Auch dies ist ein Byte Array\n",
        "print(\"Returncode: \", retcode)                                                    # retcode < 0 ist ein Fehler.\n",
        "p2.stdout.close()"
      ],
      "execution_count": 42,
      "outputs": [
        {
          "output_type": "stream",
          "text": [
            "[    0.866703] VFS: Disk quotas dquot_6.6.0\n",
            "[    0.867533] VFS: Dquot-cache hash table entries: 512 (order 0, 4096 bytes)\n",
            "[    1.601612] VFS: Mounted root (ext2 filesystem) readonly on device 253:0.\n",
            "\n",
            "Returncode:  None\n"
          ],
          "name": "stdout"
        }
      ]
    }
  ]
}