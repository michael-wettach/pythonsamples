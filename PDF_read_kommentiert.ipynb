{
  "nbformat": 4,
  "nbformat_minor": 0,
  "metadata": {
    "colab": {
      "name": "PDF-read.ipynb",
      "provenance": [],
      "collapsed_sections": []
    },
    "kernelspec": {
      "name": "python3",
      "display_name": "Python 3"
    }
  },
  "cells": [
    {
      "cell_type": "markdown",
      "metadata": {
        "id": "qOTXvowpniwx"
      },
      "source": [
        "Es ist möglich, fehlende Python-Pakete in Google Colab nachzuinstallieren. </br>\r\n",
        "Das macht man in Python üblicherweise über den Paketmanager pip.</br> \r\n",
        "Man kann mit Präfix \"!\" Shell-Kommandos ausführen und so Pakete installieren."
      ]
    },
    {
      "cell_type": "code",
      "metadata": {
        "id": "lDb2NwiX16V6",
        "colab": {
          "base_uri": "https://localhost:8080/"
        },
        "outputId": "f56fe7f0-e952-4caf-d972-a7bf7058fa30"
      },
      "source": [
        "!pip install tabula-py"
      ],
      "execution_count": 1,
      "outputs": [
        {
          "output_type": "stream",
          "text": [
            "Collecting tabula-py\n",
            "\u001b[?25l  Downloading https://files.pythonhosted.org/packages/cf/29/d6cb0d77ef46d84d35cffa09cf42c73b373aea664d28604eab6818f8a47c/tabula_py-2.2.0-py3-none-any.whl (11.7MB)\n",
            "\u001b[K     |████████████████████████████████| 11.7MB 4.2MB/s \n",
            "\u001b[?25hRequirement already satisfied: numpy in /usr/local/lib/python3.6/dist-packages (from tabula-py) (1.18.5)\n",
            "Requirement already satisfied: pandas>=0.25.3 in /usr/local/lib/python3.6/dist-packages (from tabula-py) (1.1.5)\n",
            "Collecting distro\n",
            "  Downloading https://files.pythonhosted.org/packages/25/b7/b3c4270a11414cb22c6352ebc7a83aaa3712043be29daa05018fd5a5c956/distro-1.5.0-py2.py3-none-any.whl\n",
            "Requirement already satisfied: pytz>=2017.2 in /usr/local/lib/python3.6/dist-packages (from pandas>=0.25.3->tabula-py) (2018.9)\n",
            "Requirement already satisfied: python-dateutil>=2.7.3 in /usr/local/lib/python3.6/dist-packages (from pandas>=0.25.3->tabula-py) (2.8.1)\n",
            "Requirement already satisfied: six>=1.5 in /usr/local/lib/python3.6/dist-packages (from python-dateutil>=2.7.3->pandas>=0.25.3->tabula-py) (1.15.0)\n",
            "Installing collected packages: distro, tabula-py\n",
            "Successfully installed distro-1.5.0 tabula-py-2.2.0\n"
          ],
          "name": "stdout"
        }
      ]
    },
    {
      "cell_type": "markdown",
      "metadata": {
        "id": "liDw-LBHoab0"
      },
      "source": [
        "Aus der Dokumentation (https://tabula-py.readthedocs.io/en/latest/): </br> tabula (ein Programm zum Extrahieren von Tabellen aus PDFs) ist ein Python-Wrapper für eine Java-Bibliothek. Das heißt, wir benutzen Python Syntax, aber die eigentliche Arbeit wird von Java Programmen gemacht. Das findet man öfter. In diesem Fall ist es gut zu prüfen, ob die benötigte Java-Version installiert ist."
      ]
    },
    {
      "cell_type": "code",
      "metadata": {
        "id": "lZGs290H2ogN",
        "colab": {
          "base_uri": "https://localhost:8080/",
          "height": 68
        },
        "outputId": "ccf9c9c0-ecf5-4754-fc4e-c970e3f10308"
      },
      "source": [
        "!java -version"
      ],
      "execution_count": null,
      "outputs": [
        {
          "output_type": "stream",
          "text": [
            "openjdk version \"11.0.8\" 2020-07-14\n",
            "OpenJDK Runtime Environment (build 11.0.8+10-post-Ubuntu-0ubuntu118.04.1)\n",
            "OpenJDK 64-Bit Server VM (build 11.0.8+10-post-Ubuntu-0ubuntu118.04.1, mixed mode, sharing)\n"
          ],
          "name": "stdout"
        }
      ]
    },
    {
      "cell_type": "markdown",
      "metadata": {
        "id": "Ixiv2f9gpKFR"
      },
      "source": [
        "Nachdem das Python-Modul installiert wurde, können wir es in unserem Code importieren. </br> Erst danach können wir seine Objekte und Funktionen verwenden."
      ]
    },
    {
      "cell_type": "code",
      "metadata": {
        "id": "4ysrPjlR2tPE",
        "colab": {
          "base_uri": "https://localhost:8080/"
        },
        "outputId": "e854aa60-cb53-4a7b-8ce7-1469f9c21b33"
      },
      "source": [
        "import tabula\n",
        "\n",
        "tabula.environment_info()"
      ],
      "execution_count": 6,
      "outputs": [
        {
          "output_type": "stream",
          "text": [
            "Python version:\n",
            "    3.6.9 (default, Oct  8 2020, 12:12:24) \n",
            "[GCC 8.4.0]\n",
            "Java version:\n",
            "    openjdk version \"11.0.9.1\" 2020-11-04\n",
            "OpenJDK Runtime Environment (build 11.0.9.1+1-Ubuntu-0ubuntu1.18.04)\n",
            "OpenJDK 64-Bit Server VM (build 11.0.9.1+1-Ubuntu-0ubuntu1.18.04, mixed mode, sharing)\n",
            "tabula-py version: 2.2.0\n",
            "platform: Linux-4.19.112+-x86_64-with-Ubuntu-18.04-bionic\n",
            "uname:\n",
            "    uname_result(system='Linux', node='414badca5934', release='4.19.112+', version='#1 SMP Thu Jul 23 08:00:38 PDT 2020', machine='x86_64', processor='x86_64')\n",
            "linux_distribution: ('Ubuntu', '18.04', 'bionic')\n",
            "mac_ver: ('', ('', '', ''), '')\n",
            "    \n"
          ],
          "name": "stdout"
        }
      ]
    },
    {
      "cell_type": "markdown",
      "metadata": {
        "id": "tn5klMFzqyJc"
      },
      "source": [
        "Kurze Einführung zu Python Dictionaries: ein Dictionary ist eine Liste von Key/Value Paaren. </br> Man ruft den Value ab, indem man den Key als Index zum Dictionary benutzt."
      ]
    },
    {
      "cell_type": "code",
      "metadata": {
        "id": "UzDZJUUyrEwE",
        "outputId": "f724763c-5127-4927-ece4-ec82f5eb6d62",
        "colab": {
          "base_uri": "https://localhost:8080/"
        }
      },
      "source": [
        "myPreferences = { \"Obst\": \"Beeren\",\r\n",
        "                  \"Getränk\": \"Direktsaft\", \r\n",
        "                  \"Band\": \"Oscar Peterson Trio\"}\r\n",
        "print(myPreferences[\"Getränk\"])"
      ],
      "execution_count": 14,
      "outputs": [
        {
          "output_type": "stream",
          "text": [
            "Direktsaft\n"
          ],
          "name": "stdout"
        }
      ]
    },
    {
      "cell_type": "markdown",
      "metadata": {
        "id": "7RLCSLZdnfs2"
      },
      "source": [
        "Die Bibliothek tabula verwendet ein anderes Python Modul zur Datenmanipulation, Pandas (siehe z. B. hier: https://pandas.pydata.org/docs/getting_started/intro_tutorials/01_table_oriented.html). Pandas ist in Google Colab standardmäßig installiert. Das Ergebnis der read_pdf Funktion ist ein Dataframe, der funktioniert so ähnlich wie ein Dictionary mit Listen als Values.  "
      ]
    },
    {
      "cell_type": "code",
      "metadata": {
        "id": "ixm-onJ4sUxZ",
        "outputId": "88533218-820d-4716-acb0-7ae3c072ebc3",
        "colab": {
          "base_uri": "https://localhost:8080/",
          "height": 142
        }
      },
      "source": [
        "# Beispiel von der oben angegebenen Webseite\r\n",
        "import pandas as pd\r\n",
        "df = pd.DataFrame({\r\n",
        "        \"Name\": [\"Braund, Mr. Owen Harris\",\r\n",
        "                 \"Allen, Mr. William Henry\",\r\n",
        "                 \"Bonnell, Miss. Elizabeth\"],\r\n",
        "        \"Age\": [22, 35, 58],\r\n",
        "        \"Sex\": [\"male\", \"male\", \"female\"]}\r\n",
        ")\r\n",
        "df"
      ],
      "execution_count": 11,
      "outputs": [
        {
          "output_type": "execute_result",
          "data": {
            "text/html": [
              "<div>\n",
              "<style scoped>\n",
              "    .dataframe tbody tr th:only-of-type {\n",
              "        vertical-align: middle;\n",
              "    }\n",
              "\n",
              "    .dataframe tbody tr th {\n",
              "        vertical-align: top;\n",
              "    }\n",
              "\n",
              "    .dataframe thead th {\n",
              "        text-align: right;\n",
              "    }\n",
              "</style>\n",
              "<table border=\"1\" class=\"dataframe\">\n",
              "  <thead>\n",
              "    <tr style=\"text-align: right;\">\n",
              "      <th></th>\n",
              "      <th>Name</th>\n",
              "      <th>Age</th>\n",
              "      <th>Sex</th>\n",
              "    </tr>\n",
              "  </thead>\n",
              "  <tbody>\n",
              "    <tr>\n",
              "      <th>0</th>\n",
              "      <td>Braund, Mr. Owen Harris</td>\n",
              "      <td>22</td>\n",
              "      <td>male</td>\n",
              "    </tr>\n",
              "    <tr>\n",
              "      <th>1</th>\n",
              "      <td>Allen, Mr. William Henry</td>\n",
              "      <td>35</td>\n",
              "      <td>male</td>\n",
              "    </tr>\n",
              "    <tr>\n",
              "      <th>2</th>\n",
              "      <td>Bonnell, Miss. Elizabeth</td>\n",
              "      <td>58</td>\n",
              "      <td>female</td>\n",
              "    </tr>\n",
              "  </tbody>\n",
              "</table>\n",
              "</div>"
            ],
            "text/plain": [
              "                       Name  Age     Sex\n",
              "0   Braund, Mr. Owen Harris   22    male\n",
              "1  Allen, Mr. William Henry   35    male\n",
              "2  Bonnell, Miss. Elizabeth   58  female"
            ]
          },
          "metadata": {
            "tags": []
          },
          "execution_count": 11
        }
      ]
    },
    {
      "cell_type": "code",
      "metadata": {
        "id": "kIQWBOzitiJ4",
        "outputId": "383eb5e5-34b6-4501-834d-868513d63aed",
        "colab": {
          "base_uri": "https://localhost:8080/"
        }
      },
      "source": [
        "df[\"Age\"]"
      ],
      "execution_count": 13,
      "outputs": [
        {
          "output_type": "execute_result",
          "data": {
            "text/plain": [
              "0    22\n",
              "1    35\n",
              "2    58\n",
              "Name: Age, dtype: int64"
            ]
          },
          "metadata": {
            "tags": []
          },
          "execution_count": 13
        }
      ]
    },
    {
      "cell_type": "markdown",
      "metadata": {
        "id": "NxgQ9hXpt5wX"
      },
      "source": [
        "Jetzt lesen wir mal eine Tabelle aus einem PDF ein."
      ]
    },
    {
      "cell_type": "code",
      "metadata": {
        "id": "e16jnwCv3pYf",
        "colab": {
          "base_uri": "https://localhost:8080/"
        },
        "outputId": "83e231f5-447b-4a33-d372-e7e5b9a0f05f"
      },
      "source": [
        "pdf_path = \"https://www.rheingau-taunus.de/fileadmin/forms/corona-virus/coronavirus_inzidenz_12-14.pdf\"\n",
        "\n",
        "dfs = tabula.read_pdf(pdf_path, stream=True, pages=1)\n",
        "\n",
        "# dfs ist eine Liste von Dataframes, also von Tabellen.\n",
        "# Man erkennt die Liste an den [] Klammern außen.\n",
        "dfs"
      ],
      "execution_count": 18,
      "outputs": [
        {
          "output_type": "execute_result",
          "data": {
            "text/plain": [
              "[      Stadt | Gemeinde Neufälle der letzten 7 Tage\n",
              " 0            Aarbergen                          24\n",
              " 1       Bad Schwalbach                          17\n",
              " 2             Eltville                          39\n",
              " 3           Geisenheim                          21\n",
              " 4            Heidenrod                           7\n",
              " 5           Hohenstein                           5\n",
              " 6           Hünstetten                           6\n",
              " 7              Idstein                          36\n",
              " 8             Kiedrich                          17\n",
              " 9                Lorch                           1\n",
              " 10       Niedernhausen                          11\n",
              " 11     Oestrich-Winkel                          62\n",
              " 12  Rüdesheim am Rhein                          19\n",
              " 13        Schlangenbad                           0\n",
              " 14         Taunusstein                          85\n",
              " 15             Waldems                           5\n",
              " 16              Walluf                          31\n",
              " 17        Kreis gesamt                         386\n",
              " 18      Kreis Inzidenz                       206,2]"
            ]
          },
          "metadata": {
            "tags": []
          },
          "execution_count": 18
        }
      ]
    },
    {
      "cell_type": "code",
      "metadata": {
        "id": "7yTJ45w_ukgK",
        "outputId": "364384a2-0c2e-41eb-bd2e-22112ec5a42b",
        "colab": {
          "base_uri": "https://localhost:8080/",
          "height": 638
        }
      },
      "source": [
        "# Wir wissen natürlich, dass die Liste nur einen Eintrag hat.\r\n",
        "t1 = dfs[0]\r\n",
        "t1"
      ],
      "execution_count": 20,
      "outputs": [
        {
          "output_type": "execute_result",
          "data": {
            "text/html": [
              "<div>\n",
              "<style scoped>\n",
              "    .dataframe tbody tr th:only-of-type {\n",
              "        vertical-align: middle;\n",
              "    }\n",
              "\n",
              "    .dataframe tbody tr th {\n",
              "        vertical-align: top;\n",
              "    }\n",
              "\n",
              "    .dataframe thead th {\n",
              "        text-align: right;\n",
              "    }\n",
              "</style>\n",
              "<table border=\"1\" class=\"dataframe\">\n",
              "  <thead>\n",
              "    <tr style=\"text-align: right;\">\n",
              "      <th></th>\n",
              "      <th>Stadt | Gemeinde</th>\n",
              "      <th>Neufälle der letzten 7 Tage</th>\n",
              "    </tr>\n",
              "  </thead>\n",
              "  <tbody>\n",
              "    <tr>\n",
              "      <th>0</th>\n",
              "      <td>Aarbergen</td>\n",
              "      <td>24</td>\n",
              "    </tr>\n",
              "    <tr>\n",
              "      <th>1</th>\n",
              "      <td>Bad Schwalbach</td>\n",
              "      <td>17</td>\n",
              "    </tr>\n",
              "    <tr>\n",
              "      <th>2</th>\n",
              "      <td>Eltville</td>\n",
              "      <td>39</td>\n",
              "    </tr>\n",
              "    <tr>\n",
              "      <th>3</th>\n",
              "      <td>Geisenheim</td>\n",
              "      <td>21</td>\n",
              "    </tr>\n",
              "    <tr>\n",
              "      <th>4</th>\n",
              "      <td>Heidenrod</td>\n",
              "      <td>7</td>\n",
              "    </tr>\n",
              "    <tr>\n",
              "      <th>5</th>\n",
              "      <td>Hohenstein</td>\n",
              "      <td>5</td>\n",
              "    </tr>\n",
              "    <tr>\n",
              "      <th>6</th>\n",
              "      <td>Hünstetten</td>\n",
              "      <td>6</td>\n",
              "    </tr>\n",
              "    <tr>\n",
              "      <th>7</th>\n",
              "      <td>Idstein</td>\n",
              "      <td>36</td>\n",
              "    </tr>\n",
              "    <tr>\n",
              "      <th>8</th>\n",
              "      <td>Kiedrich</td>\n",
              "      <td>17</td>\n",
              "    </tr>\n",
              "    <tr>\n",
              "      <th>9</th>\n",
              "      <td>Lorch</td>\n",
              "      <td>1</td>\n",
              "    </tr>\n",
              "    <tr>\n",
              "      <th>10</th>\n",
              "      <td>Niedernhausen</td>\n",
              "      <td>11</td>\n",
              "    </tr>\n",
              "    <tr>\n",
              "      <th>11</th>\n",
              "      <td>Oestrich-Winkel</td>\n",
              "      <td>62</td>\n",
              "    </tr>\n",
              "    <tr>\n",
              "      <th>12</th>\n",
              "      <td>Rüdesheim am Rhein</td>\n",
              "      <td>19</td>\n",
              "    </tr>\n",
              "    <tr>\n",
              "      <th>13</th>\n",
              "      <td>Schlangenbad</td>\n",
              "      <td>0</td>\n",
              "    </tr>\n",
              "    <tr>\n",
              "      <th>14</th>\n",
              "      <td>Taunusstein</td>\n",
              "      <td>85</td>\n",
              "    </tr>\n",
              "    <tr>\n",
              "      <th>15</th>\n",
              "      <td>Waldems</td>\n",
              "      <td>5</td>\n",
              "    </tr>\n",
              "    <tr>\n",
              "      <th>16</th>\n",
              "      <td>Walluf</td>\n",
              "      <td>31</td>\n",
              "    </tr>\n",
              "    <tr>\n",
              "      <th>17</th>\n",
              "      <td>Kreis gesamt</td>\n",
              "      <td>386</td>\n",
              "    </tr>\n",
              "    <tr>\n",
              "      <th>18</th>\n",
              "      <td>Kreis Inzidenz</td>\n",
              "      <td>206,2</td>\n",
              "    </tr>\n",
              "  </tbody>\n",
              "</table>\n",
              "</div>"
            ],
            "text/plain": [
              "      Stadt | Gemeinde Neufälle der letzten 7 Tage\n",
              "0            Aarbergen                          24\n",
              "1       Bad Schwalbach                          17\n",
              "2             Eltville                          39\n",
              "3           Geisenheim                          21\n",
              "4            Heidenrod                           7\n",
              "5           Hohenstein                           5\n",
              "6           Hünstetten                           6\n",
              "7              Idstein                          36\n",
              "8             Kiedrich                          17\n",
              "9                Lorch                           1\n",
              "10       Niedernhausen                          11\n",
              "11     Oestrich-Winkel                          62\n",
              "12  Rüdesheim am Rhein                          19\n",
              "13        Schlangenbad                           0\n",
              "14         Taunusstein                          85\n",
              "15             Waldems                           5\n",
              "16              Walluf                          31\n",
              "17        Kreis gesamt                         386\n",
              "18      Kreis Inzidenz                       206,2"
            ]
          },
          "metadata": {
            "tags": []
          },
          "execution_count": 20
        }
      ]
    },
    {
      "cell_type": "markdown",
      "metadata": {
        "id": "6ipLf866v3IP"
      },
      "source": [
        "Pandas hat Funktionen zum Selektieren und Joinen, ähnlich wie wir sie in SQL auch benutzen."
      ]
    },
    {
      "cell_type": "code",
      "metadata": {
        "id": "hNQV_2fbIi_F",
        "colab": {
          "base_uri": "https://localhost:8080/",
          "height": 111
        },
        "outputId": "825e0ec5-ee6f-4ab9-c6f1-b602cfb890b9"
      },
      "source": [
        "t1[t1['Stadt | Gemeinde'].isin(['Kreis gesamt', 'Kreis Inzidenz'])]"
      ],
      "execution_count": 21,
      "outputs": [
        {
          "output_type": "execute_result",
          "data": {
            "text/html": [
              "<div>\n",
              "<style scoped>\n",
              "    .dataframe tbody tr th:only-of-type {\n",
              "        vertical-align: middle;\n",
              "    }\n",
              "\n",
              "    .dataframe tbody tr th {\n",
              "        vertical-align: top;\n",
              "    }\n",
              "\n",
              "    .dataframe thead th {\n",
              "        text-align: right;\n",
              "    }\n",
              "</style>\n",
              "<table border=\"1\" class=\"dataframe\">\n",
              "  <thead>\n",
              "    <tr style=\"text-align: right;\">\n",
              "      <th></th>\n",
              "      <th>Stadt | Gemeinde</th>\n",
              "      <th>Neufälle der letzten 7 Tage</th>\n",
              "    </tr>\n",
              "  </thead>\n",
              "  <tbody>\n",
              "    <tr>\n",
              "      <th>17</th>\n",
              "      <td>Kreis gesamt</td>\n",
              "      <td>386</td>\n",
              "    </tr>\n",
              "    <tr>\n",
              "      <th>18</th>\n",
              "      <td>Kreis Inzidenz</td>\n",
              "      <td>206,2</td>\n",
              "    </tr>\n",
              "  </tbody>\n",
              "</table>\n",
              "</div>"
            ],
            "text/plain": [
              "   Stadt | Gemeinde Neufälle der letzten 7 Tage\n",
              "17     Kreis gesamt                         386\n",
              "18   Kreis Inzidenz                       206,2"
            ]
          },
          "metadata": {
            "tags": []
          },
          "execution_count": 21
        }
      ]
    },
    {
      "cell_type": "code",
      "metadata": {
        "id": "UMAC2PBwwCjB",
        "outputId": "6d7b6f10-e3f8-4c01-f0da-36e4d04333e1",
        "colab": {
          "base_uri": "https://localhost:8080/",
          "height": 80
        }
      },
      "source": [
        "t1[t1['Stadt | Gemeinde']=='Kreis gesamt']"
      ],
      "execution_count": 22,
      "outputs": [
        {
          "output_type": "execute_result",
          "data": {
            "text/html": [
              "<div>\n",
              "<style scoped>\n",
              "    .dataframe tbody tr th:only-of-type {\n",
              "        vertical-align: middle;\n",
              "    }\n",
              "\n",
              "    .dataframe tbody tr th {\n",
              "        vertical-align: top;\n",
              "    }\n",
              "\n",
              "    .dataframe thead th {\n",
              "        text-align: right;\n",
              "    }\n",
              "</style>\n",
              "<table border=\"1\" class=\"dataframe\">\n",
              "  <thead>\n",
              "    <tr style=\"text-align: right;\">\n",
              "      <th></th>\n",
              "      <th>Stadt | Gemeinde</th>\n",
              "      <th>Neufälle der letzten 7 Tage</th>\n",
              "    </tr>\n",
              "  </thead>\n",
              "  <tbody>\n",
              "    <tr>\n",
              "      <th>17</th>\n",
              "      <td>Kreis gesamt</td>\n",
              "      <td>386</td>\n",
              "    </tr>\n",
              "  </tbody>\n",
              "</table>\n",
              "</div>"
            ],
            "text/plain": [
              "   Stadt | Gemeinde Neufälle der letzten 7 Tage\n",
              "17     Kreis gesamt                         386"
            ]
          },
          "metadata": {
            "tags": []
          },
          "execution_count": 22
        }
      ]
    },
    {
      "cell_type": "markdown",
      "metadata": {
        "id": "wYXS9s5iwx-q"
      },
      "source": [
        "Mit der funktion .iloc()[Zeile] können wir statt über einen Key auch numerisch selektieren."
      ]
    },
    {
      "cell_type": "code",
      "metadata": {
        "id": "OYVxPbgRQ_K_",
        "colab": {
          "base_uri": "https://localhost:8080/",
          "height": 35
        },
        "outputId": "5f1ddb9f-6520-46c0-fb07-84d470de51e4"
      },
      "source": [
        "t1[t1['Stadt | Gemeinde']=='Kreis gesamt'].iloc()[0]['Neufälle der letzten 7 Tage']"
      ],
      "execution_count": 24,
      "outputs": [
        {
          "output_type": "execute_result",
          "data": {
            "application/vnd.google.colaboratory.intrinsic+json": {
              "type": "string"
            },
            "text/plain": [
              "'386'"
            ]
          },
          "metadata": {
            "tags": []
          },
          "execution_count": 24
        }
      ]
    },
    {
      "cell_type": "markdown",
      "metadata": {
        "id": "nB3W15s9wjSd"
      },
      "source": [
        "Zum Schluss verpacke ich das noch in eine Python-Funktion:"
      ]
    },
    {
      "cell_type": "code",
      "metadata": {
        "id": "RkqXah5WRnyY",
        "colab": {
          "base_uri": "https://localhost:8080/",
          "height": 34
        },
        "outputId": "c94527dd-1e4b-4541-e942-bbd104551cf1"
      },
      "source": [
        "def getValue(DF, CompCol, RowVal, ResultCol):\n",
        "  return DF[DF.iloc[:,CompCol]==RowVal].iloc[0, ResultCol]\n",
        "  \n",
        "print(getValue(t1, 0, 'Kreis gesamt', 1))"
      ],
      "execution_count": null,
      "outputs": [
        {
          "output_type": "stream",
          "text": [
            "155\n"
          ],
          "name": "stdout"
        }
      ]
    }
  ]
}