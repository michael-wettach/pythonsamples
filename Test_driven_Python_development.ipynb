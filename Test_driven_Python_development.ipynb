{
  "nbformat": 4,
  "nbformat_minor": 0,
  "metadata": {
    "colab": {
      "name": "Test_driven_Python_development.ipynb",
      "provenance": [],
      "authorship_tag": "ABX9TyMU4DOiSaBL3SVO4fEOhyVa",
      "include_colab_link": true
    },
    "kernelspec": {
      "name": "python3",
      "display_name": "Python 3"
    },
    "language_info": {
      "name": "python"
    }
  },
  "cells": [
    {
      "cell_type": "markdown",
      "metadata": {
        "id": "view-in-github",
        "colab_type": "text"
      },
      "source": [
        "<a href=\"https://colab.research.google.com/github/michael-wettach/pythonsamples/blob/main/Test_driven_Python_development.ipynb\" target=\"_parent\"><img src=\"https://colab.research.google.com/assets/colab-badge.svg\" alt=\"Open In Colab\"/></a>"
      ]
    },
    {
      "cell_type": "markdown",
      "metadata": {
        "id": "35x-JuhguO_D"
      },
      "source": [
        "<h2>Test driven development</h2>\n",
        "Test driven development bedeutet, man schreibt den Testfall schon vor dem eigentlichen Programm (oder wenigstens parallel). Somit hat man gleich Nutzungsbeispiele für den Aufruf des zu entwickelnden Programms, schon bevor dessen Code vollständig entwickelt ist.<br/>\n",
        "\n",
        "Beispiel aus dem Buch \"Expert Python Programming\": Wir sollen eine Funktion schreiben, die den Durchschnitt mehrerer Zahlen berechnet. Ein Test der Funktion lässt sich mit Hilfe des assert Befehls sehr einfach beschreiben. Assert (zu Deutsch: \"stelle sicher, dass\") prüft eine nachfolgende Bedingung auf Wahrheit und wirft einen Fehler, wenn sie nicht wahr ist."
      ]
    },
    {
      "cell_type": "code",
      "metadata": {
        "id": "id6YvNl3uIZ8"
      },
      "source": [
        "assert average(1, 2, 3) == 2\n",
        "assert average(1, -3) == -1"
      ],
      "execution_count": 17,
      "outputs": []
    },
    {
      "cell_type": "markdown",
      "metadata": {
        "id": "R5uqa5Vav-Q3"
      },
      "source": [
        "Da eine variable Anzahl von Argumenten gefragt ist, will ich zunächst auf die Nutzung des * Operators (asterisk) eingehen.<br/>\n",
        "Siehe auch https://treyhunner.com/2018/10/asterisks-in-python-what-they-are-and-how-to-use-them/ "
      ]
    },
    {
      "cell_type": "code",
      "metadata": {
        "colab": {
          "base_uri": "https://localhost:8080/"
        },
        "id": "Fd9HFZ61ypbZ",
        "outputId": "2042b106-91ec-4d62-ea76-9270fee07e65"
      },
      "source": [
        "# 1. Auspacken einer Liste\n",
        "fruits = ['lemon', 'pear', 'watermelon', 'tomato']\n",
        "print(fruits)   # Hier wird die Liste als Struktur mit [] Klammern ausgegeben\n",
        "print(*fruits)  # Hier wird die Liste ausgepackt und Einzelwerte ausgegeben\n",
        "\n",
        "# 2. Platzhalter für eine Liste als Funktionsparameter\n",
        "#    zur Verarbeitung einer unbestimmten Anzahl von Parametern \n",
        "from random import randint\n",
        "def roll(*dice):\n",
        "    # Pro würfel in der Eingabe wird eine Zufahlszahl ermittelt und summiert\n",
        "    return sum(randint(1, die) for die in dice)\n",
        "\n",
        "assert roll(6,6) >= 2    # Achtung: der assert testet nur ein Zufalls-Beispiel\n",
        "assert roll(6,6) <= 12   # Hier wird schon wieder ein anderer Wert erzeugt\n",
        "print( roll(6, 6, 6) )   # Hier zeigen wir, dass auch 3 Parameter gehen\n",
        "\n",
        "# 3. Platzhalter für eine (Teil-) Liste in einer Zuweisung\n",
        "first, *rest = fruits\n",
        "print(first)\n",
        "print(rest)\n",
        "print(*rest)"
      ],
      "execution_count": 14,
      "outputs": [
        {
          "output_type": "stream",
          "text": [
            "['lemon', 'pear', 'watermelon', 'tomato']\n",
            "lemon pear watermelon tomato\n",
            "9\n",
            "lemon\n",
            "['pear', 'watermelon', 'tomato']\n",
            "pear watermelon tomato\n"
          ],
          "name": "stdout"
        }
      ]
    },
    {
      "cell_type": "markdown",
      "metadata": {
        "id": "AvduxX25ybTf"
      },
      "source": [
        "Jetzt schreiben wir mit Nutzung des Asterisk den Code für die Funktion average() und lassen unseren Test laufen."
      ]
    },
    {
      "cell_type": "code",
      "metadata": {
        "colab": {
          "base_uri": "https://localhost:8080/",
          "height": 197
        },
        "id": "gb-6CoFBwGI3",
        "outputId": "101b1fb7-436b-4623-8b84-f9dd8ac1036c"
      },
      "source": [
        "def average(*numbers):\n",
        "  return sum(numbers) / len(numbers)\n",
        "\n",
        "assert average(1, 2, 3) == 2\n",
        "assert average(1, -3) == -1\n",
        "# Was passiert, wenn die Bedingung nicht wahr ist?\n",
        "# Das ist kein echter Testfall, sondern prüft den Befehl assert\n",
        "assert average(0, 1) == 0.6"
      ],
      "execution_count": 5,
      "outputs": [
        {
          "output_type": "error",
          "ename": "AssertionError",
          "evalue": "ignored",
          "traceback": [
            "\u001b[0;31m---------------------------------------------------------------------------\u001b[0m",
            "\u001b[0;31mAssertionError\u001b[0m                            Traceback (most recent call last)",
            "\u001b[0;32m<ipython-input-5-54681469cdd4>\u001b[0m in \u001b[0;36m<module>\u001b[0;34m()\u001b[0m\n\u001b[1;32m      5\u001b[0m \u001b[0;32massert\u001b[0m \u001b[0maverage\u001b[0m\u001b[0;34m(\u001b[0m\u001b[0;36m1\u001b[0m\u001b[0;34m,\u001b[0m \u001b[0;34m-\u001b[0m\u001b[0;36m3\u001b[0m\u001b[0;34m)\u001b[0m \u001b[0;34m==\u001b[0m \u001b[0;34m-\u001b[0m\u001b[0;36m1\u001b[0m\u001b[0;34m\u001b[0m\u001b[0;34m\u001b[0m\u001b[0m\n\u001b[1;32m      6\u001b[0m \u001b[0;31m# Was passiert, wenn die Bedingung nicht wahr ist?\u001b[0m\u001b[0;34m\u001b[0m\u001b[0;34m\u001b[0m\u001b[0;34m\u001b[0m\u001b[0m\n\u001b[0;32m----> 7\u001b[0;31m \u001b[0;32massert\u001b[0m \u001b[0maverage\u001b[0m\u001b[0;34m(\u001b[0m\u001b[0;36m0\u001b[0m\u001b[0;34m,\u001b[0m \u001b[0;36m1\u001b[0m\u001b[0;34m)\u001b[0m \u001b[0;34m==\u001b[0m \u001b[0;36m0.6\u001b[0m\u001b[0;34m\u001b[0m\u001b[0;34m\u001b[0m\u001b[0m\n\u001b[0m",
            "\u001b[0;31mAssertionError\u001b[0m: "
          ]
        }
      ]
    },
    {
      "cell_type": "markdown",
      "metadata": {
        "id": "_Jc9ES_bxKWo"
      },
      "source": [
        "Jetzt können im Rahmen der weiteren Entwicklung noch Testfälle hinzu kommen. <br/> Was soll zum Beispiel passieren, wenn eine leere Menge übergeben wird?"
      ]
    },
    {
      "cell_type": "code",
      "metadata": {
        "colab": {
          "base_uri": "https://localhost:8080/",
          "height": 282
        },
        "id": "laJCKBb7xDni",
        "outputId": "dcd05e1c-2924-4951-a725-2a4e106c08b7"
      },
      "source": [
        "assert average() == 0"
      ],
      "execution_count": 11,
      "outputs": [
        {
          "output_type": "error",
          "ename": "ZeroDivisionError",
          "evalue": "ignored",
          "traceback": [
            "\u001b[0;31m---------------------------------------------------------------------------\u001b[0m",
            "\u001b[0;31mZeroDivisionError\u001b[0m                         Traceback (most recent call last)",
            "\u001b[0;32m<ipython-input-11-6127eec8069a>\u001b[0m in \u001b[0;36m<module>\u001b[0;34m()\u001b[0m\n\u001b[0;32m----> 1\u001b[0;31m \u001b[0;32massert\u001b[0m \u001b[0maverage\u001b[0m\u001b[0;34m(\u001b[0m\u001b[0;34m)\u001b[0m \u001b[0;34m==\u001b[0m \u001b[0;36m0\u001b[0m\u001b[0;34m\u001b[0m\u001b[0;34m\u001b[0m\u001b[0m\n\u001b[0m",
            "\u001b[0;32m<ipython-input-5-54681469cdd4>\u001b[0m in \u001b[0;36maverage\u001b[0;34m(*numbers)\u001b[0m\n\u001b[1;32m      1\u001b[0m \u001b[0;32mdef\u001b[0m \u001b[0maverage\u001b[0m\u001b[0;34m(\u001b[0m\u001b[0;34m*\u001b[0m\u001b[0mnumbers\u001b[0m\u001b[0;34m)\u001b[0m\u001b[0;34m:\u001b[0m\u001b[0;34m\u001b[0m\u001b[0;34m\u001b[0m\u001b[0m\n\u001b[0;32m----> 2\u001b[0;31m   \u001b[0;32mreturn\u001b[0m \u001b[0msum\u001b[0m\u001b[0;34m(\u001b[0m\u001b[0mnumbers\u001b[0m\u001b[0;34m)\u001b[0m \u001b[0;34m/\u001b[0m \u001b[0mlen\u001b[0m\u001b[0;34m(\u001b[0m\u001b[0mnumbers\u001b[0m\u001b[0;34m)\u001b[0m\u001b[0;34m\u001b[0m\u001b[0;34m\u001b[0m\u001b[0m\n\u001b[0m\u001b[1;32m      3\u001b[0m \u001b[0;34m\u001b[0m\u001b[0m\n\u001b[1;32m      4\u001b[0m \u001b[0;32massert\u001b[0m \u001b[0maverage\u001b[0m\u001b[0;34m(\u001b[0m\u001b[0;36m1\u001b[0m\u001b[0;34m,\u001b[0m \u001b[0;36m2\u001b[0m\u001b[0;34m,\u001b[0m \u001b[0;36m3\u001b[0m\u001b[0;34m)\u001b[0m \u001b[0;34m==\u001b[0m \u001b[0;36m2\u001b[0m\u001b[0;34m\u001b[0m\u001b[0;34m\u001b[0m\u001b[0m\n\u001b[1;32m      5\u001b[0m \u001b[0;32massert\u001b[0m \u001b[0maverage\u001b[0m\u001b[0;34m(\u001b[0m\u001b[0;36m1\u001b[0m\u001b[0;34m,\u001b[0m \u001b[0;34m-\u001b[0m\u001b[0;36m3\u001b[0m\u001b[0;34m)\u001b[0m \u001b[0;34m==\u001b[0m \u001b[0;34m-\u001b[0m\u001b[0;36m1\u001b[0m\u001b[0;34m\u001b[0m\u001b[0;34m\u001b[0m\u001b[0m\n",
            "\u001b[0;31mZeroDivisionError\u001b[0m: division by zero"
          ]
        }
      ]
    },
    {
      "cell_type": "markdown",
      "metadata": {
        "id": "-PhBSDxB7VO7"
      },
      "source": [
        "Der Fehler zeigt uns, dass der Code der Funktion überarbeitet werden muss (wir müssen die Division durch 0 abfangen)"
      ]
    },
    {
      "cell_type": "code",
      "metadata": {
        "id": "n40ZQbPT7fB1"
      },
      "source": [
        "def average(*numbers):\n",
        "  if len(numbers) == 0:\n",
        "    return 0\n",
        "  else:  \n",
        "    return sum(numbers) / len(numbers)\n",
        "\n",
        "assert average() == 0\n",
        "# Hier darf jetzt kein Fehler mehr kommen"
      ],
      "execution_count": 16,
      "outputs": []
    },
    {
      "cell_type": "markdown",
      "metadata": {
        "id": "HfODgDRQ8CWj"
      },
      "source": [
        "<h2>Unit Tests</h2>\n",
        "\"Ein Unit Test ist ein Stück Code, das ein Entwickler schreibt, um einen abgegrenzten Teil der Funktionalität seines Programms auszuführen und die Ergebnisse auf Korrektheit zu prüfen.\" (Definition gemäß dem Buch \"Pragmatic Unit Testing in C# using NUNIT\") Zum Beispiel wird ein großer Wert zu einer sortierten Liste hinzugefügt und dann geprüft, dass der Wert am Ende der Liste steht. Unit Tests werden ausgeführt um zu zeigen, dass ein Stück Code genau das tut, was der Entwickler denkt, dass es tun soll. Ob das auch übereinstimmt mit dem, was der Auftraggeber denkt, ist nicht Aufgabe des Unit Tests, sondern des Acceptance Tests. Hinweis: Bei der Postbank Systems gibt es noch zwei Phasen für Integrationstests; der systematische Test von Schnittstellen wird nämlich in agilen Vorgehen gerne vernachlässigt. (Das behauptet jedenfalls das Buch \"Praxiswissen Softwaretest / Testmanagement\".)<br/>\n",
        "\n",
        "In Python gibt es zwei Standardmodule, die das Schreiben von Unit Tests erleichtern sollen:\n",
        "<li> unittest ( http://docs.python.org/lib/module-unittest.html )\n",
        "<li> doctest ( http://docs.python.org/lib/module-doctest.html )\n",
        "<br/>Außerdem gibt es zahlreiche installierbare Nicht-Standard Module wie zum Beispiel\n",
        "<li> pytest ( https://docs.pytest.org/, https://realpython.com/pytest-python-testing/ )\n",
        "\n",
        "<b>unittest</b> bietet eine Funktionalität vergleichbar zu JUnit in Java. Es bietet eine Basisklasse namens TestCase mit einem reichhaltigen Satz an Methoden um das Ergebnis eines Funktionsaufrufs zu überprüfen.\n",
        "\n",
        "<b>doctest</b> kann Code-Abschnitte aus einer interaktiven Python Testsitzung eines Entwicklers extrahieren und erneut laufen lassen. Quasi so etwas wie ein Macro-Recorder für Programmierer-Tests.\n",
        "\n",
        "<b>pytest</b> unterstützt wie unittest ebenfalls die Basisklasse TestCase, hat aber eine einfachere Syntax: es verwendet normale assert Statements statt zahlreicher assert Methoden und ist daher einfacher in der Handhabung.\n",
        "\n"
      ]
    },
    {
      "cell_type": "markdown",
      "metadata": {
        "id": "orXF4fNLFcH9"
      },
      "source": [
        "Wenn ich das Modul unittest zum Testen der oben erwähnten average() Funktion nutzen will, schreibe ich eine eigene Testklasse (als Unterklasse von TestCase) und nutze deren Methoden etwa wie im folgenden Beispiel."
      ]
    },
    {
      "cell_type": "code",
      "metadata": {
        "colab": {
          "base_uri": "https://localhost:8080/"
        },
        "id": "eLpR8PxLF2bt",
        "outputId": "d0635e52-993c-4c2f-b81e-339c1ac331bf"
      },
      "source": [
        "import unittest\n",
        "class MyTests(unittest.TestCase):\n",
        "    def test_average(self):\n",
        "        self.assertEqual( average(1, 2, 3), 2)           # assert average(1, 2, 3) == 2\n",
        "        self.assertEqual( average(1, -3), -1)            # assert average(1, -3) == -1\n",
        "        self.assertRaises( TypeError, average, '1', 2 )  # Erwartung: Fehlerausgabe\n",
        "\n",
        "# Weitere Methoden sind:\n",
        "# assertNotEqual(), assertTrue(), assertFalse(), \n",
        "# assertIs(), assertIsNot(), assertIsNone(), \n",
        "# assertRaisesRegex(), skipTest(), ...\n",
        "\n",
        "# Außerhalb Jupyter Notebooks ruft man hier einfach unittest.main()\n",
        "# Die Funktion sucht nach Subklassen von TestCase und führt diese aus.\n",
        "# In Jupyter Notebooks muss man noch Argumente in argv mitgeben:\n",
        "if __name__ == '__main__':\n",
        "    unittest.main(argv=['first arg is ignored'], exit=False)"
      ],
      "execution_count": 28,
      "outputs": [
        {
          "output_type": "stream",
          "text": [
            ".\n",
            "----------------------------------------------------------------------\n",
            "Ran 1 test in 0.003s\n",
            "\n",
            "OK\n"
          ],
          "name": "stderr"
        }
      ]
    },
    {
      "cell_type": "markdown",
      "metadata": {
        "id": "b0gPtA-MWHpC"
      },
      "source": [
        "Welche Vorteile hat nun also ein Testmodul wie unittest gegenüber dem simplen assert?\n",
        "<li>assert wirft eine Exception ohne Logging Information. Der Code wird nicht weiter ausgeführt.\n",
        "<li>self.assert* wirft einen Testfehler mit Informationen. Der Code kann weiter ausgeführt werden und ggf. weitere Fehler loggen.\n",
        "<li>self.assertRaises() kann Exceptions abfangen und erspart den try ... except Block\n",
        "<li>Man kann Tests in verschiedenen Klassen bündeln und alle ausführen lassen.\n",
        "<li>Man kann Tests abhängig von Bedingungen ausführen: skipIf()"
      ]
    }
  ]
}