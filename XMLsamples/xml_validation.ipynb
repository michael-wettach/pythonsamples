{
  "nbformat": 4,
  "nbformat_minor": 0,
  "metadata": {
    "colab": {
      "name": "xml_validation.ipynb",
      "provenance": [],
      "authorship_tag": "ABX9TyNDMFAJ0kbPeHkqhNh1ddbf",
      "include_colab_link": true
    },
    "kernelspec": {
      "name": "python3",
      "display_name": "Python 3"
    }
  },
  "cells": [
    {
      "cell_type": "markdown",
      "metadata": {
        "id": "view-in-github",
        "colab_type": "text"
      },
      "source": [
        "<a href=\"https://colab.research.google.com/github/michael-wettach/pythonsamples/blob/main/XMLsamples/xml_validation.ipynb\" target=\"_parent\"><img src=\"https://colab.research.google.com/assets/colab-badge.svg\" alt=\"Open In Colab\"/></a>"
      ]
    },
    {
      "cell_type": "markdown",
      "metadata": {
        "id": "535je8GChw06"
      },
      "source": [
        "Jetzt wollen wir ein XML validieren."
      ]
    },
    {
      "cell_type": "code",
      "metadata": {
        "colab": {
          "base_uri": "https://localhost:8080/",
          "height": 265
        },
        "id": "xDpo0WbusytW",
        "outputId": "db8f9bcd-9801-4594-9458-871b2791cba3"
      },
      "source": [
        "from lxml import etree\n",
        "from io import StringIO\n",
        "\n",
        "# open and read schema file\n",
        "with open('FinS_XSD_Light_extended_19052021.xsd', 'r') as schema_file:\n",
        "    # parse the schema (assume well-formed schema, skip error checking)\n",
        "    xmlschema_doc = etree.parse(schema_file)\n",
        "    xmlschema = etree.XMLSchema(xmlschema_doc)\n",
        "    print(\"XML schema was parsed.\")\n",
        "\n",
        "# open and read xml file\n",
        "with open('dansource_FISTAPB_2_202105201559037326.000001.xml', 'r') as xml_file:\n",
        "    # parse the XML document (check for XML syntax before validation)\n",
        "    try:\n",
        "        doc = etree.parse(xml_file)\n",
        "        print('XML well formed, syntax ok.')\n",
        "\n",
        "    # check for file IO error\n",
        "    except IOError:\n",
        "        print('Invalid File')\n",
        "        raise\n",
        "\n",
        "    # check for XML syntax errors\n",
        "    except etree.XMLSyntaxError as err:\n",
        "        print('XML Syntax Error, see error_syntax.log')\n",
        "        with open('error_syntax.log', 'w') as error_log_file:\n",
        "            error_log_file.write(str(err.error_log))\n",
        "        raise\n",
        "\n",
        "    except:\n",
        "        print('Unknown error in parsing XML, exiting.')\n",
        "        raise\n",
        "\n",
        "# now that doc parsed successfully, validate against schema\n",
        "try:\n",
        "    xmlschema.assertValid(doc)\n",
        "    print('XML valid, schema validation ok.')\n",
        "\n",
        "except etree.DocumentInvalid as err:\n",
        "    print('Schema validation error, see error_schema.log')\n",
        "    with open('error_schema.log', 'w') as error_log_file:\n",
        "        error_log_file.write(str(err.error_log))\n",
        "    raise\n",
        "\n",
        "except:\n",
        "    print('Unknown error in validating XML, exiting.')\n",
        "    raise\n"
      ],
      "execution_count": 9,
      "outputs": [
        {
          "output_type": "error",
          "ename": "XMLSchemaParseError",
          "evalue": "ignored",
          "traceback": [
            "\u001b[0;31m---------------------------------------------------------------------------\u001b[0m",
            "\u001b[0;31mXMLSchemaParseError\u001b[0m                       Traceback (most recent call last)",
            "\u001b[0;32m<ipython-input-9-fde4962040b8>\u001b[0m in \u001b[0;36m<module>\u001b[0;34m()\u001b[0m\n\u001b[1;32m      7\u001b[0m     \u001b[0;31m# parse the schema (assume well-formed schema, skip error checking)\u001b[0m\u001b[0;34m\u001b[0m\u001b[0;34m\u001b[0m\u001b[0;34m\u001b[0m\u001b[0m\n\u001b[1;32m      8\u001b[0m     \u001b[0mxmlschema_doc\u001b[0m \u001b[0;34m=\u001b[0m \u001b[0metree\u001b[0m\u001b[0;34m.\u001b[0m\u001b[0mparse\u001b[0m\u001b[0;34m(\u001b[0m\u001b[0mschema_file\u001b[0m\u001b[0;34m)\u001b[0m\u001b[0;34m\u001b[0m\u001b[0;34m\u001b[0m\u001b[0m\n\u001b[0;32m----> 9\u001b[0;31m     \u001b[0mxmlschema\u001b[0m \u001b[0;34m=\u001b[0m \u001b[0metree\u001b[0m\u001b[0;34m.\u001b[0m\u001b[0mXMLSchema\u001b[0m\u001b[0;34m(\u001b[0m\u001b[0mxmlschema_doc\u001b[0m\u001b[0;34m)\u001b[0m\u001b[0;34m\u001b[0m\u001b[0;34m\u001b[0m\u001b[0m\n\u001b[0m\u001b[1;32m     10\u001b[0m     \u001b[0mprint\u001b[0m\u001b[0;34m(\u001b[0m\u001b[0;34m\"XML schema was parsed.\"\u001b[0m\u001b[0;34m)\u001b[0m\u001b[0;34m\u001b[0m\u001b[0;34m\u001b[0m\u001b[0m\n\u001b[1;32m     11\u001b[0m \u001b[0;34m\u001b[0m\u001b[0m\n",
            "\u001b[0;32msrc/lxml/xmlschema.pxi\u001b[0m in \u001b[0;36mlxml.etree.XMLSchema.__init__\u001b[0;34m()\u001b[0m\n",
            "\u001b[0;31mXMLSchemaParseError\u001b[0m: local complex type: The content model is not determinist., line 75"
          ]
        }
      ]
    },
    {
      "cell_type": "code",
      "metadata": {
        "id": "K-PkE-Tz4TbS",
        "outputId": "4bde8f6a-02df-4132-bdd1-1c6da6ad1b5d",
        "colab": {
          "base_uri": "https://localhost:8080/"
        }
      },
      "source": [
        "# Neuer Versuch mit easyxsd\n",
        "!pip install https://github.com/gnrfan/python-easyxsd/zipball/master"
      ],
      "execution_count": 1,
      "outputs": [
        {
          "output_type": "stream",
          "text": [
            "Collecting https://github.com/gnrfan/python-easyxsd/zipball/master\n",
            "\u001b[?25l  Downloading https://github.com/gnrfan/python-easyxsd/zipball/master\n",
            "\u001b[K     | 30kB 57.2MB/s\n",
            "\u001b[?25hRequirement already satisfied: lxml>=3.3.5 in /usr/local/lib/python3.7/dist-packages (from easyxsd==0.1) (4.2.6)\n",
            "Building wheels for collected packages: easyxsd\n",
            "  Building wheel for easyxsd (setup.py) ... \u001b[?25l\u001b[?25hdone\n",
            "  Created wheel for easyxsd: filename=easyxsd-0.1-cp37-none-any.whl size=4583 sha256=93b982af1208e6db347fec7eb89fa0c8b32b09a3e164dc19173030710b5f928d\n",
            "  Stored in directory: /tmp/pip-ephem-wheel-cache-yw_6rvfe/wheels/81/c9/b8/475f289cd991a37b25f01593b8027463abf7459ca7e10132a0\n",
            "Successfully built easyxsd\n",
            "Installing collected packages: easyxsd\n",
            "Successfully installed easyxsd-0.1\n"
          ],
          "name": "stdout"
        }
      ]
    },
    {
      "cell_type": "code",
      "metadata": {
        "id": "tuEsbsdV4ccL",
        "outputId": "a523c222-f6f5-43fd-a08e-12ca3bc11c57",
        "colab": {
          "base_uri": "https://localhost:8080/",
          "height": 384
        }
      },
      "source": [
        "from easyxsd import *\n",
        "# Load XML Schema (.xsd file)\n",
        "xsd = xsd_from_file(\"FinS_XSD_Light_extended_19052021.xsd\")\n",
        "\n",
        "# Load XML File\n",
        "xml = xml_from_file(\"dansource_FISTAPB_2_202105201559037326.000001.xml\")\n",
        "\n",
        "# Validate\n",
        "list_errors = validate_with_errors(xml, xsd)\n",
        "\n",
        "# Open output file (validation response)\n",
        "for error in list_errors:\n",
        "    print(str(error) + '\\n')"
      ],
      "execution_count": 3,
      "outputs": [
        {
          "output_type": "error",
          "ename": "XMLSchemaParseError",
          "evalue": "ignored",
          "traceback": [
            "\u001b[0;31m---------------------------------------------------------------------------\u001b[0m",
            "\u001b[0;31mXMLSchemaParseError\u001b[0m                       Traceback (most recent call last)",
            "\u001b[0;32m<ipython-input-3-d4c303d95900>\u001b[0m in \u001b[0;36m<module>\u001b[0;34m()\u001b[0m\n\u001b[1;32m      1\u001b[0m \u001b[0;32mfrom\u001b[0m \u001b[0measyxsd\u001b[0m \u001b[0;32mimport\u001b[0m \u001b[0;34m*\u001b[0m\u001b[0;34m\u001b[0m\u001b[0;34m\u001b[0m\u001b[0m\n\u001b[1;32m      2\u001b[0m \u001b[0;31m# Load XML Schema (.xsd file)\u001b[0m\u001b[0;34m\u001b[0m\u001b[0;34m\u001b[0m\u001b[0;34m\u001b[0m\u001b[0m\n\u001b[0;32m----> 3\u001b[0;31m \u001b[0mxsd\u001b[0m \u001b[0;34m=\u001b[0m \u001b[0mxsd_from_file\u001b[0m\u001b[0;34m(\u001b[0m\u001b[0;34m\"FinS_XSD_Light_extended_19052021.xsd\"\u001b[0m\u001b[0;34m)\u001b[0m\u001b[0;34m\u001b[0m\u001b[0;34m\u001b[0m\u001b[0m\n\u001b[0m\u001b[1;32m      4\u001b[0m \u001b[0;34m\u001b[0m\u001b[0m\n\u001b[1;32m      5\u001b[0m \u001b[0;31m# Load XML File\u001b[0m\u001b[0;34m\u001b[0m\u001b[0;34m\u001b[0m\u001b[0;34m\u001b[0m\u001b[0m\n",
            "\u001b[0;32m/usr/local/lib/python3.7/dist-packages/easyxsd/utils.py\u001b[0m in \u001b[0;36mxsd_from_file\u001b[0;34m(filepath)\u001b[0m\n\u001b[1;32m     42\u001b[0m     \u001b[0;32mtry\u001b[0m\u001b[0;34m:\u001b[0m\u001b[0;34m\u001b[0m\u001b[0;34m\u001b[0m\u001b[0m\n\u001b[1;32m     43\u001b[0m         \u001b[0mxml\u001b[0m \u001b[0;34m=\u001b[0m \u001b[0metree\u001b[0m\u001b[0;34m.\u001b[0m\u001b[0mparse\u001b[0m\u001b[0;34m(\u001b[0m\u001b[0mfilepath\u001b[0m\u001b[0;34m)\u001b[0m\u001b[0;34m\u001b[0m\u001b[0;34m\u001b[0m\u001b[0m\n\u001b[0;32m---> 44\u001b[0;31m         \u001b[0;32mreturn\u001b[0m \u001b[0metree\u001b[0m\u001b[0;34m.\u001b[0m\u001b[0mXMLSchema\u001b[0m\u001b[0;34m(\u001b[0m\u001b[0mxml\u001b[0m\u001b[0;34m)\u001b[0m\u001b[0;34m\u001b[0m\u001b[0;34m\u001b[0m\u001b[0m\n\u001b[0m\u001b[1;32m     45\u001b[0m     \u001b[0;32mexcept\u001b[0m \u001b[0metree\u001b[0m\u001b[0;34m.\u001b[0m\u001b[0mXMLSyntaxError\u001b[0m\u001b[0;34m:\u001b[0m\u001b[0;34m\u001b[0m\u001b[0;34m\u001b[0m\u001b[0m\n\u001b[1;32m     46\u001b[0m         \u001b[0;32mreturn\u001b[0m \u001b[0;32mNone\u001b[0m\u001b[0;34m\u001b[0m\u001b[0;34m\u001b[0m\u001b[0m\n",
            "\u001b[0;32msrc/lxml/xmlschema.pxi\u001b[0m in \u001b[0;36mlxml.etree.XMLSchema.__init__\u001b[0;34m()\u001b[0m\n",
            "\u001b[0;31mXMLSchemaParseError\u001b[0m: local complex type: The content model is not determinist., line 75"
          ]
        }
      ]
    }
  ]
}