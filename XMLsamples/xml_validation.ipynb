{
  "nbformat": 4,
  "nbformat_minor": 0,
  "metadata": {
    "colab": {
      "name": "xml_validation.ipynb",
      "provenance": [],
      "authorship_tag": "ABX9TyOwmYoY9p60HEjTEoU9pBQ5",
      "include_colab_link": true
    },
    "kernelspec": {
      "name": "python3",
      "display_name": "Python 3"
    }
  },
  "cells": [
    {
      "cell_type": "markdown",
      "metadata": {
        "id": "view-in-github",
        "colab_type": "text"
      },
      "source": [
        "<a href=\"https://colab.research.google.com/github/michael-wettach/pythonsamples/blob/main/XMLsamples/xml_validation.ipynb\" target=\"_parent\"><img src=\"https://colab.research.google.com/assets/colab-badge.svg\" alt=\"Open In Colab\"/></a>"
      ]
    },
    {
      "cell_type": "code",
      "metadata": {
        "id": "5v2ZYhQF_63h",
        "outputId": "10716fde-dd9f-4fc4-a4f6-f6773c0160d6",
        "colab": {
          "base_uri": "https://localhost:8080/"
        }
      },
      "source": [
        "# Holen der Testdateien aus GitHub\n",
        "!wget \"https://github.com/michael-wettach/pythonsamples/raw/main/XMLsamples/FinS_XSD_Light_reduced.xsd\"\n",
        "!wget \"https://github.com/michael-wettach/pythonsamples/raw/main/XMLsamples/dansource_FISTAPB_2_reduced.xml\""
      ],
      "execution_count": 1,
      "outputs": [
        {
          "output_type": "stream",
          "text": [
            "--2021-05-27 13:25:55--  https://github.com/michael-wettach/pythonsamples/raw/main/XMLsamples/FinS_XSD_Light_reduced.xsd\n",
            "Resolving github.com (github.com)... 52.69.186.44\n",
            "Connecting to github.com (github.com)|52.69.186.44|:443... connected.\n",
            "HTTP request sent, awaiting response... 302 Found\n",
            "Location: https://raw.githubusercontent.com/michael-wettach/pythonsamples/main/XMLsamples/FinS_XSD_Light_reduced.xsd [following]\n",
            "--2021-05-27 13:25:56--  https://raw.githubusercontent.com/michael-wettach/pythonsamples/main/XMLsamples/FinS_XSD_Light_reduced.xsd\n",
            "Resolving raw.githubusercontent.com (raw.githubusercontent.com)... 185.199.108.133, 185.199.109.133, 185.199.110.133, ...\n",
            "Connecting to raw.githubusercontent.com (raw.githubusercontent.com)|185.199.108.133|:443... connected.\n",
            "HTTP request sent, awaiting response... 200 OK\n",
            "Length: 3480 (3.4K) [text/plain]\n",
            "Saving to: ‘FinS_XSD_Light_reduced.xsd’\n",
            "\n",
            "FinS_XSD_Light_redu 100%[===================>]   3.40K  --.-KB/s    in 0s      \n",
            "\n",
            "2021-05-27 13:25:56 (48.2 MB/s) - ‘FinS_XSD_Light_reduced.xsd’ saved [3480/3480]\n",
            "\n",
            "--2021-05-27 13:25:56--  https://github.com/michael-wettach/pythonsamples/raw/main/XMLsamples/dansource_FISTAPB_2_reduced.xml\n",
            "Resolving github.com (github.com)... 13.114.40.48\n",
            "Connecting to github.com (github.com)|13.114.40.48|:443... connected.\n",
            "HTTP request sent, awaiting response... 302 Found\n",
            "Location: https://raw.githubusercontent.com/michael-wettach/pythonsamples/main/XMLsamples/dansource_FISTAPB_2_reduced.xml [following]\n",
            "--2021-05-27 13:25:57--  https://raw.githubusercontent.com/michael-wettach/pythonsamples/main/XMLsamples/dansource_FISTAPB_2_reduced.xml\n",
            "Resolving raw.githubusercontent.com (raw.githubusercontent.com)... 185.199.109.133, 185.199.111.133, 185.199.110.133, ...\n",
            "Connecting to raw.githubusercontent.com (raw.githubusercontent.com)|185.199.109.133|:443... connected.\n",
            "HTTP request sent, awaiting response... 200 OK\n",
            "Length: 717 [text/plain]\n",
            "Saving to: ‘dansource_FISTAPB_2_reduced.xml’\n",
            "\n",
            "dansource_FISTAPB_2 100%[===================>]     717  --.-KB/s    in 0s      \n",
            "\n",
            "2021-05-27 13:25:57 (25.4 MB/s) - ‘dansource_FISTAPB_2_reduced.xml’ saved [717/717]\n",
            "\n"
          ],
          "name": "stdout"
        }
      ]
    },
    {
      "cell_type": "markdown",
      "metadata": {
        "id": "535je8GChw06"
      },
      "source": [
        "Jetzt wollen wir ein XML validieren."
      ]
    },
    {
      "cell_type": "code",
      "metadata": {
        "colab": {
          "base_uri": "https://localhost:8080/",
          "height": 316
        },
        "id": "xDpo0WbusytW",
        "outputId": "1bf94481-3a0c-4451-9c52-78be2d79b9b1"
      },
      "source": [
        "from lxml import etree\n",
        "from io import StringIO\n",
        "\n",
        "# open and read schema file\n",
        "with open('FinS_XSD_Light_reduced.xsd', 'r') as schema_file:\n",
        "    # parse the schema (assume well-formed schema, skip error checking)\n",
        "    xmlschema_doc = etree.parse(schema_file)\n",
        "    xmlschema = etree.XMLSchema(xmlschema_doc)\n",
        "    print(\"XML schema was parsed.\")\n",
        "\n",
        "# open and read xml file\n",
        "with open('dansource_FISTAPB_2_reduced_T.xml', 'r') as xml_file:\n",
        "    # parse the XML document (check for XML syntax before validation)\n",
        "    try:\n",
        "        doc = etree.parse(xml_file)\n",
        "        print('XML well formed, syntax ok.')\n",
        "\n",
        "    # check for file IO error\n",
        "    except IOError:\n",
        "        print('Invalid File')\n",
        "        raise\n",
        "\n",
        "    # check for XML syntax errors\n",
        "    except etree.XMLSyntaxError as err:\n",
        "        print('XML Syntax Error, see error_syntax.log')\n",
        "        with open('error_syntax.log', 'w') as error_log_file:\n",
        "            error_log_file.write(str(err.error_log))\n",
        "        raise\n",
        "\n",
        "    except:\n",
        "        print('Unknown error in parsing XML, exiting.')\n",
        "        raise\n",
        "\n",
        "# now that doc parsed successfully, validate against schema\n",
        "try:\n",
        "    xmlschema.assertValid(doc)\n",
        "    print('XML valid, schema validation ok.')\n",
        "\n",
        "except etree.DocumentInvalid as err:\n",
        "    print('Schema validation error, see error_schema.log')\n",
        "    with open('error_schema.log', 'w') as error_log_file:\n",
        "        error_log_file.write(str(err.error_log))\n",
        "    raise\n",
        "\n",
        "except:\n",
        "    print('Unknown error in validating XML, exiting.')\n",
        "    raise\n"
      ],
      "execution_count": null,
      "outputs": [
        {
          "output_type": "stream",
          "text": [
            "XML schema was parsed.\n",
            "XML well formed, syntax ok.\n",
            "Schema validation error, see error_schema.log\n"
          ],
          "name": "stdout"
        },
        {
          "output_type": "error",
          "ename": "DocumentInvalid",
          "evalue": "ignored",
          "traceback": [
            "\u001b[0;31m---------------------------------------------------------------------------\u001b[0m",
            "\u001b[0;31mDocumentInvalid\u001b[0m                           Traceback (most recent call last)",
            "\u001b[0;32m<ipython-input-29-0c5054dce091>\u001b[0m in \u001b[0;36m<module>\u001b[0;34m()\u001b[0m\n\u001b[1;32m     34\u001b[0m \u001b[0;31m# now that doc parsed successfully, validate against schema\u001b[0m\u001b[0;34m\u001b[0m\u001b[0;34m\u001b[0m\u001b[0;34m\u001b[0m\u001b[0m\n\u001b[1;32m     35\u001b[0m \u001b[0;32mtry\u001b[0m\u001b[0;34m:\u001b[0m\u001b[0;34m\u001b[0m\u001b[0;34m\u001b[0m\u001b[0m\n\u001b[0;32m---> 36\u001b[0;31m     \u001b[0mxmlschema\u001b[0m\u001b[0;34m.\u001b[0m\u001b[0massertValid\u001b[0m\u001b[0;34m(\u001b[0m\u001b[0mdoc\u001b[0m\u001b[0;34m)\u001b[0m\u001b[0;34m\u001b[0m\u001b[0;34m\u001b[0m\u001b[0m\n\u001b[0m\u001b[1;32m     37\u001b[0m     \u001b[0mprint\u001b[0m\u001b[0;34m(\u001b[0m\u001b[0;34m'XML valid, schema validation ok.'\u001b[0m\u001b[0;34m)\u001b[0m\u001b[0;34m\u001b[0m\u001b[0;34m\u001b[0m\u001b[0m\n\u001b[1;32m     38\u001b[0m \u001b[0;34m\u001b[0m\u001b[0m\n",
            "\u001b[0;32msrc/lxml/etree.pyx\u001b[0m in \u001b[0;36mlxml.etree._Validator.assertValid\u001b[0;34m()\u001b[0m\n",
            "\u001b[0;31mDocumentInvalid\u001b[0m: Element 'element_Kontoauszugsnr_Fins': This element is not expected. Expected is ( element_Fins_Nr )., line 10"
          ]
        }
      ]
    },
    {
      "cell_type": "code",
      "metadata": {
        "colab": {
          "base_uri": "https://localhost:8080/"
        },
        "id": "K-PkE-Tz4TbS",
        "outputId": "18b60d36-23fa-4b74-904b-418b45482758"
      },
      "source": [
        "# Neuer Versuch mit easyxsd\n",
        "!pip install https://github.com/gnrfan/python-easyxsd/zipball/master"
      ],
      "execution_count": null,
      "outputs": [
        {
          "output_type": "stream",
          "text": [
            "Collecting https://github.com/gnrfan/python-easyxsd/zipball/master\n",
            "\u001b[?25l  Downloading https://github.com/gnrfan/python-easyxsd/zipball/master\n",
            "\u001b[K     \\ 20kB 26.7MB/s\n",
            "\u001b[?25hRequirement already satisfied: lxml>=3.3.5 in /usr/local/lib/python3.7/dist-packages (from easyxsd==0.1) (4.2.6)\n",
            "Building wheels for collected packages: easyxsd\n",
            "  Building wheel for easyxsd (setup.py) ... \u001b[?25l\u001b[?25hdone\n",
            "  Created wheel for easyxsd: filename=easyxsd-0.1-cp37-none-any.whl size=4583 sha256=f3f23f3f5230fb76015d06940490cc0281684d16f567be1010d1adf87cf0ee1e\n",
            "  Stored in directory: /tmp/pip-ephem-wheel-cache-pon1j8nt/wheels/81/c9/b8/475f289cd991a37b25f01593b8027463abf7459ca7e10132a0\n",
            "Successfully built easyxsd\n",
            "Installing collected packages: easyxsd\n",
            "Successfully installed easyxsd-0.1\n"
          ],
          "name": "stdout"
        }
      ]
    },
    {
      "cell_type": "code",
      "metadata": {
        "colab": {
          "base_uri": "https://localhost:8080/"
        },
        "id": "tuEsbsdV4ccL",
        "outputId": "85674fa7-faaf-45b6-e07c-7e31527b3ffc"
      },
      "source": [
        "from easyxsd import *\n",
        "# Load XML Schema (.xsd file)\n",
        "xsd = xsd_from_file(\"FinS_XSD_Light_reduced.xsd\")\n",
        "\n",
        "# Load XML File\n",
        "xml = xml_from_file(\"dansource_FISTAPB_2_reduced_T.xml\")\n",
        "\n",
        "# Validate\n",
        "list_errors = validate_with_errors(xml, xsd)\n",
        "print(*list_errors)"
      ],
      "execution_count": null,
      "outputs": [
        {
          "output_type": "stream",
          "text": [
            "False dansource_FISTAPB_2_reduced_T.xml:10:0:ERROR:SCHEMASV:SCHEMAV_ELEMENT_CONTENT: Element 'element_Kontoauszugsnr_Fins': This element is not expected. Expected is ( element_Fins_Nr ).\n",
            "dansource_FISTAPB_2_reduced_T.xml:19:0:ERROR:SCHEMASV:SCHEMAV_ELEMENT_CONTENT: Element 'element_IBAN_Fins_TG': This element is not expected. Expected is ( element_IBAN_Fins ).\n"
          ],
          "name": "stdout"
        }
      ]
    },
    {
      "cell_type": "code",
      "metadata": {
        "id": "VSi0HxS4QboL"
      },
      "source": [
        "# Jetzt bereiten wir die XML Datei vor, so dass ein besseres XSD Schema zum Einsatz kommen kann.\n",
        "import re\n",
        "my_schema = \"FinS_XSD_Light_reduced.xsd\"\n",
        "my_infile = \"dansource_FISTAPB_2_reduced.xml\"     # Eingabedatei von Zoe, hier reduziert\n",
        "my_outfile = re.sub(\".xml\",\"_T.xml\", my_infile)   # Ausgabedatei, hat ein _T im Namen\n",
        "\n",
        "# Jetzt ersetzen wir <element name=\"xy\"> durch <element_xy>\n",
        "my_elements = []\n",
        "with open(my_infile, \"r\") as infile, open(my_outfile, \"w\") as outfile:\n",
        "  for str1 in infile.readlines():\n",
        "    e1 = re.match(r'(.*elements) name=\"([^\"]+)\"(.*)', str1)\n",
        "    e2 = re.match(r'(.*</elements)>(.*)', str1)\n",
        "\n",
        "    if e1:\n",
        "      my_elements.append(e1.group(2))\n",
        "      outfile.write(e1.group(1) + \"_\" + e1.group(2) + e1.group(3) + \"\\n\")\n",
        "\n",
        "    elif e2:\n",
        "      s = my_elements.pop()\n",
        "      outfile.write(e2.group(1) + \"_\" + s + \">\" + e2.group(2) + \"\\n\")\n",
        "\n",
        "    else:\n",
        "      outfile.write(re.sub(r'(element?) name=\"([^\"]+)\"([^<]+</).*',r'\\1_\\2\\3\\1_\\2>', str1)) \n",
        "\n"
      ],
      "execution_count": null,
      "outputs": []
    },
    {
      "cell_type": "code",
      "metadata": {
        "colab": {
          "base_uri": "https://localhost:8080/"
        },
        "id": "vcaW2tuDQDLi",
        "outputId": "a29717f1-20e1-4f27-99ba-03bdf7fad089"
      },
      "source": [
        "# Anschließend validieren wir mal mit xmllint. Ggf. wie folgt installieren:\n",
        "# !sudo apt-get install libxml2-utils\n",
        "# Achtung: die Variablen my_schema, my_outfile aus der vorherigen Zelle werden vorausgesetzt.\n",
        "print(\"\\n*** xmllint Ausgabe ***\")\n",
        "!/usr/bin/xmllint --schema $my_schema $my_outfile --noout"
      ],
      "execution_count": null,
      "outputs": [
        {
          "output_type": "stream",
          "text": [
            "\n",
            "*** xmllint Ausgabe ***\n",
            "dansource_FISTAPB_2_reduced_T.xml:10: element element_Kontoauszugsnr_Fins: Schemas validity error : Element 'element_Kontoauszugsnr_Fins': This element is not expected. Expected is ( element_Fins_Nr ).\n",
            "dansource_FISTAPB_2_reduced_T.xml:19: element element_IBAN_Fins_TG: Schemas validity error : Element 'element_IBAN_Fins_TG': This element is not expected. Expected is ( element_IBAN_Fins ).\n",
            "dansource_FISTAPB_2_reduced_T.xml fails to validate\n"
          ],
          "name": "stdout"
        }
      ]
    },
    {
      "cell_type": "code",
      "metadata": {
        "colab": {
          "base_uri": "https://localhost:8080/"
        },
        "id": "RRpbJWeCHIq1",
        "outputId": "980ea319-a83d-4ae8-f56a-0cde0d3d9d4c"
      },
      "source": [
        "# Sogar XSD 1.1 Validierung mit Xerces funktioniert in Jupyter Notebooks.\n",
        "# Der xsd11-validator ist mit Source Code auf GitHub: https://github.com/jeszy75/xsd11-validator \n",
        "# Da sollen die benötigten Xerces Bibliotheken schon drin sein, sonst installieren:\n",
        "# !sudo apt-get install libxerces2-java\n",
        "# Leider hat die offizielle GitHub Seite keine kompilierte Version, daher z. B. so runterladen:\n",
        "# !wget https://github.com/michael-wettach/pythonsamples/raw/main/XMLsamples/xsd11-validator.jar\n",
        "!chmod +x xsd11-validator.jar\n",
        "print(\"\\n*** Xerces Ausgabe ***\")\n",
        "!java -jar xsd11-validator.jar -sf $my_schema -if $my_outfile"
      ],
      "execution_count": null,
      "outputs": [
        {
          "output_type": "stream",
          "text": [
            "\n",
            "*** Xerces Ausgabe ***\n",
            "[Error] file:///content/dansource_FISTAPB_2_reduced_T.xml:10:36: cvc-complex-type.2.4.a: Invalid content was found starting with element 'element_Kontoauszugsnr_Fins'. One of '{element_Fins_Nr}' is expected.\n",
            "[Error] file:///content/dansource_FISTAPB_2_reduced_T.xml:19:29: cvc-complex-type.2.4.a: Invalid content was found starting with element 'element_IBAN_Fins_TG'. One of '{element_IBAN_Fins}' is expected.\n"
          ],
          "name": "stdout"
        }
      ]
    },
    {
      "cell_type": "code",
      "metadata": {
        "colab": {
          "base_uri": "https://localhost:8080/"
        },
        "id": "b_IS1jouOMZP",
        "outputId": "78892fc0-8b6f-4440-d701-6c3f0318e81e"
      },
      "source": [
        "# Und der letzte Versuch mit dem Python Modul xmlschema\n",
        "!pip install xmlschema"
      ],
      "execution_count": null,
      "outputs": [
        {
          "output_type": "stream",
          "text": [
            "Collecting xmlschema\n",
            "\u001b[?25l  Downloading https://files.pythonhosted.org/packages/ae/4a/a90e6fb3c18f8442cfd32371ef7302c29df9655a90884eb6eae7b37e33ee/xmlschema-1.6.2-py3-none-any.whl (254kB)\n",
            "\u001b[K     |████████████████████████████████| 256kB 4.9MB/s \n",
            "\u001b[?25hCollecting elementpath<3.0.0,>=2.2.2\n",
            "\u001b[?25l  Downloading https://files.pythonhosted.org/packages/da/a8/d2229ca03552e349c725f8b3c5664af9e022e41425431441df14fe8aa87e/elementpath-2.2.2-py3-none-any.whl (149kB)\n",
            "\u001b[K     |████████████████████████████████| 153kB 31.5MB/s \n",
            "\u001b[?25hInstalling collected packages: elementpath, xmlschema\n",
            "Successfully installed elementpath-2.2.2 xmlschema-1.6.2\n"
          ],
          "name": "stdout"
        }
      ]
    },
    {
      "cell_type": "code",
      "metadata": {
        "colab": {
          "base_uri": "https://localhost:8080/",
          "height": 758
        },
        "id": "BLh33jLd6VNv",
        "outputId": "edbafabe-4431-425f-ab5f-61b114021bc1"
      },
      "source": [
        "import xmlschema\n",
        "my_schema = xmlschema.XMLSchema('FinS_XSD_Light_reduced.xsd')\n",
        "my_schema.validate('dansource_FISTAPB_2_reduced_T.xml')"
      ],
      "execution_count": null,
      "outputs": [
        {
          "output_type": "error",
          "ename": "XMLSchemaChildrenValidationError",
          "evalue": "ignored",
          "traceback": [
            "\u001b[0;31m---------------------------------------------------------------------------\u001b[0m",
            "\u001b[0;31mXMLSchemaChildrenValidationError\u001b[0m          Traceback (most recent call last)",
            "\u001b[0;32m<ipython-input-28-b5275b1299a5>\u001b[0m in \u001b[0;36m<module>\u001b[0;34m()\u001b[0m\n\u001b[1;32m      1\u001b[0m \u001b[0;32mimport\u001b[0m \u001b[0mxmlschema\u001b[0m\u001b[0;34m\u001b[0m\u001b[0;34m\u001b[0m\u001b[0m\n\u001b[1;32m      2\u001b[0m \u001b[0mmy_schema\u001b[0m \u001b[0;34m=\u001b[0m \u001b[0mxmlschema\u001b[0m\u001b[0;34m.\u001b[0m\u001b[0mXMLSchema\u001b[0m\u001b[0;34m(\u001b[0m\u001b[0;34m'FinS_XSD_Light_reduced.xsd'\u001b[0m\u001b[0;34m)\u001b[0m\u001b[0;34m\u001b[0m\u001b[0;34m\u001b[0m\u001b[0m\n\u001b[0;32m----> 3\u001b[0;31m \u001b[0mmy_schema\u001b[0m\u001b[0;34m.\u001b[0m\u001b[0mvalidate\u001b[0m\u001b[0;34m(\u001b[0m\u001b[0;34m'dansource_FISTAPB_2_reduced_T.xml'\u001b[0m\u001b[0;34m)\u001b[0m\u001b[0;34m\u001b[0m\u001b[0;34m\u001b[0m\u001b[0m\n\u001b[0m",
            "\u001b[0;32m/usr/local/lib/python3.7/dist-packages/xmlschema/validators/schema.py\u001b[0m in \u001b[0;36mvalidate\u001b[0;34m(self, source, path, schema_path, use_defaults, namespaces, max_depth, extra_validator)\u001b[0m\n\u001b[1;32m   1518\u001b[0m         for error in self.iter_errors(source, path, schema_path, use_defaults,\n\u001b[1;32m   1519\u001b[0m                                       namespaces, max_depth, extra_validator):\n\u001b[0;32m-> 1520\u001b[0;31m             \u001b[0;32mraise\u001b[0m \u001b[0merror\u001b[0m\u001b[0;34m\u001b[0m\u001b[0;34m\u001b[0m\u001b[0m\n\u001b[0m\u001b[1;32m   1521\u001b[0m \u001b[0;34m\u001b[0m\u001b[0m\n\u001b[1;32m   1522\u001b[0m     def is_valid(self, source, path=None, schema_path=None, use_defaults=True,\n",
            "\u001b[0;31mXMLSchemaChildrenValidationError\u001b[0m: failed validating <Element 'elements_KAZInfo' at 0x7fa7ed4b1ad0> with XsdGroup(model='sequence', occurs=[1, 1]):\n\nReason: Unexpected child with tag 'element_Kontoauszugsnr_Fins' at position 1. Tag 'element_Fins_Nr' expected.\n\nSchema:\n\n  <xs:complexType xmlns:xs=\"http://www.w3.org/2001/XMLSchema\">\n      <xs:sequence>\n          <xs:element name=\"element_Fins_Nr\">\n              <xs:complexType>\n                  <xs:simpleContent>\n                      <xs:extension base=\"Fins_Nr\">\n                      </xs:extension>\n                  </xs:simpleContent>\n              </xs:complexType>\n          </xs:element>\n      </xs:sequence>\n  </xs:complexType>\n\nInstance:\n\n  <elements_KAZInfo>\n    <element_Kontoauszugsnr_Fins>1</element_Kontoauszugsnr_Fins>\n  </elements_KAZInfo>\n\nPath: /docs/doc/payload/elements_KAZInfo\n"
          ]
        }
      ]
    },
    {
      "cell_type": "markdown",
      "metadata": {
        "id": "iQlLFFEwOjGZ"
      },
      "source": [
        "Der folgende Text ist alt und bezieht sich auf die Validierung eines Schemas mit mehreren Knoten mit gleichem Namen \"elements\" aber unterschiedlichen Inhalten."
      ]
    },
    {
      "cell_type": "markdown",
      "metadata": {
        "id": "QL8BrBqNpEF9"
      },
      "source": [
        "Aus der Fehlermeldung geht klar hervor: sie bezieht sich auf den vierten Knoten vom Typ Element: element[4].\n",
        "1. element name = \"docs\"\n",
        "2. element name = \"doc\" (Wiederholung)\n",
        "3. element name = \"header\"\n",
        "4. element name = \"payload\"\n",
        "\n",
        "In diesem 4. Element \"payload\" betrifft der Befund gemäß Path-Angabe im complexType die sequence. Innerhalb der Sequence gibt es drei Elemente mit Namen \"elements\", die der Parser für nicht eindeutig hält:\n",
        "- KAZInfo (habe ich auf occurs 1,1 gesetzt)\n",
        "- GiroRecord (habe ich auf occurs 1,unbounded gesetzt)\n",
        "- TagesgeldRecord (habe ich auf occurs 0,unbounded gesetzt)\n",
        "\n",
        "Die Meldung hat mit der eigentlichen XML Datei nichts zu tun, sie tritt bereits bei der Prüfung des xsd Schemas auf. Aufgrund der Occurs-Angaben ist klar, dass hier zunächst KAZInfo und GiroRecord gemeint sind.\n",
        "\n",
        "Was ist nun das Problem? Die Meldung sagt:\n",
        "\n",
        "XMLSchemaModelError: Element Declarations Consistent violation between XsdElement(name='elements', occurs=[1, None]) and XsdElement(name='elements', occurs=[1, 1]): match the same name but with different types\n",
        "\n",
        "https://www.w3.org/TR/2004/REC-xmlschema-1-20041028/structures.html#cos-element-consistent \n",
        "Die XML Regel <b>Schema Component Constraint / Element Declarations Consistent</b>:<br/>\n",
        "If the {particles} contains, either directly, indirectly (that is, within the {particles} of a contained model group, recursively) or ·implicitly· two or more element declaration particles with the same {name} and {target namespace}, then all their type definitions must be the same top-level definition, that is, all of the following must be true:\n",
        "- all their {type definition}s must have a non-·absent· {name}.\n",
        "- all their {type definition}s must have the same {name}.\n",
        "- all their {type definition}s must have the same {target namespace}.\n",
        "\n",
        "Auf Stackoverflow habe ich dazu folgende Hinweise gefunden:\n",
        "- You can't declare two elements with the same name with different types in the same context.\n",
        "- If your data is similar, and the main difference is an attribute which describes the text content of the element, you can create one type and restrict the values the attribute can receive\n",
        "- If your content is not similar you have to create two types (and it would also make sense for them to have different names or to at least occur in another context). \n",
        "\n",
        "Zum Context siehe https://wiki.scn.sap.com/wiki/display/XI/What+is+Context+and+Context+Change.\n",
        "\n",
        "Lösungsideen gemäß https://stackoverflow.com/questions/827051/xml-schema-for-sequence-of-elements-with-same-name-but-different-attribute-value wären daher:\n",
        "- Für jedes Element einen eigenen Type definieren, ggf. in Verbindung mit \n",
        "Validierung durch xmllint, das scheint weniger streng zu sein\n",
        "- Validierung mit XML Schema 1.1, da gibt es diese Einschränkung nicht\n"
      ]
    },
    {
      "cell_type": "markdown",
      "metadata": {
        "id": "W_9W5nQnwHhN"
      },
      "source": [
        "Ich habe zum Vergleich noch mit dem OpenSource xsd-Editor (https://sourceforge.net/projects/xsdeditor/) validiert und diesen Befund bekommen: \n",
        "\n",
        "complex type '__AnonC99' violates the unique particle attribution rule in its components 'elements' and 'elements'\n",
        "\n",
        "Das bezieht sich wohl auf dieselbe Stelle, meldet aber eine andere Regelverletzung.\n",
        "\n",
        "Die XML Regel <b>Schema Component Constraint / Unique Particle Attribution</b>:\n",
        "A content model must be formed such that during ·validation· of an element information item sequence, the particle component contained directly, indirectly or ·implicitly· therein with which to attempt to ·validate· each item in the sequence in turn can be uniquely determined without examining the content or attributes of that item, and without any information about the items in the remainder of the sequence. \n",
        "\n",
        "Das heißt, dass der Parser nicht eindeutig entscheiden kann, mit welchem Knoten mit Name = \"elements\" er eine Zeile parsen soll. Für diese Unterscheidung hätten wir eigentlich das <i>Attribut</i> \"name\", aber die Regel besagt ja, die Zuordnung muss möglich sein \"without examining the attributes of that item\". Bei den Knoten mit Name = \"element\" bekommt er das aber offenbar trotzdem hin, die heißen ja auch alle gleich. Daher bin ich skeptisch, ob es tatsächlich diese Regel hier ist, die das Problem macht.  \n"
      ]
    }
  ]
}