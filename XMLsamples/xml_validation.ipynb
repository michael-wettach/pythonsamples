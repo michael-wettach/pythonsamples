{
  "nbformat": 4,
  "nbformat_minor": 0,
  "metadata": {
    "colab": {
      "name": "xml_validation.ipynb",
      "provenance": [],
      "authorship_tag": "ABX9TyMmWHORe5B9oJsGNrGlOuOz",
      "include_colab_link": true
    },
    "kernelspec": {
      "name": "python3",
      "display_name": "Python 3"
    }
  },
  "cells": [
    {
      "cell_type": "markdown",
      "metadata": {
        "id": "view-in-github",
        "colab_type": "text"
      },
      "source": [
        "<a href=\"https://colab.research.google.com/github/michael-wettach/pythonsamples/blob/main/XMLsamples/xml_validation.ipynb\" target=\"_parent\"><img src=\"https://colab.research.google.com/assets/colab-badge.svg\" alt=\"Open In Colab\"/></a>"
      ]
    },
    {
      "cell_type": "markdown",
      "metadata": {
        "id": "535je8GChw06"
      },
      "source": [
        "Jetzt wollen wir ein XML validieren."
      ]
    },
    {
      "cell_type": "code",
      "metadata": {
        "colab": {
          "base_uri": "https://localhost:8080/",
          "height": 265
        },
        "id": "xDpo0WbusytW",
        "outputId": "45f2d961-94a7-4b34-d51b-2ce9f6ec1c3c"
      },
      "source": [
        "from lxml import etree\n",
        "from io import StringIO\n",
        "\n",
        "# open and read schema file\n",
        "with open('FinS_XSD_Light_extended_19052021.xsd', 'r') as schema_file:\n",
        "    # parse the schema (assume well-formed schema, skip error checking)\n",
        "    xmlschema_doc = etree.parse(schema_file)\n",
        "    xmlschema = etree.XMLSchema(xmlschema_doc)\n",
        "    print(\"XML schema was parsed.\")\n",
        "\n",
        "# open and read xml file\n",
        "with open('dansource_FISTAPB_2_202105201559037326.000001.xml', 'r') as xml_file:\n",
        "    # parse the XML document (check for XML syntax before validation)\n",
        "    try:\n",
        "        doc = etree.parse(xml_file)\n",
        "        print('XML well formed, syntax ok.')\n",
        "\n",
        "    # check for file IO error\n",
        "    except IOError:\n",
        "        print('Invalid File')\n",
        "        raise\n",
        "\n",
        "    # check for XML syntax errors\n",
        "    except etree.XMLSyntaxError as err:\n",
        "        print('XML Syntax Error, see error_syntax.log')\n",
        "        with open('error_syntax.log', 'w') as error_log_file:\n",
        "            error_log_file.write(str(err.error_log))\n",
        "        raise\n",
        "\n",
        "    except:\n",
        "        print('Unknown error in parsing XML, exiting.')\n",
        "        raise\n",
        "\n",
        "# now that doc parsed successfully, validate against schema\n",
        "try:\n",
        "    xmlschema.assertValid(doc)\n",
        "    print('XML valid, schema validation ok.')\n",
        "\n",
        "except etree.DocumentInvalid as err:\n",
        "    print('Schema validation error, see error_schema.log')\n",
        "    with open('error_schema.log', 'w') as error_log_file:\n",
        "        error_log_file.write(str(err.error_log))\n",
        "    raise\n",
        "\n",
        "except:\n",
        "    print('Unknown error in validating XML, exiting.')\n",
        "    raise\n"
      ],
      "execution_count": 7,
      "outputs": [
        {
          "output_type": "error",
          "ename": "XMLSchemaParseError",
          "evalue": "ignored",
          "traceback": [
            "\u001b[0;31m---------------------------------------------------------------------------\u001b[0m",
            "\u001b[0;31mXMLSchemaParseError\u001b[0m                       Traceback (most recent call last)",
            "\u001b[0;32m<ipython-input-7-8fb1be1fcc18>\u001b[0m in \u001b[0;36m<module>\u001b[0;34m()\u001b[0m\n\u001b[1;32m      6\u001b[0m     \u001b[0;31m# parse the schema (assume well-formed schema, skip error checking)\u001b[0m\u001b[0;34m\u001b[0m\u001b[0;34m\u001b[0m\u001b[0;34m\u001b[0m\u001b[0m\n\u001b[1;32m      7\u001b[0m     \u001b[0mxmlschema_doc\u001b[0m \u001b[0;34m=\u001b[0m \u001b[0metree\u001b[0m\u001b[0;34m.\u001b[0m\u001b[0mparse\u001b[0m\u001b[0;34m(\u001b[0m\u001b[0mschema_file\u001b[0m\u001b[0;34m)\u001b[0m\u001b[0;34m\u001b[0m\u001b[0;34m\u001b[0m\u001b[0m\n\u001b[0;32m----> 8\u001b[0;31m     \u001b[0mxmlschema\u001b[0m \u001b[0;34m=\u001b[0m \u001b[0metree\u001b[0m\u001b[0;34m.\u001b[0m\u001b[0mXMLSchema\u001b[0m\u001b[0;34m(\u001b[0m\u001b[0mxmlschema_doc\u001b[0m\u001b[0;34m)\u001b[0m\u001b[0;34m\u001b[0m\u001b[0;34m\u001b[0m\u001b[0m\n\u001b[0m\u001b[1;32m      9\u001b[0m     \u001b[0mprint\u001b[0m\u001b[0;34m(\u001b[0m\u001b[0;34m\"XML schema was parsed.\"\u001b[0m\u001b[0;34m)\u001b[0m\u001b[0;34m\u001b[0m\u001b[0;34m\u001b[0m\u001b[0m\n\u001b[1;32m     10\u001b[0m \u001b[0;34m\u001b[0m\u001b[0m\n",
            "\u001b[0;32msrc/lxml/xmlschema.pxi\u001b[0m in \u001b[0;36mlxml.etree.XMLSchema.__init__\u001b[0;34m()\u001b[0m\n",
            "\u001b[0;31mXMLSchemaParseError\u001b[0m: local complex type: The content model is not determinist., line 74"
          ]
        }
      ]
    },
    {
      "cell_type": "code",
      "metadata": {
        "colab": {
          "base_uri": "https://localhost:8080/"
        },
        "id": "K-PkE-Tz4TbS",
        "outputId": "9b22e8df-1502-4945-b7a2-104fe210cbd1"
      },
      "source": [
        "# Neuer Versuch mit easyxsd\n",
        "!pip install https://github.com/gnrfan/python-easyxsd/zipball/master"
      ],
      "execution_count": 8,
      "outputs": [
        {
          "output_type": "stream",
          "text": [
            "Collecting https://github.com/gnrfan/python-easyxsd/zipball/master\n",
            "  Using cached https://github.com/gnrfan/python-easyxsd/zipball/master\n",
            "Requirement already satisfied (use --upgrade to upgrade): easyxsd==0.1 from https://github.com/gnrfan/python-easyxsd/zipball/master in /usr/local/lib/python3.7/dist-packages\n",
            "Requirement already satisfied: lxml>=3.3.5 in /usr/local/lib/python3.7/dist-packages (from easyxsd==0.1) (4.2.6)\n",
            "Building wheels for collected packages: easyxsd\n",
            "  Building wheel for easyxsd (setup.py) ... \u001b[?25l\u001b[?25hdone\n",
            "  Created wheel for easyxsd: filename=easyxsd-0.1-cp37-none-any.whl size=4583 sha256=31a59267884e85afbc226b8674fc2312523a2c2c8b9b491d2c8ee2d28685751c\n",
            "  Stored in directory: /tmp/pip-ephem-wheel-cache-zf5p_he0/wheels/81/c9/b8/475f289cd991a37b25f01593b8027463abf7459ca7e10132a0\n",
            "Successfully built easyxsd\n"
          ],
          "name": "stdout"
        }
      ]
    },
    {
      "cell_type": "code",
      "metadata": {
        "colab": {
          "base_uri": "https://localhost:8080/",
          "height": 384
        },
        "id": "tuEsbsdV4ccL",
        "outputId": "237933ec-5053-4f45-e266-e43db44ac5b4"
      },
      "source": [
        "from easyxsd import *\n",
        "# Load XML Schema (.xsd file)\n",
        "xsd = xsd_from_file(\"FinS_XSD_Light_extended_19052021.xsd\")\n",
        "\n",
        "# Load XML File\n",
        "xml = xml_from_file(\"dansource_FISTAPB_2_202105201559037326.000001.xml\")\n",
        "\n",
        "# Validate\n",
        "list_errors = validate_with_errors(xml, xsd)\n",
        "print(*list_errors)"
      ],
      "execution_count": 12,
      "outputs": [
        {
          "output_type": "error",
          "ename": "XMLSchemaParseError",
          "evalue": "ignored",
          "traceback": [
            "\u001b[0;31m---------------------------------------------------------------------------\u001b[0m",
            "\u001b[0;31mXMLSchemaParseError\u001b[0m                       Traceback (most recent call last)",
            "\u001b[0;32m<ipython-input-12-2434ca8768f6>\u001b[0m in \u001b[0;36m<module>\u001b[0;34m()\u001b[0m\n\u001b[1;32m      1\u001b[0m \u001b[0;32mfrom\u001b[0m \u001b[0measyxsd\u001b[0m \u001b[0;32mimport\u001b[0m \u001b[0;34m*\u001b[0m\u001b[0;34m\u001b[0m\u001b[0;34m\u001b[0m\u001b[0m\n\u001b[1;32m      2\u001b[0m \u001b[0;31m# Load XML Schema (.xsd file)\u001b[0m\u001b[0;34m\u001b[0m\u001b[0;34m\u001b[0m\u001b[0;34m\u001b[0m\u001b[0m\n\u001b[0;32m----> 3\u001b[0;31m \u001b[0mxsd\u001b[0m \u001b[0;34m=\u001b[0m \u001b[0mxsd_from_file\u001b[0m\u001b[0;34m(\u001b[0m\u001b[0;34m\"FinS_XSD_Light_extended_19052021.xsd\"\u001b[0m\u001b[0;34m)\u001b[0m\u001b[0;34m\u001b[0m\u001b[0;34m\u001b[0m\u001b[0m\n\u001b[0m\u001b[1;32m      4\u001b[0m \u001b[0;34m\u001b[0m\u001b[0m\n\u001b[1;32m      5\u001b[0m \u001b[0;31m# Load XML File\u001b[0m\u001b[0;34m\u001b[0m\u001b[0;34m\u001b[0m\u001b[0;34m\u001b[0m\u001b[0m\n",
            "\u001b[0;32m/usr/local/lib/python3.7/dist-packages/easyxsd/utils.py\u001b[0m in \u001b[0;36mxsd_from_file\u001b[0;34m(filepath)\u001b[0m\n\u001b[1;32m     42\u001b[0m     \u001b[0;32mtry\u001b[0m\u001b[0;34m:\u001b[0m\u001b[0;34m\u001b[0m\u001b[0;34m\u001b[0m\u001b[0m\n\u001b[1;32m     43\u001b[0m         \u001b[0mxml\u001b[0m \u001b[0;34m=\u001b[0m \u001b[0metree\u001b[0m\u001b[0;34m.\u001b[0m\u001b[0mparse\u001b[0m\u001b[0;34m(\u001b[0m\u001b[0mfilepath\u001b[0m\u001b[0;34m)\u001b[0m\u001b[0;34m\u001b[0m\u001b[0;34m\u001b[0m\u001b[0m\n\u001b[0;32m---> 44\u001b[0;31m         \u001b[0;32mreturn\u001b[0m \u001b[0metree\u001b[0m\u001b[0;34m.\u001b[0m\u001b[0mXMLSchema\u001b[0m\u001b[0;34m(\u001b[0m\u001b[0mxml\u001b[0m\u001b[0;34m)\u001b[0m\u001b[0;34m\u001b[0m\u001b[0;34m\u001b[0m\u001b[0m\n\u001b[0m\u001b[1;32m     45\u001b[0m     \u001b[0;32mexcept\u001b[0m \u001b[0metree\u001b[0m\u001b[0;34m.\u001b[0m\u001b[0mXMLSyntaxError\u001b[0m\u001b[0;34m:\u001b[0m\u001b[0;34m\u001b[0m\u001b[0;34m\u001b[0m\u001b[0m\n\u001b[1;32m     46\u001b[0m         \u001b[0;32mreturn\u001b[0m \u001b[0;32mNone\u001b[0m\u001b[0;34m\u001b[0m\u001b[0;34m\u001b[0m\u001b[0m\n",
            "\u001b[0;32msrc/lxml/xmlschema.pxi\u001b[0m in \u001b[0;36mlxml.etree.XMLSchema.__init__\u001b[0;34m()\u001b[0m\n",
            "\u001b[0;31mXMLSchemaParseError\u001b[0m: local complex type: The content model is not determinist., line 74"
          ]
        }
      ]
    },
    {
      "cell_type": "code",
      "metadata": {
        "id": "0WT5hPaf5wk7",
        "outputId": "28ff81e8-7e70-4316-e40f-501236c117eb",
        "colab": {
          "base_uri": "https://localhost:8080/"
        }
      },
      "source": [
        "# Neuer Versuch mit xmlschema\n",
        "!pip install xmlschema"
      ],
      "execution_count": 10,
      "outputs": [
        {
          "output_type": "stream",
          "text": [
            "Requirement already satisfied: xmlschema in /usr/local/lib/python3.7/dist-packages (1.6.2)\n",
            "Requirement already satisfied: elementpath<3.0.0,>=2.2.2 in /usr/local/lib/python3.7/dist-packages (from xmlschema) (2.2.2)\n"
          ],
          "name": "stdout"
        }
      ]
    },
    {
      "cell_type": "code",
      "metadata": {
        "id": "BLh33jLd6VNv",
        "outputId": "f93eb148-ff48-4b85-e56e-5faea7bab54b",
        "colab": {
          "base_uri": "https://localhost:8080/",
          "height": 867
        }
      },
      "source": [
        "import xmlschema\n",
        "my_schema = xmlschema.XMLSchema('FinS_XSD_Light_extended_19052021.xsd')\n",
        "my_schema.validate('dansource_FISTAPB_2_202105201559037326.000001.xml')"
      ],
      "execution_count": 11,
      "outputs": [
        {
          "output_type": "error",
          "ename": "XMLSchemaModelError",
          "evalue": "ignored",
          "traceback": [
            "\u001b[0;31m---------------------------------------------------------------------------\u001b[0m",
            "\u001b[0;31mXMLSchemaModelError\u001b[0m                       Traceback (most recent call last)",
            "\u001b[0;32m<ipython-input-11-785e2a184891>\u001b[0m in \u001b[0;36m<module>\u001b[0;34m()\u001b[0m\n\u001b[1;32m      1\u001b[0m \u001b[0;32mimport\u001b[0m \u001b[0mxmlschema\u001b[0m\u001b[0;34m\u001b[0m\u001b[0;34m\u001b[0m\u001b[0m\n\u001b[0;32m----> 2\u001b[0;31m \u001b[0mmy_schema\u001b[0m \u001b[0;34m=\u001b[0m \u001b[0mxmlschema\u001b[0m\u001b[0;34m.\u001b[0m\u001b[0mXMLSchema\u001b[0m\u001b[0;34m(\u001b[0m\u001b[0;34m'FinS_XSD_Light_extended_19052021.xsd'\u001b[0m\u001b[0;34m)\u001b[0m\u001b[0;34m\u001b[0m\u001b[0;34m\u001b[0m\u001b[0m\n\u001b[0m\u001b[1;32m      3\u001b[0m \u001b[0mmy_schema\u001b[0m\u001b[0;34m.\u001b[0m\u001b[0mvalidate\u001b[0m\u001b[0;34m(\u001b[0m\u001b[0;34m'dansource_FISTAPB_2_202105201559037326.000001.xml'\u001b[0m\u001b[0;34m)\u001b[0m\u001b[0;34m\u001b[0m\u001b[0;34m\u001b[0m\u001b[0m\n",
            "\u001b[0;32m/usr/local/lib/python3.7/dist-packages/xmlschema/validators/schema.py\u001b[0m in \u001b[0;36m__init__\u001b[0;34m(self, source, namespace, validation, global_maps, converter, locations, base_url, allow, defuse, timeout, build, use_meta, use_fallback, loglevel)\u001b[0m\n\u001b[1;32m    473\u001b[0m         \u001b[0;32mtry\u001b[0m\u001b[0;34m:\u001b[0m\u001b[0;34m\u001b[0m\u001b[0;34m\u001b[0m\u001b[0m\n\u001b[1;32m    474\u001b[0m             \u001b[0;32mif\u001b[0m \u001b[0mbuild\u001b[0m\u001b[0;34m:\u001b[0m\u001b[0;34m\u001b[0m\u001b[0;34m\u001b[0m\u001b[0m\n\u001b[0;32m--> 475\u001b[0;31m                 \u001b[0mself\u001b[0m\u001b[0;34m.\u001b[0m\u001b[0mmaps\u001b[0m\u001b[0;34m.\u001b[0m\u001b[0mbuild\u001b[0m\u001b[0;34m(\u001b[0m\u001b[0;34m)\u001b[0m\u001b[0;34m\u001b[0m\u001b[0;34m\u001b[0m\u001b[0m\n\u001b[0m\u001b[1;32m    476\u001b[0m         \u001b[0;32mfinally\u001b[0m\u001b[0;34m:\u001b[0m\u001b[0;34m\u001b[0m\u001b[0;34m\u001b[0m\u001b[0m\n\u001b[1;32m    477\u001b[0m             \u001b[0;32mif\u001b[0m \u001b[0mloglevel\u001b[0m \u001b[0;32mis\u001b[0m \u001b[0;32mnot\u001b[0m \u001b[0;32mNone\u001b[0m\u001b[0;34m:\u001b[0m\u001b[0;34m\u001b[0m\u001b[0;34m\u001b[0m\u001b[0m\n",
            "\u001b[0;32m/usr/local/lib/python3.7/dist-packages/xmlschema/validators/global_maps.py\u001b[0m in \u001b[0;36mbuild\u001b[0;34m(self)\u001b[0m\n\u001b[1;32m    603\u001b[0m                 \u001b[0mobj\u001b[0m\u001b[0;34m.\u001b[0m\u001b[0mbuild\u001b[0m\u001b[0;34m(\u001b[0m\u001b[0;34m)\u001b[0m\u001b[0;34m\u001b[0m\u001b[0;34m\u001b[0m\u001b[0m\n\u001b[1;32m    604\u001b[0m \u001b[0;34m\u001b[0m\u001b[0m\n\u001b[0;32m--> 605\u001b[0;31m         \u001b[0mself\u001b[0m\u001b[0;34m.\u001b[0m\u001b[0mcheck\u001b[0m\u001b[0;34m(\u001b[0m\u001b[0mfilter\u001b[0m\u001b[0;34m(\u001b[0m\u001b[0;32mlambda\u001b[0m \u001b[0mx\u001b[0m\u001b[0;34m:\u001b[0m \u001b[0mx\u001b[0m\u001b[0;34m.\u001b[0m\u001b[0mmeta_schema\u001b[0m \u001b[0;32mis\u001b[0m \u001b[0;32mnot\u001b[0m \u001b[0;32mNone\u001b[0m\u001b[0;34m,\u001b[0m \u001b[0mnot_built_schemas\u001b[0m\u001b[0;34m)\u001b[0m\u001b[0;34m,\u001b[0m \u001b[0mself\u001b[0m\u001b[0;34m.\u001b[0m\u001b[0mvalidation\u001b[0m\u001b[0;34m)\u001b[0m\u001b[0;34m\u001b[0m\u001b[0;34m\u001b[0m\u001b[0m\n\u001b[0m\u001b[1;32m    606\u001b[0m \u001b[0;34m\u001b[0m\u001b[0m\n\u001b[1;32m    607\u001b[0m     \u001b[0;32mdef\u001b[0m \u001b[0mcheck\u001b[0m\u001b[0;34m(\u001b[0m\u001b[0mself\u001b[0m\u001b[0;34m,\u001b[0m \u001b[0mschemas\u001b[0m\u001b[0;34m=\u001b[0m\u001b[0;32mNone\u001b[0m\u001b[0;34m,\u001b[0m \u001b[0mvalidation\u001b[0m\u001b[0;34m=\u001b[0m\u001b[0;34m'strict'\u001b[0m\u001b[0;34m)\u001b[0m\u001b[0;34m:\u001b[0m\u001b[0;34m\u001b[0m\u001b[0;34m\u001b[0m\u001b[0m\n",
            "\u001b[0;32m/usr/local/lib/python3.7/dist-packages/xmlschema/validators/global_maps.py\u001b[0m in \u001b[0;36mcheck\u001b[0;34m(self, schemas, validation)\u001b[0m\n\u001b[1;32m    663\u001b[0m \u001b[0;34m\u001b[0m\u001b[0m\n\u001b[1;32m    664\u001b[0m                 \u001b[0;32mtry\u001b[0m\u001b[0;34m:\u001b[0m\u001b[0;34m\u001b[0m\u001b[0;34m\u001b[0m\u001b[0m\n\u001b[0;32m--> 665\u001b[0;31m                     \u001b[0mxsd_type\u001b[0m\u001b[0;34m.\u001b[0m\u001b[0mcontent\u001b[0m\u001b[0;34m.\u001b[0m\u001b[0mcheck_model\u001b[0m\u001b[0;34m(\u001b[0m\u001b[0;34m)\u001b[0m\u001b[0;34m\u001b[0m\u001b[0;34m\u001b[0m\u001b[0m\n\u001b[0m\u001b[1;32m    666\u001b[0m                 \u001b[0;32mexcept\u001b[0m \u001b[0mXMLSchemaModelDepthError\u001b[0m\u001b[0;34m:\u001b[0m\u001b[0;34m\u001b[0m\u001b[0;34m\u001b[0m\u001b[0m\n\u001b[1;32m    667\u001b[0m                     \u001b[0mmsg\u001b[0m \u001b[0;34m=\u001b[0m \u001b[0;34m\"cannot verify the content model of {!r} \"\u001b[0m\u001b[0;31m \u001b[0m\u001b[0;31m\\\u001b[0m\u001b[0;34m\u001b[0m\u001b[0;34m\u001b[0m\u001b[0m\n",
            "\u001b[0;32m/usr/local/lib/python3.7/dist-packages/xmlschema/validators/groups.py\u001b[0m in \u001b[0;36mcheck_model\u001b[0;34m(self)\u001b[0m\n\u001b[1;32m    516\u001b[0m                     \u001b[0mmsg\u001b[0m \u001b[0;34m=\u001b[0m \u001b[0;34m\"Element Declarations Consistent violation between %r and %r: \"\u001b[0m\u001b[0;31m \u001b[0m\u001b[0;31m\\\u001b[0m\u001b[0;34m\u001b[0m\u001b[0;34m\u001b[0m\u001b[0m\n\u001b[1;32m    517\u001b[0m                           \u001b[0;34m\"match the same name but with different types\"\u001b[0m \u001b[0;34m%\u001b[0m \u001b[0;34m(\u001b[0m\u001b[0me\u001b[0m\u001b[0;34m,\u001b[0m \u001b[0mpe\u001b[0m\u001b[0;34m)\u001b[0m\u001b[0;34m\u001b[0m\u001b[0;34m\u001b[0m\u001b[0m\n\u001b[0;32m--> 518\u001b[0;31m                     \u001b[0;32mraise\u001b[0m \u001b[0mXMLSchemaModelError\u001b[0m\u001b[0;34m(\u001b[0m\u001b[0mself\u001b[0m\u001b[0;34m,\u001b[0m \u001b[0mmsg\u001b[0m\u001b[0;34m)\u001b[0m\u001b[0;34m\u001b[0m\u001b[0;34m\u001b[0m\u001b[0m\n\u001b[0m\u001b[1;32m    519\u001b[0m \u001b[0;34m\u001b[0m\u001b[0m\n\u001b[1;32m    520\u001b[0m                 \u001b[0;31m# UPA check\u001b[0m\u001b[0;34m\u001b[0m\u001b[0;34m\u001b[0m\u001b[0;34m\u001b[0m\u001b[0m\n",
            "\u001b[0;31mXMLSchemaModelError\u001b[0m: Element Declarations Consistent violation between XsdElement(name='elements', occurs=[0, None]) and XsdElement(name='elements', occurs=[1, 1]): match the same name but with different types:\n\nSchema:\n\n  <xs:sequence xmlns:xs=\"http://www.w3.org/2001/XMLSchema\">\n      <xs:element maxOccurs=\"1\" minOccurs=\"1\" name=\"elements\">\n          <xs:complexType>\n              <xs:sequence>\n                  <xs:element name=\"element\">\n                      <xs:complexType>\n                          <xs:simpleContent>\n                              <xs:extension base=\"Fins_Nr\">\n                                  <xs:attribute name=\"name\">\n                                      <xs:simpleType>\n                                          <xs:restriction base=\"xs:string\">\n                                              <xs:pattern value=\"Kontoauszugnr_Fins\" />\n                                          </xs:restriction>\n                                      </xs:simpleType>\n                                  </xs:attribute>\n                              </xs:extension>\n                          </xs:simpleContent>\n                      </xs:complexType>\n                  </xs:element>\n                  <xs:element name=\"element\">\n      ...\n      ...\n  </xs:sequence>\n\nPath: /xs:schema/xs:element[4]/xs:complexType/xs:sequence\n\nSchema URL: file:///content/FinS_XSD_Light_extended_19052021.xsd\n"
          ]
        }
      ]
    }
  ]
}