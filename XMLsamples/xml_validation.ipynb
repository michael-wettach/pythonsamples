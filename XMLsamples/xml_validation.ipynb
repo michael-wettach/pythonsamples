{
  "nbformat": 4,
  "nbformat_minor": 0,
  "metadata": {
    "colab": {
      "name": "xml_validation.ipynb",
      "provenance": [],
      "authorship_tag": "ABX9TyNwB5FW6T6zaaKaMGb8cSft",
      "include_colab_link": true
    },
    "kernelspec": {
      "name": "python3",
      "display_name": "Python 3"
    }
  },
  "cells": [
    {
      "cell_type": "markdown",
      "metadata": {
        "id": "view-in-github",
        "colab_type": "text"
      },
      "source": [
        "<a href=\"https://colab.research.google.com/github/michael-wettach/pythonsamples/blob/main/XMLsamples/xml_validation.ipynb\" target=\"_parent\"><img src=\"https://colab.research.google.com/assets/colab-badge.svg\" alt=\"Open In Colab\"/></a>"
      ]
    },
    {
      "cell_type": "markdown",
      "metadata": {
        "id": "535je8GChw06"
      },
      "source": [
        "Jetzt wollen wir ein XML validieren."
      ]
    },
    {
      "cell_type": "code",
      "metadata": {
        "colab": {
          "base_uri": "https://localhost:8080/",
          "height": 265
        },
        "id": "xDpo0WbusytW",
        "outputId": "42a336db-f751-4998-a163-f950b4567dfc"
      },
      "source": [
        "from lxml import etree\n",
        "from io import StringIO\n",
        "\n",
        "# open and read schema file\n",
        "with open('FinS_XSD_Light_extended_19052021.xsd', 'r') as schema_file:\n",
        "    # parse the schema (assume well-formed schema, skip error checking)\n",
        "    xmlschema_doc = etree.parse(schema_file)\n",
        "    xmlschema = etree.XMLSchema(xmlschema_doc)\n",
        "    print(\"XML schema was parsed.\")\n",
        "\n",
        "# open and read xml file\n",
        "with open('dansource_FISTAPB_2_202105201559037326.000001.xml', 'r') as xml_file:\n",
        "    # parse the XML document (check for XML syntax before validation)\n",
        "    try:\n",
        "        doc = etree.parse(xml_file)\n",
        "        print('XML well formed, syntax ok.')\n",
        "\n",
        "    # check for file IO error\n",
        "    except IOError:\n",
        "        print('Invalid File')\n",
        "        raise\n",
        "\n",
        "    # check for XML syntax errors\n",
        "    except etree.XMLSyntaxError as err:\n",
        "        print('XML Syntax Error, see error_syntax.log')\n",
        "        with open('error_syntax.log', 'w') as error_log_file:\n",
        "            error_log_file.write(str(err.error_log))\n",
        "        raise\n",
        "\n",
        "    except:\n",
        "        print('Unknown error in parsing XML, exiting.')\n",
        "        raise\n",
        "\n",
        "# now that doc parsed successfully, validate against schema\n",
        "try:\n",
        "    xmlschema.assertValid(doc)\n",
        "    print('XML valid, schema validation ok.')\n",
        "\n",
        "except etree.DocumentInvalid as err:\n",
        "    print('Schema validation error, see error_schema.log')\n",
        "    with open('error_schema.log', 'w') as error_log_file:\n",
        "        error_log_file.write(str(err.error_log))\n",
        "    raise\n",
        "\n",
        "except:\n",
        "    print('Unknown error in validating XML, exiting.')\n",
        "    raise\n"
      ],
      "execution_count": 3,
      "outputs": [
        {
          "output_type": "error",
          "ename": "XMLSchemaParseError",
          "evalue": "ignored",
          "traceback": [
            "\u001b[0;31m---------------------------------------------------------------------------\u001b[0m",
            "\u001b[0;31mXMLSchemaParseError\u001b[0m                       Traceback (most recent call last)",
            "\u001b[0;32m<ipython-input-3-8fb1be1fcc18>\u001b[0m in \u001b[0;36m<module>\u001b[0;34m()\u001b[0m\n\u001b[1;32m      6\u001b[0m     \u001b[0;31m# parse the schema (assume well-formed schema, skip error checking)\u001b[0m\u001b[0;34m\u001b[0m\u001b[0;34m\u001b[0m\u001b[0;34m\u001b[0m\u001b[0m\n\u001b[1;32m      7\u001b[0m     \u001b[0mxmlschema_doc\u001b[0m \u001b[0;34m=\u001b[0m \u001b[0metree\u001b[0m\u001b[0;34m.\u001b[0m\u001b[0mparse\u001b[0m\u001b[0;34m(\u001b[0m\u001b[0mschema_file\u001b[0m\u001b[0;34m)\u001b[0m\u001b[0;34m\u001b[0m\u001b[0;34m\u001b[0m\u001b[0m\n\u001b[0;32m----> 8\u001b[0;31m     \u001b[0mxmlschema\u001b[0m \u001b[0;34m=\u001b[0m \u001b[0metree\u001b[0m\u001b[0;34m.\u001b[0m\u001b[0mXMLSchema\u001b[0m\u001b[0;34m(\u001b[0m\u001b[0mxmlschema_doc\u001b[0m\u001b[0;34m)\u001b[0m\u001b[0;34m\u001b[0m\u001b[0;34m\u001b[0m\u001b[0m\n\u001b[0m\u001b[1;32m      9\u001b[0m     \u001b[0mprint\u001b[0m\u001b[0;34m(\u001b[0m\u001b[0;34m\"XML schema was parsed.\"\u001b[0m\u001b[0;34m)\u001b[0m\u001b[0;34m\u001b[0m\u001b[0;34m\u001b[0m\u001b[0m\n\u001b[1;32m     10\u001b[0m \u001b[0;34m\u001b[0m\u001b[0m\n",
            "\u001b[0;32msrc/lxml/xmlschema.pxi\u001b[0m in \u001b[0;36mlxml.etree.XMLSchema.__init__\u001b[0;34m()\u001b[0m\n",
            "\u001b[0;31mXMLSchemaParseError\u001b[0m: local complex type: The content model is not determinist., line 74"
          ]
        }
      ]
    },
    {
      "cell_type": "code",
      "metadata": {
        "colab": {
          "base_uri": "https://localhost:8080/"
        },
        "id": "K-PkE-Tz4TbS",
        "outputId": "9b22e8df-1502-4945-b7a2-104fe210cbd1"
      },
      "source": [
        "# Neuer Versuch mit easyxsd\n",
        "!pip install https://github.com/gnrfan/python-easyxsd/zipball/master"
      ],
      "execution_count": 8,
      "outputs": [
        {
          "output_type": "stream",
          "text": [
            "Collecting https://github.com/gnrfan/python-easyxsd/zipball/master\n",
            "  Using cached https://github.com/gnrfan/python-easyxsd/zipball/master\n",
            "Requirement already satisfied (use --upgrade to upgrade): easyxsd==0.1 from https://github.com/gnrfan/python-easyxsd/zipball/master in /usr/local/lib/python3.7/dist-packages\n",
            "Requirement already satisfied: lxml>=3.3.5 in /usr/local/lib/python3.7/dist-packages (from easyxsd==0.1) (4.2.6)\n",
            "Building wheels for collected packages: easyxsd\n",
            "  Building wheel for easyxsd (setup.py) ... \u001b[?25l\u001b[?25hdone\n",
            "  Created wheel for easyxsd: filename=easyxsd-0.1-cp37-none-any.whl size=4583 sha256=31a59267884e85afbc226b8674fc2312523a2c2c8b9b491d2c8ee2d28685751c\n",
            "  Stored in directory: /tmp/pip-ephem-wheel-cache-zf5p_he0/wheels/81/c9/b8/475f289cd991a37b25f01593b8027463abf7459ca7e10132a0\n",
            "Successfully built easyxsd\n"
          ],
          "name": "stdout"
        }
      ]
    },
    {
      "cell_type": "code",
      "metadata": {
        "colab": {
          "base_uri": "https://localhost:8080/",
          "height": 384
        },
        "id": "tuEsbsdV4ccL",
        "outputId": "237933ec-5053-4f45-e266-e43db44ac5b4"
      },
      "source": [
        "from easyxsd import *\n",
        "# Load XML Schema (.xsd file)\n",
        "xsd = xsd_from_file(\"FinS_XSD_Light_extended_19052021.xsd\")\n",
        "\n",
        "# Load XML File\n",
        "xml = xml_from_file(\"dansource_FISTAPB_2_202105201559037326.000001.xml\")\n",
        "\n",
        "# Validate\n",
        "list_errors = validate_with_errors(xml, xsd)\n",
        "print(*list_errors)"
      ],
      "execution_count": 12,
      "outputs": [
        {
          "output_type": "error",
          "ename": "XMLSchemaParseError",
          "evalue": "ignored",
          "traceback": [
            "\u001b[0;31m---------------------------------------------------------------------------\u001b[0m",
            "\u001b[0;31mXMLSchemaParseError\u001b[0m                       Traceback (most recent call last)",
            "\u001b[0;32m<ipython-input-12-2434ca8768f6>\u001b[0m in \u001b[0;36m<module>\u001b[0;34m()\u001b[0m\n\u001b[1;32m      1\u001b[0m \u001b[0;32mfrom\u001b[0m \u001b[0measyxsd\u001b[0m \u001b[0;32mimport\u001b[0m \u001b[0;34m*\u001b[0m\u001b[0;34m\u001b[0m\u001b[0;34m\u001b[0m\u001b[0m\n\u001b[1;32m      2\u001b[0m \u001b[0;31m# Load XML Schema (.xsd file)\u001b[0m\u001b[0;34m\u001b[0m\u001b[0;34m\u001b[0m\u001b[0;34m\u001b[0m\u001b[0m\n\u001b[0;32m----> 3\u001b[0;31m \u001b[0mxsd\u001b[0m \u001b[0;34m=\u001b[0m \u001b[0mxsd_from_file\u001b[0m\u001b[0;34m(\u001b[0m\u001b[0;34m\"FinS_XSD_Light_extended_19052021.xsd\"\u001b[0m\u001b[0;34m)\u001b[0m\u001b[0;34m\u001b[0m\u001b[0;34m\u001b[0m\u001b[0m\n\u001b[0m\u001b[1;32m      4\u001b[0m \u001b[0;34m\u001b[0m\u001b[0m\n\u001b[1;32m      5\u001b[0m \u001b[0;31m# Load XML File\u001b[0m\u001b[0;34m\u001b[0m\u001b[0;34m\u001b[0m\u001b[0;34m\u001b[0m\u001b[0m\n",
            "\u001b[0;32m/usr/local/lib/python3.7/dist-packages/easyxsd/utils.py\u001b[0m in \u001b[0;36mxsd_from_file\u001b[0;34m(filepath)\u001b[0m\n\u001b[1;32m     42\u001b[0m     \u001b[0;32mtry\u001b[0m\u001b[0;34m:\u001b[0m\u001b[0;34m\u001b[0m\u001b[0;34m\u001b[0m\u001b[0m\n\u001b[1;32m     43\u001b[0m         \u001b[0mxml\u001b[0m \u001b[0;34m=\u001b[0m \u001b[0metree\u001b[0m\u001b[0;34m.\u001b[0m\u001b[0mparse\u001b[0m\u001b[0;34m(\u001b[0m\u001b[0mfilepath\u001b[0m\u001b[0;34m)\u001b[0m\u001b[0;34m\u001b[0m\u001b[0;34m\u001b[0m\u001b[0m\n\u001b[0;32m---> 44\u001b[0;31m         \u001b[0;32mreturn\u001b[0m \u001b[0metree\u001b[0m\u001b[0;34m.\u001b[0m\u001b[0mXMLSchema\u001b[0m\u001b[0;34m(\u001b[0m\u001b[0mxml\u001b[0m\u001b[0;34m)\u001b[0m\u001b[0;34m\u001b[0m\u001b[0;34m\u001b[0m\u001b[0m\n\u001b[0m\u001b[1;32m     45\u001b[0m     \u001b[0;32mexcept\u001b[0m \u001b[0metree\u001b[0m\u001b[0;34m.\u001b[0m\u001b[0mXMLSyntaxError\u001b[0m\u001b[0;34m:\u001b[0m\u001b[0;34m\u001b[0m\u001b[0;34m\u001b[0m\u001b[0m\n\u001b[1;32m     46\u001b[0m         \u001b[0;32mreturn\u001b[0m \u001b[0;32mNone\u001b[0m\u001b[0;34m\u001b[0m\u001b[0;34m\u001b[0m\u001b[0m\n",
            "\u001b[0;32msrc/lxml/xmlschema.pxi\u001b[0m in \u001b[0;36mlxml.etree.XMLSchema.__init__\u001b[0;34m()\u001b[0m\n",
            "\u001b[0;31mXMLSchemaParseError\u001b[0m: local complex type: The content model is not determinist., line 74"
          ]
        }
      ]
    },
    {
      "cell_type": "code",
      "metadata": {
        "colab": {
          "base_uri": "https://localhost:8080/"
        },
        "id": "0WT5hPaf5wk7",
        "outputId": "3be5c2bd-fce9-453b-f179-09c6c59f7fe2"
      },
      "source": [
        "# Neuer Versuch mit xmlschema\n",
        "!pip install xmlschema"
      ],
      "execution_count": 1,
      "outputs": [
        {
          "output_type": "stream",
          "text": [
            "Collecting xmlschema\n",
            "\u001b[?25l  Downloading https://files.pythonhosted.org/packages/ae/4a/a90e6fb3c18f8442cfd32371ef7302c29df9655a90884eb6eae7b37e33ee/xmlschema-1.6.2-py3-none-any.whl (254kB)\n",
            "\u001b[K     |████████████████████████████████| 256kB 4.0MB/s \n",
            "\u001b[?25hCollecting elementpath<3.0.0,>=2.2.2\n",
            "\u001b[?25l  Downloading https://files.pythonhosted.org/packages/da/a8/d2229ca03552e349c725f8b3c5664af9e022e41425431441df14fe8aa87e/elementpath-2.2.2-py3-none-any.whl (149kB)\n",
            "\u001b[K     |████████████████████████████████| 153kB 20.1MB/s \n",
            "\u001b[?25hInstalling collected packages: elementpath, xmlschema\n",
            "Successfully installed elementpath-2.2.2 xmlschema-1.6.2\n"
          ],
          "name": "stdout"
        }
      ]
    },
    {
      "cell_type": "code",
      "metadata": {
        "colab": {
          "base_uri": "https://localhost:8080/",
          "height": 867
        },
        "id": "BLh33jLd6VNv",
        "outputId": "24958a3f-a2b7-4d0f-efa1-65d729f507fc"
      },
      "source": [
        "import xmlschema\n",
        "my_schema = xmlschema.XMLSchema('FinS_XSD_Light_extended_19052021.xsd')\n",
        "my_schema.validate('dansource_FISTAPB_2_202105201559037326.000001.xml')"
      ],
      "execution_count": 2,
      "outputs": [
        {
          "output_type": "error",
          "ename": "XMLSchemaModelError",
          "evalue": "ignored",
          "traceback": [
            "\u001b[0;31m---------------------------------------------------------------------------\u001b[0m",
            "\u001b[0;31mXMLSchemaModelError\u001b[0m                       Traceback (most recent call last)",
            "\u001b[0;32m<ipython-input-2-785e2a184891>\u001b[0m in \u001b[0;36m<module>\u001b[0;34m()\u001b[0m\n\u001b[1;32m      1\u001b[0m \u001b[0;32mimport\u001b[0m \u001b[0mxmlschema\u001b[0m\u001b[0;34m\u001b[0m\u001b[0;34m\u001b[0m\u001b[0m\n\u001b[0;32m----> 2\u001b[0;31m \u001b[0mmy_schema\u001b[0m \u001b[0;34m=\u001b[0m \u001b[0mxmlschema\u001b[0m\u001b[0;34m.\u001b[0m\u001b[0mXMLSchema\u001b[0m\u001b[0;34m(\u001b[0m\u001b[0;34m'FinS_XSD_Light_extended_19052021.xsd'\u001b[0m\u001b[0;34m)\u001b[0m\u001b[0;34m\u001b[0m\u001b[0;34m\u001b[0m\u001b[0m\n\u001b[0m\u001b[1;32m      3\u001b[0m \u001b[0mmy_schema\u001b[0m\u001b[0;34m.\u001b[0m\u001b[0mvalidate\u001b[0m\u001b[0;34m(\u001b[0m\u001b[0;34m'dansource_FISTAPB_2_202105201559037326.000001.xml'\u001b[0m\u001b[0;34m)\u001b[0m\u001b[0;34m\u001b[0m\u001b[0;34m\u001b[0m\u001b[0m\n",
            "\u001b[0;32m/usr/local/lib/python3.7/dist-packages/xmlschema/validators/schema.py\u001b[0m in \u001b[0;36m__init__\u001b[0;34m(self, source, namespace, validation, global_maps, converter, locations, base_url, allow, defuse, timeout, build, use_meta, use_fallback, loglevel)\u001b[0m\n\u001b[1;32m    473\u001b[0m         \u001b[0;32mtry\u001b[0m\u001b[0;34m:\u001b[0m\u001b[0;34m\u001b[0m\u001b[0;34m\u001b[0m\u001b[0m\n\u001b[1;32m    474\u001b[0m             \u001b[0;32mif\u001b[0m \u001b[0mbuild\u001b[0m\u001b[0;34m:\u001b[0m\u001b[0;34m\u001b[0m\u001b[0;34m\u001b[0m\u001b[0m\n\u001b[0;32m--> 475\u001b[0;31m                 \u001b[0mself\u001b[0m\u001b[0;34m.\u001b[0m\u001b[0mmaps\u001b[0m\u001b[0;34m.\u001b[0m\u001b[0mbuild\u001b[0m\u001b[0;34m(\u001b[0m\u001b[0;34m)\u001b[0m\u001b[0;34m\u001b[0m\u001b[0;34m\u001b[0m\u001b[0m\n\u001b[0m\u001b[1;32m    476\u001b[0m         \u001b[0;32mfinally\u001b[0m\u001b[0;34m:\u001b[0m\u001b[0;34m\u001b[0m\u001b[0;34m\u001b[0m\u001b[0m\n\u001b[1;32m    477\u001b[0m             \u001b[0;32mif\u001b[0m \u001b[0mloglevel\u001b[0m \u001b[0;32mis\u001b[0m \u001b[0;32mnot\u001b[0m \u001b[0;32mNone\u001b[0m\u001b[0;34m:\u001b[0m\u001b[0;34m\u001b[0m\u001b[0;34m\u001b[0m\u001b[0m\n",
            "\u001b[0;32m/usr/local/lib/python3.7/dist-packages/xmlschema/validators/global_maps.py\u001b[0m in \u001b[0;36mbuild\u001b[0;34m(self)\u001b[0m\n\u001b[1;32m    603\u001b[0m                 \u001b[0mobj\u001b[0m\u001b[0;34m.\u001b[0m\u001b[0mbuild\u001b[0m\u001b[0;34m(\u001b[0m\u001b[0;34m)\u001b[0m\u001b[0;34m\u001b[0m\u001b[0;34m\u001b[0m\u001b[0m\n\u001b[1;32m    604\u001b[0m \u001b[0;34m\u001b[0m\u001b[0m\n\u001b[0;32m--> 605\u001b[0;31m         \u001b[0mself\u001b[0m\u001b[0;34m.\u001b[0m\u001b[0mcheck\u001b[0m\u001b[0;34m(\u001b[0m\u001b[0mfilter\u001b[0m\u001b[0;34m(\u001b[0m\u001b[0;32mlambda\u001b[0m \u001b[0mx\u001b[0m\u001b[0;34m:\u001b[0m \u001b[0mx\u001b[0m\u001b[0;34m.\u001b[0m\u001b[0mmeta_schema\u001b[0m \u001b[0;32mis\u001b[0m \u001b[0;32mnot\u001b[0m \u001b[0;32mNone\u001b[0m\u001b[0;34m,\u001b[0m \u001b[0mnot_built_schemas\u001b[0m\u001b[0;34m)\u001b[0m\u001b[0;34m,\u001b[0m \u001b[0mself\u001b[0m\u001b[0;34m.\u001b[0m\u001b[0mvalidation\u001b[0m\u001b[0;34m)\u001b[0m\u001b[0;34m\u001b[0m\u001b[0;34m\u001b[0m\u001b[0m\n\u001b[0m\u001b[1;32m    606\u001b[0m \u001b[0;34m\u001b[0m\u001b[0m\n\u001b[1;32m    607\u001b[0m     \u001b[0;32mdef\u001b[0m \u001b[0mcheck\u001b[0m\u001b[0;34m(\u001b[0m\u001b[0mself\u001b[0m\u001b[0;34m,\u001b[0m \u001b[0mschemas\u001b[0m\u001b[0;34m=\u001b[0m\u001b[0;32mNone\u001b[0m\u001b[0;34m,\u001b[0m \u001b[0mvalidation\u001b[0m\u001b[0;34m=\u001b[0m\u001b[0;34m'strict'\u001b[0m\u001b[0;34m)\u001b[0m\u001b[0;34m:\u001b[0m\u001b[0;34m\u001b[0m\u001b[0;34m\u001b[0m\u001b[0m\n",
            "\u001b[0;32m/usr/local/lib/python3.7/dist-packages/xmlschema/validators/global_maps.py\u001b[0m in \u001b[0;36mcheck\u001b[0;34m(self, schemas, validation)\u001b[0m\n\u001b[1;32m    663\u001b[0m \u001b[0;34m\u001b[0m\u001b[0m\n\u001b[1;32m    664\u001b[0m                 \u001b[0;32mtry\u001b[0m\u001b[0;34m:\u001b[0m\u001b[0;34m\u001b[0m\u001b[0;34m\u001b[0m\u001b[0m\n\u001b[0;32m--> 665\u001b[0;31m                     \u001b[0mxsd_type\u001b[0m\u001b[0;34m.\u001b[0m\u001b[0mcontent\u001b[0m\u001b[0;34m.\u001b[0m\u001b[0mcheck_model\u001b[0m\u001b[0;34m(\u001b[0m\u001b[0;34m)\u001b[0m\u001b[0;34m\u001b[0m\u001b[0;34m\u001b[0m\u001b[0m\n\u001b[0m\u001b[1;32m    666\u001b[0m                 \u001b[0;32mexcept\u001b[0m \u001b[0mXMLSchemaModelDepthError\u001b[0m\u001b[0;34m:\u001b[0m\u001b[0;34m\u001b[0m\u001b[0;34m\u001b[0m\u001b[0m\n\u001b[1;32m    667\u001b[0m                     \u001b[0mmsg\u001b[0m \u001b[0;34m=\u001b[0m \u001b[0;34m\"cannot verify the content model of {!r} \"\u001b[0m\u001b[0;31m \u001b[0m\u001b[0;31m\\\u001b[0m\u001b[0;34m\u001b[0m\u001b[0;34m\u001b[0m\u001b[0m\n",
            "\u001b[0;32m/usr/local/lib/python3.7/dist-packages/xmlschema/validators/groups.py\u001b[0m in \u001b[0;36mcheck_model\u001b[0;34m(self)\u001b[0m\n\u001b[1;32m    516\u001b[0m                     \u001b[0mmsg\u001b[0m \u001b[0;34m=\u001b[0m \u001b[0;34m\"Element Declarations Consistent violation between %r and %r: \"\u001b[0m\u001b[0;31m \u001b[0m\u001b[0;31m\\\u001b[0m\u001b[0;34m\u001b[0m\u001b[0;34m\u001b[0m\u001b[0m\n\u001b[1;32m    517\u001b[0m                           \u001b[0;34m\"match the same name but with different types\"\u001b[0m \u001b[0;34m%\u001b[0m \u001b[0;34m(\u001b[0m\u001b[0me\u001b[0m\u001b[0;34m,\u001b[0m \u001b[0mpe\u001b[0m\u001b[0;34m)\u001b[0m\u001b[0;34m\u001b[0m\u001b[0;34m\u001b[0m\u001b[0m\n\u001b[0;32m--> 518\u001b[0;31m                     \u001b[0;32mraise\u001b[0m \u001b[0mXMLSchemaModelError\u001b[0m\u001b[0;34m(\u001b[0m\u001b[0mself\u001b[0m\u001b[0;34m,\u001b[0m \u001b[0mmsg\u001b[0m\u001b[0;34m)\u001b[0m\u001b[0;34m\u001b[0m\u001b[0;34m\u001b[0m\u001b[0m\n\u001b[0m\u001b[1;32m    519\u001b[0m \u001b[0;34m\u001b[0m\u001b[0m\n\u001b[1;32m    520\u001b[0m                 \u001b[0;31m# UPA check\u001b[0m\u001b[0;34m\u001b[0m\u001b[0;34m\u001b[0m\u001b[0;34m\u001b[0m\u001b[0m\n",
            "\u001b[0;31mXMLSchemaModelError\u001b[0m: Element Declarations Consistent violation between XsdElement(name='elements', occurs=[1, None]) and XsdElement(name='elements', occurs=[1, 1]): match the same name but with different types:\n\nSchema:\n\n  <xs:sequence xmlns:xs=\"http://www.w3.org/2001/XMLSchema\">\n      <xs:element maxOccurs=\"1\" minOccurs=\"1\" name=\"elements\">\n          <xs:complexType>\n              <xs:sequence>\n                  <xs:element name=\"element\">\n                      <xs:complexType>\n                          <xs:simpleContent>\n                              <xs:extension base=\"Fins_Nr\">\n                                  <xs:attribute name=\"name\">\n                                      <xs:simpleType>\n                                          <xs:restriction base=\"xs:string\">\n                                              <xs:pattern value=\"Kontoauszugnr_Fins\" />\n                                          </xs:restriction>\n                                      </xs:simpleType>\n                                  </xs:attribute>\n                              </xs:extension>\n                          </xs:simpleContent>\n                      </xs:complexType>\n                  </xs:element>\n                  <xs:element name=\"element\">\n      ...\n      ...\n  </xs:sequence>\n\nPath: /xs:schema/xs:element[4]/xs:complexType/xs:sequence\n\nSchema URL: file:///content/FinS_XSD_Light_extended_19052021.xsd\n"
          ]
        }
      ]
    },
    {
      "cell_type": "markdown",
      "metadata": {
        "id": "QL8BrBqNpEF9"
      },
      "source": [
        "Aus der Fehlermeldung geht klar hervor: sie bezieht sich auf den vierten Knoten vom Typ Element: element[4].\n",
        "1. element name = \"docs\"\n",
        "2. element name = \"doc\" (Wiederholung)\n",
        "3. element name = \"header\"\n",
        "4. element name = \"payload\"\n",
        "\n",
        "In diesem 4. Element \"payload\" betrifft der Befund gemäß Path-Angabe im complexType die sequence. Innerhalb der Sequence gibt es drei Elemente mit Namen \"elements\", die der Parser für nicht eindeutig hält:\n",
        "- KAZInfo (habe ich auf occurs 1,1 gesetzt)\n",
        "- GiroRecord (habe ich auf occurs 1,unbounded gesetzt)\n",
        "- TagesgeldRecord (habe ich auf occurs 0,unbounded gesetzt)\n",
        "\n",
        "Die Meldung hat mit der eigentlichen XML Datei nichts zu tun, sie tritt bereits bei der Prüfung des xsd Schemas auf. Aufgrund der Occurs-Angaben ist klar, dass hier zunächst KAZInfo und GiroRecord gemeint sind.\n",
        "\n",
        "Was ist nun das Problem? Die Meldung sagt:\n",
        "\n",
        "XMLSchemaModelError: Element Declarations Consistent violation between XsdElement(name='elements', occurs=[1, None]) and XsdElement(name='elements', occurs=[1, 1]): match the same name but with different types\n",
        "\n",
        "https://www.w3.org/TR/2004/REC-xmlschema-1-20041028/structures.html#cos-element-consistent \n",
        "Die XML Regel <b>Schema Component Constraint / Element Declarations Consistent</b>:<br/>\n",
        "If the {particles} contains, either directly, indirectly (that is, within the {particles} of a contained model group, recursively) or ·implicitly· two or more element declaration particles with the same {name} and {target namespace}, then all their type definitions must be the same top-level definition, that is, all of the following must be true:\n",
        "- all their {type definition}s must have a non-·absent· {name}.\n",
        "- all their {type definition}s must have the same {name}.\n",
        "- all their {type definition}s must have the same {target namespace}.\n",
        "\n",
        "Auf Stackoverflow habe ich dazu folgende Hinweise gefunden:\n",
        "- You can't declare two elements with the same name with different types in the same context.\n",
        "- If your data is similar, and the main difference is an attribute which describes the text content of the element, you can create one type and restrict the values the attribute can receive\n",
        "- If your content is not similar you have to create two types (and it would also make sense for them to have different names or to at least occur in another context). \n",
        "\n",
        "Zum Context siehe https://wiki.scn.sap.com/wiki/display/XI/What+is+Context+and+Context+Change.\n",
        "\n",
        "Lösungsideen gemäß https://stackoverflow.com/questions/827051/xml-schema-for-sequence-of-elements-with-same-name-but-different-attribute-value wären daher:\n",
        "- Für jedes Element einen eigenen Type definieren, ggf. in Verbindung mit \n",
        "Validierung durch xmllint, das scheint weniger streng zu sein\n",
        "- Validierung mit XML Schema 1.1, da gibt es diese Einschränkung nicht\n"
      ]
    },
    {
      "cell_type": "markdown",
      "metadata": {
        "id": "W_9W5nQnwHhN"
      },
      "source": [
        "Ich habe zum Vergleich noch mit dem OpenSource xsd-Editor (https://sourceforge.net/projects/xsdeditor/) validiert und diesen Befund bekommen: \n",
        "\n",
        "complex type '__AnonC99' violates the unique particle attribution rule in its components 'elements' and 'elements'\n",
        "\n",
        "Das bezieht sich wohl auf dieselbe Stelle, meldet aber eine andere Regelverletzung.\n",
        "\n",
        "Die XML Regel <b>Schema Component Constraint / Unique Particle Attribution</b>:\n",
        "A content model must be formed such that during ·validation· of an element information item sequence, the particle component contained directly, indirectly or ·implicitly· therein with which to attempt to ·validate· each item in the sequence in turn can be uniquely determined without examining the content or attributes of that item, and without any information about the items in the remainder of the sequence. \n",
        "\n",
        "Das heißt, dass der Parser nicht eindeutig entscheiden kann, mit welchem Knoten mit Name = \"elements\" er eine Zeile parsen soll. Für diese Unterscheidung hätten wir eigentlich das <i>Attribut</i> \"name\", aber die Regel besagt ja, die Zuordnung muss möglich sein \"without examining the attributes of that item\". Bei den Knoten mit Name = \"element\" bekommt er das aber offenbar trotzdem hin, die heißen ja auch alle gleich. Daher bin ich skeptisch, ob es tatsächlich diese Regel hier ist, die das Problem macht.  \n"
      ]
    }
  ]
}