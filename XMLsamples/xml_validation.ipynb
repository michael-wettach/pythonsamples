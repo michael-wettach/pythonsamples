{
  "nbformat": 4,
  "nbformat_minor": 0,
  "metadata": {
    "colab": {
      "name": "xml_validation.ipynb",
      "provenance": [],
      "authorship_tag": "ABX9TyPiJS3l20S/LbjIdh2QR9MO",
      "include_colab_link": true
    },
    "kernelspec": {
      "name": "python3",
      "display_name": "Python 3"
    }
  },
  "cells": [
    {
      "cell_type": "markdown",
      "metadata": {
        "id": "view-in-github",
        "colab_type": "text"
      },
      "source": [
        "<a href=\"https://colab.research.google.com/github/michael-wettach/pythonsamples/blob/main/xml_validation.ipynb\" target=\"_parent\"><img src=\"https://colab.research.google.com/assets/colab-badge.svg\" alt=\"Open In Colab\"/></a>"
      ]
    },
    {
      "cell_type": "markdown",
      "metadata": {
        "id": "535je8GChw06"
      },
      "source": [
        "Jetzt wollen wir ein XML validieren."
      ]
    },
    {
      "cell_type": "code",
      "metadata": {
        "colab": {
          "base_uri": "https://localhost:8080/",
          "height": 316
        },
        "id": "xDpo0WbusytW",
        "outputId": "d80cdbc4-cbe4-4301-bdf2-355db546f759"
      },
      "source": [
        "from lxml import etree\n",
        "from io import StringIO\n",
        "\n",
        "# open and read schema file\n",
        "with open('element_sample_ext.xsd', 'r') as schema_file:\n",
        "    schema_to_check = schema_file.read()\n",
        "\n",
        "# open and read xml file\n",
        "with open('element_sample_invalid3.xml', 'r') as xml_file:\n",
        "    xml_to_check = xml_file.read()\n",
        "\n",
        "# parse the schema (assume well-formed schema, skip error checking)\n",
        "xmlschema_doc = etree.parse(StringIO(schema_to_check))\n",
        "xmlschema = etree.XMLSchema(xmlschema_doc)\n",
        "print(\"XML schema was parsed.\")\n",
        "\n",
        "# parse the XML document (check for XML syntax before validation)\n",
        "try:\n",
        "    doc = etree.parse(StringIO(xml_to_check))\n",
        "    print('XML well formed, syntax ok.')\n",
        "\n",
        "# check for file IO error\n",
        "except IOError:\n",
        "    print('Invalid File')\n",
        "    raise\n",
        "\n",
        "# check for XML syntax errors\n",
        "except etree.XMLSyntaxError as err:\n",
        "    print('XML Syntax Error, see error_syntax.log')\n",
        "    with open('error_syntax.log', 'w') as error_log_file:\n",
        "        error_log_file.write(str(err.error_log))\n",
        "    raise\n",
        "\n",
        "except:\n",
        "    print('Unknown error in parsing XML, exiting.')\n",
        "    raise\n",
        "\n",
        "# now that doc parsed successfully, validate against schema\n",
        "try:\n",
        "    xmlschema.assertValid(doc)\n",
        "    print('XML valid, schema validation ok.')\n",
        "\n",
        "except etree.DocumentInvalid as err:\n",
        "    print('Schema validation error, see error_schema.log')\n",
        "    with open('error_schema.log', 'w') as error_log_file:\n",
        "        error_log_file.write(str(err.error_log))\n",
        "    raise\n",
        "\n",
        "except:\n",
        "    print('Unknown error in validating XML, exiting.')\n",
        "    raise\n"
      ],
      "execution_count": 14,
      "outputs": [
        {
          "output_type": "stream",
          "text": [
            "XML schema was parsed.\n",
            "XML well formed, syntax ok.\n",
            "Schema validation error, see error_schema.log\n"
          ],
          "name": "stdout"
        },
        {
          "output_type": "error",
          "ename": "DocumentInvalid",
          "evalue": "ignored",
          "traceback": [
            "\u001b[0;31m---------------------------------------------------------------------------\u001b[0m",
            "\u001b[0;31mDocumentInvalid\u001b[0m                           Traceback (most recent call last)",
            "\u001b[0;32m<ipython-input-14-77e348d0779c>\u001b[0m in \u001b[0;36m<module>\u001b[0;34m()\u001b[0m\n\u001b[1;32m     38\u001b[0m \u001b[0;31m# now that doc parsed successfully, validate against schema\u001b[0m\u001b[0;34m\u001b[0m\u001b[0;34m\u001b[0m\u001b[0;34m\u001b[0m\u001b[0m\n\u001b[1;32m     39\u001b[0m \u001b[0;32mtry\u001b[0m\u001b[0;34m:\u001b[0m\u001b[0;34m\u001b[0m\u001b[0;34m\u001b[0m\u001b[0m\n\u001b[0;32m---> 40\u001b[0;31m     \u001b[0mxmlschema\u001b[0m\u001b[0;34m.\u001b[0m\u001b[0massertValid\u001b[0m\u001b[0;34m(\u001b[0m\u001b[0mdoc\u001b[0m\u001b[0;34m)\u001b[0m\u001b[0;34m\u001b[0m\u001b[0;34m\u001b[0m\u001b[0m\n\u001b[0m\u001b[1;32m     41\u001b[0m     \u001b[0mprint\u001b[0m\u001b[0;34m(\u001b[0m\u001b[0;34m'XML valid, schema validation ok.'\u001b[0m\u001b[0;34m)\u001b[0m\u001b[0;34m\u001b[0m\u001b[0;34m\u001b[0m\u001b[0m\n\u001b[1;32m     42\u001b[0m \u001b[0;34m\u001b[0m\u001b[0m\n",
            "\u001b[0;32msrc/lxml/etree.pyx\u001b[0m in \u001b[0;36mlxml.etree._Validator.assertValid\u001b[0;34m()\u001b[0m\n",
            "\u001b[0;31mDocumentInvalid\u001b[0m: Element 'element': [facet 'maxLength'] The value has a length of '5'; this exceeds the allowed maximum length of '3'., line 3"
          ]
        }
      ]
    }
  ]
}
