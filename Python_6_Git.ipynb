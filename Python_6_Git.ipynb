{
  "nbformat": 4,
  "nbformat_minor": 0,
  "metadata": {
    "colab": {
      "name": "Python_6_Git.ipynb",
      "provenance": [],
      "authorship_tag": "ABX9TyOfURi2wjgTZnVHceO5HYvJ",
      "include_colab_link": true
    },
    "kernelspec": {
      "name": "python3",
      "display_name": "Python 3"
    },
    "language_info": {
      "name": "python"
    }
  },
  "cells": [
    {
      "cell_type": "markdown",
      "metadata": {
        "id": "view-in-github",
        "colab_type": "text"
      },
      "source": [
        "<a href=\"https://colab.research.google.com/github/michael-wettach/pythonsamples/blob/main/Python_6_Git.ipynb\" target=\"_parent\"><img src=\"https://colab.research.google.com/assets/colab-badge.svg\" alt=\"Open In Colab\"/></a>"
      ]
    },
    {
      "cell_type": "markdown",
      "metadata": {
        "id": "iuBPVslO5-m_"
      },
      "source": [
        "<h1>Module zur Interaktion mit git Repositories</h1>\n",
        "\n",
        "Eine allgemeine Dokumentation zu Git gibt es kostenlos als elektronisches Buch, sogar in Deutsch, hier: https://git-scm.com/book/de/v2, übrigens auch als PDF zum Download. \n",
        "\n",
        "Eine git Einführung für Entwickler (ohne speziellen Bezug zu Python) gibt es auf der Seite https://realpython.com/python-git-github-intro/. Die haben auch eine Einführung in Continuous Integration mit Python Beispielen: https://realpython.com/python-continuous-integration/.\n",
        "\n",
        "Die Gemeinsamkeiten und Unterschiede von Github und Gitlab lassen sich auch mit Python-Beispielen erkunden. Ich stelle deshalb einige Module vor, die mit diesen Umgebungen kommunizieren.\n"
      ]
    },
    {
      "cell_type": "markdown",
      "metadata": {
        "id": "ZRheiptS9ueZ"
      },
      "source": [
        "<h2>GitPython</h2>\n",
        "\n",
        "GitPython ist ein Modul, das eine allgemeine git Schnittstelle zur Verfügung stellt, unabhängig von der Umgebung, in der das Repository liegt. Ein ausführliches Tutorial findet man hier: https://gitpython.readthedocs.io/en/stable/tutorial.html, weitere Infos findet man in zahlreichen Artikeln im Internet, z. B. \n",
        "* https://azzamsa.com/n/gitpython-intro/\n",
        "* https://www.devdungeon.com/content/working-git-repositories-python "
      ]
    },
    {
      "cell_type": "markdown",
      "metadata": {
        "id": "Rdav972f7DqK"
      },
      "source": [
        "<h2>PyGithub</h2>\n",
        "\n",
        "PyGithub ist die meistverwendete Python API für Github. Dokumentation findet man hier: https://pygithub.readthedocs.io/en/latest/reference.html, zusätzliche Infos in zahlreichen Artikeln im Internet, z. B. \n",
        "* https://towardsdatascience.com/all-the-things-you-can-do-with-github-api-and-python-f01790fca131\n",
        "* https://chase-seibert.github.io/blog/2016/07/22/pygithub-examples.html\n",
        "* https://www.thepythoncode.com/article/using-github-api-in-python\n",
        "\n",
        "Bevor wir mit Github kommunizieren können, müssen wir ein Access Token generieren lassen. Das geht auf der Seite https://github.com/settings/tokens. Man wird dann gefragt, welche Typen von Aktionen (scopes) man mit dem Token machen will; man sollte vorsichtig sein bei Aktionen, die mit write:, delete: oder admin: beginnen, denn mit diesen kann man mehr kaputt machen. Information zu den Scopes gibt es hier: https://developer.github.com/apps/building-oauth-apps/understanding-scopes-for-oauth-apps/. "
      ]
    },
    {
      "cell_type": "markdown",
      "metadata": {
        "id": "7YrdIOMeD4Rd"
      },
      "source": [
        "<h2>python-gitlab</h2>\n",
        "\n",
        "python-gitlab ist die Python API für Gitlab. Dokumentation zum Loslegen findet man hier https://python-gitlab.readthedocs.io/en/stable/api-usage.html, zusätzliche Infos in einigen Artikeln im Internet. Ich habe nicht so viele allgemeine Artikel und Beispiele gefunden (die meisten behandeln Continuous Integration), aber z. B. diese:\n",
        "* Einführungs-Video https://youtu.be/LhVKAwvOg9o\n",
        "* https://dzone.com/articles/using-gitlab-rest-api-to-create-projects \n",
        "* Code-Beispiele https://www.programcreek.com/python/?action=search_nlp&CodeExample=gitlab&submit=Search\n",
        "* Kommentare in Chinesisch, aber der Code spricht für sich selbst: https://blog.csdn.net/xie_0723/article/details/75215869\n",
        "\n",
        "<br/>Gitlab Continous Integration: \n",
        "* https://machine-learning-blog.de/2019/10/10/continuous-integration-tutorial-gitlab-cicd-einrichten/ \n",
        "* https://dev.to/ruanbekker/setup-a-basic-ci-pipeline-on-gitlab-3ndh\n",
        "* https://www.section.io/engineering-education/building-a-cicd-pipeline-using-gitlab/\n",
        "* https://dzone.com/articles/creating-a-devops-toolbox-for-gitlab-ci\n",
        "* https://medium.com/cubemail88/setting-gitlab-ci-cd-for-python-application-b59f1fb70efe"
      ]
    }
  ]
}