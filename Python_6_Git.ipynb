{
  "nbformat": 4,
  "nbformat_minor": 0,
  "metadata": {
    "colab": {
      "name": "Python_6_Git.ipynb",
      "provenance": [],
      "authorship_tag": "ABX9TyPTmDJJiWVs7HO8LcczcT7o",
      "include_colab_link": true
    },
    "kernelspec": {
      "name": "python3",
      "display_name": "Python 3"
    },
    "language_info": {
      "name": "python"
    }
  },
  "cells": [
    {
      "cell_type": "markdown",
      "metadata": {
        "id": "view-in-github",
        "colab_type": "text"
      },
      "source": [
        "<a href=\"https://colab.research.google.com/github/michael-wettach/pythonsamples/blob/main/Python_6_Git.ipynb\" target=\"_parent\"><img src=\"https://colab.research.google.com/assets/colab-badge.svg\" alt=\"Open In Colab\"/></a>"
      ]
    },
    {
      "cell_type": "markdown",
      "metadata": {
        "id": "iuBPVslO5-m_"
      },
      "source": [
        "<h1>Module zur Interaktion mit git Repositories</h1>\n",
        "\n",
        "Eine allgemeine Dokumentation zu Git gibt es kostenlos als elektronisches Buch, sogar in Deutsch, hier: https://git-scm.com/book/de/v2, übrigens auch als PDF zum Download. \n",
        "\n",
        "Eine git Einführung für Entwickler (ohne speziellen Bezug zu Python) gibt es auf der Seite https://realpython.com/python-git-github-intro/. Die haben auch eine Einführung in Continuous Integration mit Python Beispielen: https://realpython.com/python-continuous-integration/.\n",
        "\n",
        "Die Gemeinsamkeiten und Unterschiede von Github und Gitlab lassen sich auch mit Python-Beispielen erkunden. Ich stelle deshalb einige Module vor, die mit diesen Umgebungen kommunizieren.\n"
      ]
    },
    {
      "cell_type": "markdown",
      "metadata": {
        "id": "ZRheiptS9ueZ"
      },
      "source": [
        "<h2>GitPython</h2>\n",
        "\n",
        "GitPython ist ein Modul, das eine allgemeine git Schnittstelle zur Verfügung stellt, unabhängig von der Umgebung, in der das Repository liegt. Ein ausführliches Tutorial findet man hier: https://gitpython.readthedocs.io/en/stable/tutorial.html, weitere Infos findet man in zahlreichen Artikeln im Internet, z. B. \n",
        "* https://azzamsa.com/n/gitpython-intro/\n",
        "* https://www.devdungeon.com/content/working-git-repositories-python "
      ]
    },
    {
      "cell_type": "markdown",
      "metadata": {
        "id": "Rdav972f7DqK"
      },
      "source": [
        "<h2>PyGithub</h2>\n",
        "\n",
        "PyGithub ist die meistverwendete Python API für Github. Dokumentation findet man hier: https://pygithub.readthedocs.io/en/latest/reference.html, zusätzliche Infos in zahlreichen Artikeln im Internet, z. B. \n",
        "* https://towardsdatascience.com/all-the-things-you-can-do-with-github-api-and-python-f01790fca131\n",
        "* https://chase-seibert.github.io/blog/2016/07/22/pygithub-examples.html\n",
        "* https://www.thepythoncode.com/article/using-github-api-in-python\n",
        "\n",
        "Bevor wir mit Github kommunizieren können, müssen wir ein Access Token generieren lassen. Das geht auf der Seite https://github.com/settings/tokens. Man wird dann gefragt, welche Typen von Aktionen (scopes) man mit dem Token machen will; man sollte vorsichtig sein bei Aktionen, die mit write:, delete: oder admin: beginnen, denn mit diesen kann man mehr kaputt machen. Information zu den Scopes gibt es hier: https://developer.github.com/apps/building-oauth-apps/understanding-scopes-for-oauth-apps/. "
      ]
    },
    {
      "cell_type": "code",
      "metadata": {
        "id": "klEa65iPXO1w"
      },
      "source": [
        "# Das Modul müssen wir erst installieren\n",
        "!pip install PyGithub\n"
      ],
      "execution_count": null,
      "outputs": []
    },
    {
      "cell_type": "code",
      "metadata": {
        "colab": {
          "base_uri": "https://localhost:8080/"
        },
        "id": "1RjPlCYOVcIT",
        "outputId": "8846e6e8-78e4-46d5-ea5f-89478f33ba02"
      },
      "source": [
        "# Und importieren\n",
        "from github import Github\n",
        "\n",
        "# Dann lese ich den Access Token aus einer Datei\n",
        "with open(\"github-access-token.txt\", \"r\") as fh:\n",
        "    my_token = fh.readline().strip()       # strip() vermeidet Newline-Probleme\n",
        "\n",
        "# Mit dem Token kann ich ein Github Objekt erzeugen\n",
        "g = Github(my_token)\n",
        "\n",
        "# Zeige die Repositories eines Benutzers\n",
        "user = g.get_user(\"michael-wettach\")\n",
        "for repo in user.get_repos():\n",
        "    print(repo)\n",
        "\n",
        "# Lies eine Datei aus einem Repository\n",
        "repo = g.get_repo(\"michael-wettach/pythonsamples\")\n",
        "file = repo.get_contents(\"README.md\", ref=\"main\")    # hole aus branch \"main\"\n",
        "data = file.decoded_content.decode(\"utf-8\")          # und lies den Text\n",
        "print(data)"
      ],
      "execution_count": null,
      "outputs": [
        {
          "output_type": "stream",
          "text": [
            "Repository(full_name=\"michael-wettach/pythonsamples\")\n",
            "# pythonsamples\n",
            "Dieses Repository ist eine Sammlung von Python-Codebeispielen, die ich \n",
            "(auf Basis von Internet-Artikeln, Tutorials und anderen Code-Beispielen) \n",
            "entwickelt habe zur Weitergabe von Python Know-how in einem Projekt.\n",
            "\n"
          ],
          "name": "stdout"
        }
      ]
    },
    {
      "cell_type": "markdown",
      "metadata": {
        "id": "7YrdIOMeD4Rd"
      },
      "source": [
        "<h2>python-gitlab</h2>\n",
        "\n",
        "python-gitlab ist die Python API für Gitlab. Dokumentation zum Loslegen findet man hier https://python-gitlab.readthedocs.io/en/stable/api-usage.html, zusätzliche Infos in einigen Artikeln im Internet. Ich habe nicht so viele allgemeine Artikel und Beispiele gefunden (die meisten behandeln Continuous Integration), aber z. B. diese:\n",
        "* Einführungs-Video https://youtu.be/LhVKAwvOg9o\n",
        "* https://dzone.com/articles/using-gitlab-rest-api-to-create-projects \n",
        "* Code-Beispiele https://www.programcreek.com/python/?action=search_nlp&CodeExample=gitlab&submit=Search\n",
        "* Kommentare in Chinesisch, aber der Code spricht für sich selbst: https://blog.csdn.net/xie_0723/article/details/75215869\n",
        "\n",
        "<br/>Gitlab Continous Integration: \n",
        "* https://machine-learning-blog.de/2019/10/10/continuous-integration-tutorial-gitlab-cicd-einrichten/ \n",
        "* https://dev.to/ruanbekker/setup-a-basic-ci-pipeline-on-gitlab-3ndh\n",
        "* https://www.section.io/engineering-education/building-a-cicd-pipeline-using-gitlab/\n",
        "* https://dzone.com/articles/creating-a-devops-toolbox-for-gitlab-ci\n",
        "* https://medium.com/cubemail88/setting-gitlab-ci-cd-for-python-application-b59f1fb70efe\n",
        "\n",
        "Auch in Gitlab braucht man einen persönlichen access token, den man sich hier erstellen kann: https://gitlab.com/-/profile/personal_access_tokens "
      ]
    },
    {
      "cell_type": "code",
      "metadata": {
        "id": "QQmIiYRgnWhS"
      },
      "source": [
        "# Das Modul müssen wir erst installieren\n",
        "!pip install python-gitlab"
      ],
      "execution_count": null,
      "outputs": []
    },
    {
      "cell_type": "code",
      "metadata": {
        "colab": {
          "base_uri": "https://localhost:8080/"
        },
        "id": "7eR2tlHuoeQl",
        "outputId": "d75d899a-55e7-43e6-c414-35532ef7939a"
      },
      "source": [
        "# und importieren\n",
        "import gitlab\n",
        "import base64\n",
        "\n",
        "# Dann lese ich den Access Token aus einer Datei\n",
        "with open(\"gitlab-access-token.txt\", \"r\") as fh:\n",
        "    my_token = fh.readline().strip()       # strip() vermeidet Newline-Probleme\n",
        "\n",
        "# Mit dem Token kann ich ein Gitlab Objekt erzeugen.\n",
        "gl = gitlab.Gitlab('https://gitlab.com/', private_token=my_token)\n",
        "\n",
        "# Suche nach einem bestimmten User\n",
        "# https://python-gitlab.readthedocs.io/en/stable/gl_objects/users.html\n",
        "user = gl.users.list(username='mwettach')[0]\n",
        "print(user.id, user.name, user.web_url)           # name könnte ich auch ändern\n",
        "\n",
        "# Suche nach einem bestimmten Projekt\n",
        "# https://python-gitlab.readthedocs.io/en/stable/gl_objects/projects.html\n",
        "for project in gl.projects.list(search='pythonsamples'):\n",
        "    if project.path_with_namespace == 'mwettach/pythonsamples':\n",
        "        print(project)\n",
        "        print(project.id, project.name, project.namespace[\"name\"])\n",
        "        my_project = project\n",
        "\n",
        "# Lies eine Datei aus einem Projekt\n",
        "for item in my_project.repository_tree(path='.', ref='main'):\n",
        "    if item['name'] == 'README.md':\n",
        "        file_info = my_project.repository_blob(item['id'])\n",
        "        content = base64.b64decode(file_info['content'])\n",
        "        print(content.decode('utf-8'))\n"
      ],
      "execution_count": 47,
      "outputs": [
        {
          "output_type": "stream",
          "text": [
            "9242560 Michael Wettach https://gitlab.com/mwettach\n",
            "<class 'gitlab.v4.objects.projects.Project'> => {'id': 27863540, 'description': 'Zum Ausprobieren der Gitlab-Funktionalität', 'name': 'pythonsamples', 'name_with_namespace': 'Michael Wettach / pythonsamples', 'path': 'pythonsamples', 'path_with_namespace': 'mwettach/pythonsamples', 'created_at': '2021-07-02T14:09:26.981Z', 'default_branch': 'main', 'tag_list': [], 'topics': [], 'ssh_url_to_repo': 'git@gitlab.com:mwettach/pythonsamples.git', 'http_url_to_repo': 'https://gitlab.com/mwettach/pythonsamples.git', 'web_url': 'https://gitlab.com/mwettach/pythonsamples', 'readme_url': 'https://gitlab.com/mwettach/pythonsamples/-/blob/main/README.md', 'avatar_url': None, 'forks_count': 0, 'star_count': 0, 'last_activity_at': '2021-07-02T14:09:26.981Z', 'namespace': {'id': 12607832, 'name': 'Michael Wettach', 'path': 'mwettach', 'kind': 'user', 'full_path': 'mwettach', 'parent_id': None, 'avatar_url': 'https://secure.gravatar.com/avatar/37555bc10fbd6a9cffb27793ee10c4dc?s=80&d=identicon', 'web_url': 'https://gitlab.com/mwettach'}, 'container_registry_image_prefix': 'registry.gitlab.com/mwettach/pythonsamples', '_links': {'self': 'https://gitlab.com/api/v4/projects/27863540', 'issues': 'https://gitlab.com/api/v4/projects/27863540/issues', 'merge_requests': 'https://gitlab.com/api/v4/projects/27863540/merge_requests', 'repo_branches': 'https://gitlab.com/api/v4/projects/27863540/repository/branches', 'labels': 'https://gitlab.com/api/v4/projects/27863540/labels', 'events': 'https://gitlab.com/api/v4/projects/27863540/events', 'members': 'https://gitlab.com/api/v4/projects/27863540/members'}, 'packages_enabled': True, 'empty_repo': False, 'archived': False, 'visibility': 'public', 'owner': {'id': 9242560, 'name': 'Michael Wettach', 'username': 'mwettach', 'state': 'active', 'avatar_url': 'https://secure.gravatar.com/avatar/37555bc10fbd6a9cffb27793ee10c4dc?s=80&d=identicon', 'web_url': 'https://gitlab.com/mwettach'}, 'resolve_outdated_diff_discussions': False, 'container_expiration_policy': {'cadence': '1d', 'enabled': False, 'keep_n': 10, 'older_than': '90d', 'name_regex': '.*', 'name_regex_keep': None, 'next_run_at': '2021-07-03T14:09:27.004Z'}, 'issues_enabled': True, 'merge_requests_enabled': True, 'wiki_enabled': True, 'jobs_enabled': True, 'snippets_enabled': True, 'container_registry_enabled': True, 'service_desk_enabled': True, 'service_desk_address': 'incoming+mwettach-pythonsamples-27863540-issue-@incoming.gitlab.com', 'can_create_merge_request_in': True, 'issues_access_level': 'enabled', 'repository_access_level': 'enabled', 'merge_requests_access_level': 'enabled', 'forking_access_level': 'enabled', 'wiki_access_level': 'enabled', 'builds_access_level': 'enabled', 'snippets_access_level': 'enabled', 'pages_access_level': 'enabled', 'operations_access_level': 'enabled', 'analytics_access_level': 'enabled', 'emails_disabled': None, 'shared_runners_enabled': False, 'lfs_enabled': True, 'creator_id': 9242560, 'import_status': 'none', 'open_issues_count': 0, 'ci_default_git_depth': 50, 'ci_forward_deployment_enabled': True, 'ci_job_token_scope_enabled': True, 'public_jobs': True, 'build_timeout': 3600, 'auto_cancel_pending_pipelines': 'enabled', 'build_coverage_regex': None, 'ci_config_path': '', 'shared_with_groups': [], 'only_allow_merge_if_pipeline_succeeds': False, 'allow_merge_on_skipped_pipeline': None, 'restrict_user_defined_variables': False, 'request_access_enabled': True, 'only_allow_merge_if_all_discussions_are_resolved': False, 'remove_source_branch_after_merge': True, 'printing_merge_request_link_enabled': True, 'merge_method': 'merge', 'squash_option': 'default_off', 'suggestion_commit_message': None, 'auto_devops_enabled': False, 'auto_devops_deploy_strategy': 'continuous', 'autoclose_referenced_issues': True, 'keep_latest_artifact': True, 'approvals_before_merge': 0, 'mirror': False, 'external_authorization_classification_label': '', 'marked_for_deletion_at': None, 'marked_for_deletion_on': None, 'requirements_enabled': True, 'security_and_compliance_enabled': True, 'compliance_frameworks': [], 'issues_template': None, 'merge_requests_template': None, 'permissions': {'project_access': {'access_level': 40, 'notification_level': 3}, 'group_access': None}}\n",
            "27863540 pythonsamples Michael Wettach\n",
            "# pythonsamples\n",
            "\n",
            "Zum Ausprobieren der Gitlab-Funktionalität\n"
          ],
          "name": "stdout"
        }
      ]
    }
  ]
}